{
  "nbformat": 4,
  "nbformat_minor": 0,
  "metadata": {
    "colab": {
      "name": "EVALUACION9.ipynb",
      "provenance": [],
      "include_colab_link": true
    },
    "kernelspec": {
      "name": "python3",
      "display_name": "Python 3"
    },
    "language_info": {
      "name": "python"
    }
  },
  "cells": [
    {
      "cell_type": "markdown",
      "metadata": {
        "id": "view-in-github",
        "colab_type": "text"
      },
      "source": [
        "<a href=\"https://colab.research.google.com/github/escuelaDeCodigoMargaritaMaza/Python/blob/main/09.PROGRAMACION_FUNCIONAL/sOLUCION_EVALUACION9.ipynb\" target=\"_parent\"><img src=\"https://colab.research.google.com/assets/colab-badge.svg\" alt=\"Open In Colab\"/></a>"
      ]
    },
    {
      "cell_type": "markdown",
      "source": [
        "# **Práctica 9. Programación funcional. (6 puntos)**"
      ],
      "metadata": {
        "id": "MaAC_3ey1Wdh"
      }
    },
    {
      "cell_type": "markdown",
      "source": [
        "## **Ejercicio 1 (2 puntos)**\n",
        "Realice un programa que pregunte aleatoriamente una multiplicación. El programa debe indicar si la respuesta ha sido correcta o no (en caso que la respuesta sea incorrecta el programa debe indicar cuál es la correcta). El programa preguntará 10 multiplicaciones, y al finalizar mostrará el número de aciertos.\n",
        "\n",
        "### Análisis\n",
        "* Hacemos un bucle con 10 iteraciones, en cada iteración se inicializan dos números con un valor aleatorio (de 2 a 10). Se calcula la multiplicación.\n",
        "\n",
        "* Mostramos la multiplicación, y pedimos por teclado el resultado. Si coincide con la multiplicación calculada cuento un acierto, sino escribimos un mensaje de error mostrando el resultado correcto. Cuando salimos del bucle mostramos el número de aciertos.\n",
        "\n",
        "Ejemplo. imprime una multiplicacion (9 * 8 = )por teclado se ingresa la respuesta, eso pasa 10 veces y al final nos imprime cuantas respuestas fueron correctas.\n",
        "\n",
        "Recuerda el import random."
      ],
      "metadata": {
        "id": "FA34kGtT1fzS"
      }
    },
    {
      "cell_type": "code",
      "source": [
        "import random\n",
        "\n",
        "def multiplicando():\n",
        "  aciertos = 0 \n",
        "  \n",
        "  for num in range(1,11):\n",
        "    \n",
        "    x = random.randint(2, 10)\n",
        "    y = random.randint(2, 10)\n",
        "\n",
        "    producto_x_y = x*y\n",
        "\n",
        "    print(f'Multiplicaicón {num}')\n",
        "    print(f'{x} * {y} = ')\n",
        "    \n",
        "    tu_respuesta = int(input(\"Aquí tu respuesta:\\n\"))\n",
        "    \n",
        "    if tu_respuesta == producto_x_y:\n",
        "      aciertos = aciertos + 1\n",
        "    else:\n",
        "      print(\"Erraste. El resultado es: \", producto_x_y)\n",
        "\n",
        "  print(f'''\n",
        "  Tu puntaje es:\n",
        "  {aciertos} correctas\n",
        "      ''')\n",
        "\n",
        "multiplicando()"
      ],
      "metadata": {
        "id": "nLgJmayY3wus"
      },
      "execution_count": null,
      "outputs": []
    },
    {
      "cell_type": "markdown",
      "source": [
        "## **Ejercicio 2 (2 puntos)**\n",
        "\n",
        "Obtener el cuadrado de todos los elementos en la lista.\n",
        "\n",
        "Lista: [1,2,3,4,5,6,7,8,9,10]"
      ],
      "metadata": {
        "id": "NB-YgYjZ1v0k"
      }
    },
    {
      "cell_type": "code",
      "source": [
        "lista = [1,2,3,4,5,6,7,8,9,10]\n",
        "\n",
        "def potenciaAlcuadrado(lista):\n",
        "  ls2 = [i**2 for i in lista]\n",
        "  print(\"Los cuadrados de los números en la lista son: \")\n",
        "  return ls2\n",
        "\n",
        "potenciaAlcuadrado(lista) "
      ],
      "metadata": {
        "id": "CaoROWBN3xsX"
      },
      "execution_count": null,
      "outputs": []
    },
    {
      "cell_type": "markdown",
      "source": [
        "## **Ejercicio 3 (2 puntos)**\n",
        "\n",
        "Obtener la cantidad de elementos mayores a 5 en la tupla.\n",
        "\n",
        "tupla = (5,2,6,7,8,10,77,55,2,1,30,4,2,3)"
      ],
      "metadata": {
        "id": "1M6Jbryx1zVW"
      }
    },
    {
      "cell_type": "code",
      "source": [
        "tupla = (5,2,6,7,8,10,77,55,2,1,30,4,2,3)\n",
        "\n",
        "def filtro(x):\n",
        "  if x>5:\n",
        "    return True\n",
        "  else:\n",
        "    return False\n",
        "\n",
        "mayor= filter(filtro,tupla)\n",
        "\n",
        "for x in mayor:\n",
        "   print(x)"
      ],
      "metadata": {
        "id": "gA7YNCAf3ynT"
      },
      "execution_count": null,
      "outputs": []
    },
    {
      "cell_type": "markdown",
      "source": [
        "## **Ejercicio 4 (2 puntos)**\n",
        "\n",
        "Obtener la suma de todos los elementos en la lista.\n",
        "\n",
        "lista = [1,2,3,4]"
      ],
      "metadata": {
        "id": "Z-YeuRv913Rz"
      }
    },
    {
      "cell_type": "code",
      "execution_count": 4,
      "metadata": {
        "id": "u_rKMgrZ1Q88",
        "outputId": "b802f1d5-d88e-423a-bbd9-416005fa4932",
        "colab": {
          "base_uri": "https://localhost:8080/"
        }
      },
      "outputs": [
        {
          "output_type": "stream",
          "name": "stdout",
          "text": [
            "10\n"
          ]
        }
      ],
      "source": [
        "from functools import reduce\n",
        "\n",
        "def add(x, y):\n",
        "  return x + y\n",
        "lista = [1,2,3,4]\n",
        "\n",
        "print(reduce(add, lista))"
      ]
    }
  ]
}
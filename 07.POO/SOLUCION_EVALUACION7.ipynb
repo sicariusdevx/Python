{
  "nbformat": 4,
  "nbformat_minor": 0,
  "metadata": {
    "colab": {
      "provenance": [],
      "include_colab_link": true
    },
    "kernelspec": {
      "name": "python3",
      "display_name": "Python 3"
    },
    "language_info": {
      "name": "python"
    }
  },
  "cells": [
    {
      "cell_type": "markdown",
      "metadata": {
        "id": "view-in-github",
        "colab_type": "text"
      },
      "source": [
        "<a href=\"https://colab.research.google.com/github/escuelaDeCodigoMargaritaMaza/Python/blob/main/07.POO/SOLUCION_EVALUACION7.ipynb\" target=\"_parent\"><img src=\"https://colab.research.google.com/assets/colab-badge.svg\" alt=\"Open In Colab\"/></a>"
      ]
    },
    {
      "cell_type": "markdown",
      "source": [
        "# **Práctica 7. Programación orientada a objetos. (6 puntos)**"
      ],
      "metadata": {
        "id": "G3BYNXZfiJCL"
      }
    },
    {
      "cell_type": "markdown",
      "source": [
        "## **Ejercicio 1 (2 puntos)**\n",
        "\n",
        "Vamos a crear una clase llamada Persona. Sus atributos son: nombre, edad y DNI. Construye los siguientes métodos para la clase:\n",
        "\n",
        "● Un constructor, donde los datos pueden estar vacíos.\n",
        "\n",
        "● Los setters y getters para cada uno de los atributos. Hay que validar las entradas de datos.\n",
        "\n",
        "● mostrar(): Muestra los datos de la persona.\n",
        "\n",
        "● esMayorDeEdad(): Devuelve un valor lógico indicando si es mayor de edad."
      ],
      "metadata": {
        "id": "8hWPleqdiPBR"
      }
    },
    {
      "cell_type": "code",
      "source": [
        "class Persona:\n",
        "  def __init__(self, nombre=\"\", edad=0, dni=\"\"):\n",
        "    self.__nombre = nombre\n",
        "    self.__edad = edad\n",
        "    self.__dni = dni\n",
        "  \n",
        "  @property\n",
        "  def nombre(self):\n",
        "    return self.__nombre\n",
        "  \n",
        "  @nombre.setter\n",
        "  def nombre(self, otro):\n",
        "    self.__nombre = otro\n",
        "    print(\"El nombre modificado, es: \", self.nombre)\n",
        "    return self.__nombre  \n",
        "\n",
        "  @property\n",
        "  def edad(self):\n",
        "    return self.__edad\n",
        "  \n",
        "  @edad.setter\n",
        "  def edad(self, actual):\n",
        "    if actual <= 0 or actual > 110:\n",
        "      print(\"Edad no válida\")\n",
        "      self.__edad = 0\n",
        "    else:  \n",
        "      self.__edad = actual\n",
        "      print(\"La edad actualizada es: \", self.edad)\n",
        "    return self.__edad    \n",
        "\n",
        "  @property\n",
        "  def dni(self):\n",
        "    return self.__dni\n",
        "\n",
        "  @dni.setter\n",
        "  def dni(self, nuevo):\n",
        "    if len(nuevo)!= 18:\n",
        "      print(\"Los carácteres la clave de registro están incompletos.\")\n",
        "      self.__dni = \"\"\n",
        "    else:\n",
        "      self.__dni = nuevo \n",
        "      print(\"La nueva clave registrada es: \", self.dni )\n",
        "    return self.__dni\n",
        "\n",
        "  def mostrar(self):\n",
        "      print(f'>>>|Nombre: {self.nombre}| |Edad: {self.edad}| |DNI: {self.dni}|')\n",
        "  \n",
        "  def MayorDeEdad(self):\n",
        "    if self.edad > 18:\n",
        "      return \"Si es mayor de edad.\"\n",
        "    \n",
        "persona1 = Persona(\"Román\", 25, \"AYBK9009099XMCDDA01\")\n",
        "\n",
        "persona1.edad = -19\n",
        "persona1.nombre = \"Teodoro\"\n",
        "persona1.dni = \"AYBK900909XMCDDA0\"\n",
        "\n",
        "#persona1.mostrar()\n",
        "\n",
        "#persona1.MayorDeEdad()"
      ],
      "metadata": {
        "id": "8SGT2Zo24xM-"
      },
      "execution_count": null,
      "outputs": []
    },
    {
      "cell_type": "markdown",
      "source": [
        "## **Ejercicio 2 (2 puntos)**\n",
        "\n",
        "Crea una clase llamada Cuenta que tendrá los siguientes atributos: titular (que es una persona) y cantidad (puede tener decimales). El titular será obligatorio y la cantidad es opcional. Construye los siguientes métodos para la clase:\n",
        "\n",
        "● Un constructor, donde los datos pueden estar vacíos.\n",
        "\n",
        "● Los setters y getters para cada uno de los atributos. El atributo no se puede modificar directamente, sólo ingresando o retirando dinero.\n",
        "\n",
        "● mostrar(): Muestra los datos de la cuenta.\n",
        "\n",
        "● ingresar(cantidad): se ingresa una cantidad a la cuenta, si la cantidad introducida es negativa, no se hará nada.\n",
        "\n",
        "● retirar(cantidad): se retira una cantidad a la cuenta. La cuenta puede estar en números rojos."
      ],
      "metadata": {
        "id": "FNn7COfGiXrv"
      }
    },
    {
      "cell_type": "code",
      "source": [
        "class Cuenta():\n",
        "  def __init__(self,titular,cantidad):\n",
        "    self.__titular=titular\n",
        "    self.__cantidad=cantidad\n",
        "  @property\n",
        "  def titular(self):\n",
        "    return self.__titular\n",
        "  @property\n",
        "  def cantidad(self):\n",
        "    return self.__cantidad\n",
        "  @titular.setter\n",
        "  def titular(self,titular):\n",
        "    self.__titular=titular\n",
        "  def mostrar(self):\n",
        "    return \"Titular:\"+self.titular +\" -Cantidad:\"+ str(self.cantidad)\n",
        "  def ingresar(self,cantidad):\n",
        "    if cantidad > 0:\n",
        "      self.__cantidad = self.__cantidad + cantidad\n",
        "  def retirar(self,cantidad):\n",
        "    if cantidad > 0:\n",
        "      self.__cantidad = self.__cantidad - cantidad\n",
        "\n",
        "usuario1=Cuenta('David Santillán',5000)\n",
        "usuario1.ingresar(-500)\n",
        "usuario1.mostrar()"
      ],
      "metadata": {
        "colab": {
          "base_uri": "https://localhost:8080/",
          "height": 35
        },
        "id": "Ywn4yr6WtA18",
        "outputId": "bc8c2b1b-33ad-4402-a8d0-04ff259758c4"
      },
      "execution_count": 43,
      "outputs": [
        {
          "output_type": "execute_result",
          "data": {
            "text/plain": [
              "'Titular:David -Cantidad:5000'"
            ],
            "application/vnd.google.colaboratory.intrinsic+json": {
              "type": "string"
            }
          },
          "metadata": {},
          "execution_count": 43
        }
      ]
    },
    {
      "cell_type": "markdown",
      "source": [
        "## **Ejercicio 3 (2 puntos)**\n",
        "\n",
        "Vamos a definir ahora una “Cuenta Joven”, para ello vamos a crear una nueva clase Cuenta Joven que deriva de la anterior. Cuando se crea esta nueva clase, además del titular y la cantidad se debe guardar una bonificación que estará expresada en tanto por ciento.Construye los siguientes métodos para la clase:\n",
        "\n",
        "● Un constructor.\n",
        "\n",
        "● Los setters y getters para el nuevo atributo.\n",
        "\n",
        "● En esta ocasión los titulares de este tipo de cuenta tienen que ser mayor de edad;, por lo tanto hay que crear un método es Titular Válido ( ) que devuelve verdadero si el titular es mayor de edad pero menor de 25 años y falso en caso contrario.\n",
        "\n",
        "● Además la retirada de dinero sólo se podrá hacer si el titular es válido.\n",
        "\n",
        "● El método mostrar() debe devolver el mensaje de “Cuenta Joven” y la bonificación de la cuenta.\n",
        "\n",
        "● Piensa los métodos heredados de la clase madre que hay que reescribir."
      ],
      "metadata": {
        "id": "HRUmlTsiihhf"
      }
    },
    {
      "cell_type": "code",
      "source": [
        "class CuentaJoven(Cuenta):\n",
        "  def __init__(self,titular,cantidad,bonificacion,edad):\n",
        "    super().__init__(titular,cantidad)\n",
        "    self.bonificacion=bonificacion\n",
        "    self.edad=edad\n",
        "  @property\n",
        "  def bonificacion(self):\n",
        "    return self.__bonificacion\n",
        "  @bonificacion.setter\n",
        "  def bonificacion(self,bonificacion):\n",
        "    self.__bonificacion=bonificacion\n",
        "  def mostrar(self):\n",
        "    return \"Cuenta Joven\\\\\\\\ Titular:\" + self.titular + \" -Cantidad:\" + str(self.cantidad) + \"- Bonificación:\"+str(self.bonificacion)+\"%\"\n",
        "  def esTitularValido(self):\n",
        "    return self.edad < 25 and self.edad > 18\n",
        "  def retirar(self,cantidad):\n",
        "    if self.esTitularValido():\n",
        "      print (\"puesdes retirar el dinero. titular válido\")\n",
        "      super().retirar(cantidad) \n",
        "    elif cantidad > 0:\n",
        "      print (\" No puesdes retirar el dinero. titular no válido\")\n",
        "\n",
        "\n",
        "usuario2=CuentaJoven('Juan',1000,0,29)\n",
        "usuario2.esTitularValido()\n",
        "usuario2.retirar(500)\n",
        "\n",
        "usuario2.mostrar()\n"
      ],
      "metadata": {
        "colab": {
          "base_uri": "https://localhost:8080/",
          "height": 53
        },
        "id": "PdJfcwh2vXMq",
        "outputId": "3c47a5ae-eb3a-44c7-f334-2edfb1c648c5"
      },
      "execution_count": 100,
      "outputs": [
        {
          "output_type": "stream",
          "name": "stdout",
          "text": [
            " No puesdes retirar el dinero. titular no válido\n"
          ]
        },
        {
          "output_type": "execute_result",
          "data": {
            "text/plain": [
              "'Cuenta Joven\\\\\\\\ Titular:Juan -Cantidad:1000- Bonificación:0%'"
            ],
            "application/vnd.google.colaboratory.intrinsic+json": {
              "type": "string"
            }
          },
          "metadata": {},
          "execution_count": 100
        }
      ]
    }
  ]
}
{
  "nbformat": 4,
  "nbformat_minor": 0,
  "metadata": {
    "colab": {
      "provenance": [],
      "authorship_tag": "ABX9TyMPJq7gOM/sR2eRfbgVl3zB",
      "include_colab_link": true
    },
    "kernelspec": {
      "name": "python3",
      "display_name": "Python 3"
    },
    "language_info": {
      "name": "python"
    }
  },
  "cells": [
    {
      "cell_type": "markdown",
      "metadata": {
        "id": "view-in-github",
        "colab_type": "text"
      },
      "source": [
        "<a href=\"https://colab.research.google.com/github/sicariusdevx/Python/blob/main/evaluaciones/Evaluaci%C3%B3n_02.ipynb\" target=\"_parent\"><img src=\"https://colab.research.google.com/assets/colab-badge.svg\" alt=\"Open In Colab\"/></a>"
      ]
    },
    {
      "cell_type": "markdown",
      "source": [
        "#Práctica 2 Números enteros y reales.\n",
        "\n",
        "Realiza los ejercicios de acuerdo a las indicaciones\n",
        "\n",
        "## 2.1 Ejercicio 1 (1.5 puntos)\n",
        "\n",
        "Escribir un programa que convierta un valor dado en grados Fahrenheit a grados Celsius."
      ],
      "metadata": {
        "id": "Pq6VjmQAaGUn"
      }
    },
    {
      "cell_type": "code",
      "source": [
        "print(\"Este programa convierte grados Farenheit a grados Celsius\")\n",
        "grados_f = float(input(\"Introduce la temperatura en grados Farenheit: \"))\n",
        "grados_c = (grados_f - 32)/1.8\n",
        "print(grados_f,\"°F es igual a \",round(grados_c,2),\"°C\")"
      ],
      "metadata": {
        "colab": {
          "base_uri": "https://localhost:8080/"
        },
        "id": "Ft6xzw1FaP--",
        "outputId": "267d40e5-4774-4402-9d26-44c0e8471ce3"
      },
      "execution_count": 3,
      "outputs": [
        {
          "output_type": "stream",
          "name": "stdout",
          "text": [
            "Este programa convierte grados Farenheit a grados Celsius\n",
            "Introduce la temperatura en grados Farenheit: 100\n",
            "100.0 °F es igual a  37.78 °C\n"
          ]
        }
      ]
    },
    {
      "cell_type": "markdown",
      "source": [
        "## 2.2 Ejercicio 2 (1.5 puntos)\n",
        "\n",
        "Dados dos números, mostrar la suma, resta, división y multiplicación de ambos."
      ],
      "metadata": {
        "id": "nH4JR9L8b9_f"
      }
    },
    {
      "cell_type": "code",
      "source": [
        "print(\"Este programa muestra la suma, resta, divisón y multiplicación de dos números.\")\n",
        "a = float(input(\"Primer número: \"))\n",
        "b = float(input(\"Segundo número: \"))\n",
        "print(a,\"+\",b,\"=\",a+b)\n",
        "print(a,\"-\",b,\"=\",a-b)\n",
        "print(a,\"*\",b,\"=\",a*b)\n",
        "print(a,\"/\",b,\"=\",a/b)"
      ],
      "metadata": {
        "colab": {
          "base_uri": "https://localhost:8080/"
        },
        "id": "yBxxKZZlb-9Y",
        "outputId": "179e416e-aa5b-4ef4-d2b8-44f8a031d185"
      },
      "execution_count": 4,
      "outputs": [
        {
          "output_type": "stream",
          "name": "stdout",
          "text": [
            "Este programa muestra la suma, resta, divisón y multiplicación de dos números.\n",
            "Primer número: 15\n",
            "Segundo número: 5.5\n",
            "15.0 + 5.5 = 20.5\n",
            "15.0 - 5.5 = 9.5\n",
            "15.0 * 5.5 = 82.5\n",
            "15.0 / 5.5 = 2.727272727272727\n"
          ]
        }
      ]
    },
    {
      "cell_type": "markdown",
      "source": [
        "## 2.3 Ejercicio 3 (1.5 puntos)\n",
        "\n",
        "Calcular el perímetro y área de un rectángulo dada su base y su altura. Respuesta:"
      ],
      "metadata": {
        "id": "g51416thdlqf"
      }
    },
    {
      "cell_type": "code",
      "source": [
        "print(\"Este programa calcula el perímetro y área de un rectángulo\")\n",
        "base = float(input(\"Introduce la medida de la base: \"))\n",
        "altura = float(input(\"Introduce la medida de la altura: \"))\n",
        "perimetro = 2 * base + 2 * altura\n",
        "area = base * altura\n",
        "print(\"Perímetro: \",perimetro,\"u\")\n",
        "print(\"Área: \",area,\"u^2\")"
      ],
      "metadata": {
        "colab": {
          "base_uri": "https://localhost:8080/"
        },
        "id": "yFzbNfmRdv5G",
        "outputId": "daea85f6-ed3c-4788-fe8a-f85d3648d583"
      },
      "execution_count": 5,
      "outputs": [
        {
          "output_type": "stream",
          "name": "stdout",
          "text": [
            "Este programa calcula el perímetro y área de un rectángulo\n",
            "Introduce la medida de la base: 10\n",
            "Introduce la medida de la altura: 5\n",
            "Perímetro:  30.0 u\n",
            "Área:  50.0 u^2\n"
          ]
        }
      ]
    }
  ]
}
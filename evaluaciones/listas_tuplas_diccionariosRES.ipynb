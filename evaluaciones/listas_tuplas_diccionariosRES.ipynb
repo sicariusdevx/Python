{
  "cells": [
    {
      "cell_type": "markdown",
      "metadata": {
        "id": "view-in-github",
        "colab_type": "text"
      },
      "source": [
        "<a href=\"https://colab.research.google.com/github/sicariusdevx/Python/blob/main/evaluaciones/listas_tuplas_diccionariosRES.ipynb\" target=\"_parent\"><img src=\"https://colab.research.google.com/assets/colab-badge.svg\" alt=\"Open In Colab\"/></a>"
      ]
    },
    {
      "cell_type": "markdown",
      "metadata": {
        "id": "fQjOeIWnPlp6"
      },
      "source": [
        "# LISTAS\n",
        "\n",
        "Vamos a ejemplificar el uso de listas en Python\n",
        "\n",
        "Para crear una lista, asigne una secuencia de valores a una variable. Cada valor está separado por una coma y rodeado por corchetes (``[]``). En el ejemplo siguiente se almacena la lista de algunos paises de América de la variable ``paises``:"
      ]
    },
    {
      "cell_type": "code",
      "execution_count": null,
      "metadata": {
        "id": "ugy6P4WXPlp9"
      },
      "outputs": [],
      "source": [
        "paises = ['Canada', 'EU', 'México', 'Guatemala', 'Belice', 'Honduras', 'El Salvador', 'Micaragua']"
      ]
    },
    {
      "cell_type": "markdown",
      "metadata": {
        "id": "8VGlQS7tPlp-"
      },
      "source": [
        "\n",
        "### Acceder a elementos de lista por índice\n",
        "Puedes acceder a cualquier elemento de una lista poniendo el *index/índice* entre ``[]`` después del nombre de la variable de lista. Los índices comienzan desde 0, por lo que en el siguiente código ``paises[0]``, es el primer elemento de la lista ``paises``:\n"
      ]
    },
    {
      "cell_type": "code",
      "execution_count": null,
      "metadata": {
        "id": "fUgpp7IrPlp-"
      },
      "outputs": [],
      "source": [
        "print('El primer país es', paises[0])\n",
        "print('El segundo país es', paises[1])\n",
        "print('El tercer país es', paises[2])"
      ]
    },
    {
      "cell_type": "markdown",
      "metadata": {
        "id": "DJVeQcsLPlp_"
      },
      "source": [
        "**Nota: Todos los índices inician en 0, es decir en la posición 0 de la lista paises, es Cnada y así sucesivamente**\n",
        "\n",
        "También puedes modificar los valores de una lista mediante un índice. Lo hacemos asignando un nuevo valor, de la misma manera que asignaría un valor a una variable. Por ejemplo, podrías cambiar el nombre de EU en la lista para usar otro:"
      ]
    },
    {
      "cell_type": "code",
      "execution_count": null,
      "metadata": {
        "id": "nU9qRpjaPlp_"
      },
      "outputs": [],
      "source": [
        "paises[1] = 'América'\n",
        "print('Eu es mal llamado también', paises[1])"
      ]
    },
    {
      "cell_type": "markdown",
      "metadata": {
        "id": "5gsNs20iPlp_"
      },
      "source": [
        "### Determinar la longitud de una lista\n",
        "Para obtener la longitud de una lista, utilice la función integrada ``len``. El código siguiente crea una nueva variable,``numero_de_paises`` . El código asigna a esa variable el número de elementos de la lista ``paises`` (8 paises).\n"
      ]
    },
    {
      "cell_type": "code",
      "execution_count": null,
      "metadata": {
        "id": "ZyQ_QLBmPlqA"
      },
      "outputs": [],
      "source": [
        "numero_de_paises = len(paises)\n",
        "print('Hay', numero_de_paises, 'paises en la lista')"
      ]
    },
    {
      "cell_type": "markdown",
      "metadata": {
        "id": "xhyiARMTPlqA"
      },
      "source": [
        "### Agregar valores a listas\n",
        "Las listas en Python son dinámicas: Es decir, puedes agregar y eliminar elementos después de crearlos. Para agregar un elemento a una lista, utilice el método ``.append(value)``.\n",
        "Por ejemplo, el código siguiente agrega la cadena ``'Panama`` al final de la lista ``paises``:"
      ]
    },
    {
      "cell_type": "code",
      "execution_count": null,
      "metadata": {
        "id": "O3OORvOxPlqA"
      },
      "outputs": [],
      "source": [
        "paises.append('Panama')\n",
        "numero_de_paises = len(paises)\n",
        "print('Ahora la lista de paises es de ', numero_de_paises, 'paises.')"
      ]
    },
    {
      "cell_type": "markdown",
      "metadata": {
        "id": "PJaxQJ0LPlqD"
      },
      "source": [
        "### Eliminar valores de una lista\n",
        "Puedes eliminar el último elemento de una lista llamando al método ``.pop()`` de la variable de lista:"
      ]
    },
    {
      "cell_type": "code",
      "execution_count": null,
      "metadata": {
        "id": "yvp1iEgDPlqD"
      },
      "outputs": [],
      "source": [
        "paises.pop() \n",
        "numero_de_paises = len(paises)\n",
        "print('Ahora la lista de paises vuelve a ser de' , numero_de_paises, 'paises.')\n",
        "paises"
      ]
    },
    {
      "cell_type": "markdown",
      "metadata": {
        "id": "qC8rWr6YPlqD"
      },
      "source": [
        "### Índices negativos\n",
        "\n",
        "Hasta ahora hemos visto cómo usar índices para obtener un elemento individual de una lista:\n",
        "Los índices comienzan en cero y aumentan. Los índices negativos comienzan al final de la lista y trabajan hacia atrás.\n",
        "\n",
        "En el ejemplo siguiente, un índice de ``-1`` devuelve el último elemento de una lista. Un índice de ``-2`` retorna del penúltimo al último.\n"
      ]
    },
    {
      "cell_type": "code",
      "execution_count": null,
      "metadata": {
        "id": "VqDI_mSxPlqE"
      },
      "outputs": [],
      "source": [
        "print('El último país es ', paises[-1])\n",
        "print('El penúltimo país es ', paises[-2])"
      ]
    },
    {
      "cell_type": "markdown",
      "metadata": {
        "id": "ct5Cz7GdPlqE"
      },
      "source": [
        "Si quisieras devolver del tercero al último, usarías un índice de ``-3``(y así sucesivamente).\n",
        "### Buscar un valor en una lista\n",
        "Para determinar en qué parte de una lista se almacena un valor, utilizamos el método ``index()`` de la lista. Este método busca el valor y devuelve el índice de ese elemento en la lista. Si no encuentra una coincidencia, devuelve ``-1``.\n",
        "\n",
        "En el ejemplo siguiente se muestra el uso de ``'México`` como valor de índice:"
      ]
    },
    {
      "cell_type": "code",
      "execution_count": null,
      "metadata": {
        "id": "IURPUY1NPlqE"
      },
      "outputs": [],
      "source": [
        "mex_index = paises.index('México')\n",
        "print('México es el', mex_index + 1, 'er pais de la lista')"
      ]
    },
    {
      "cell_type": "markdown",
      "metadata": {
        "id": "K29Jihw8PlqE"
      },
      "source": [
        "## Trabajar con números en listas\n",
        "Vamos a crear una lista con la población de cada país de nuestra lista anterior\n",
        "Para almacenar números con decimales en Python, utilizamos el tipo ``float``."
      ]
    },
    {
      "cell_type": "code",
      "execution_count": null,
      "metadata": {
        "id": "ZC6sUJdkPlqF"
      },
      "outputs": [],
      "source": [
        "poblacion = [37.8, 330.6, 127.1, 16.9, 0.4, 9.2, 6.7, 6.5]"
      ]
    },
    {
      "cell_type": "markdown",
      "metadata": {
        "id": "T0R5Jrx8PlqF"
      },
      "source": [
        "Si quisieramos saber la difencia entre la población de Canada y de México podriamos realizar una resta"
      ]
    },
    {
      "cell_type": "code",
      "execution_count": null,
      "metadata": {
        "id": "ONMyu_-_PlqF"
      },
      "outputs": [],
      "source": [
        "print('En',paises[2],' Hay ',abs(poblacion[0]-poblacion[2]),'millones mas habitantes que en ',paises[0])"
      ]
    },
    {
      "cell_type": "markdown",
      "metadata": {
        "id": "YrZPSUl2PlqF"
      },
      "source": [
        "### min() y max () con listas\n",
        "Python tiene funciones integradas para calcular los números más grandes y más pequeños de una lista. La función ``max()`` devuelve el número más grande y la función ``min()`` devuelve el más pequeño."
      ]
    },
    {
      "cell_type": "code",
      "execution_count": null,
      "metadata": {
        "id": "UzOGefWGPlqG"
      },
      "outputs": [],
      "source": [
        "print('El mayor número de habitantes de la lista es ',max(poblacion))\n",
        "print('El menor número de habitantes de la lista es ',min(poblacion))"
      ]
    },
    {
      "cell_type": "markdown",
      "metadata": {
        "id": "c_IItxeAPlqG"
      },
      "source": [
        "## Manipular datos de lista\n",
        "\n",
        "\n",
        "Puedes recuperar una parte de una lista mediante un ``slice`` (Entendamos slice como una porción, un pedacito, un fragmento, segmento.). ``Slice`` utiliza corchetes, pero en lugar de un solo elemento, tiene los índices inicial y final de los elementos que queremos recuperar. Cuando se utiliza ``slice``, se crea una nueva lista que comienza en el índice inicial y que termina antes (y no incluye) el índice final.\n",
        "\n",
        "La lista de paises tiene ocho elementos. México es el tercero en la lista. Para obtener los paises antes que México, use un ``slice`` para obtener elementos que comienzan en 0 y terminan en 2:"
      ]
    },
    {
      "cell_type": "code",
      "execution_count": null,
      "metadata": {
        "id": "0hQ3ap9uPlqG"
      },
      "outputs": [],
      "source": [
        "paises = ['Canada', 'EU', 'México', 'Guatemala', 'Belice', 'Honduras', 'El Salvador', 'Micaragua']\n",
        "paises_antes_de_mexico = paises[0:2]\n",
        "print(paises_antes_de_mexico)"
      ]
    },
    {
      "cell_type": "code",
      "execution_count": null,
      "metadata": {
        "id": "gTcdEfHVPlqG"
      },
      "outputs": [],
      "source": [
        "paises_despues_de_mexico = paises[3:8]\n",
        "print(paises_despues_de_mexico)"
      ]
    },
    {
      "cell_type": "code",
      "execution_count": null,
      "metadata": {
        "id": "_yfGE6wrPlqH"
      },
      "outputs": [],
      "source": [
        "paises_despues_de_mexico = paises[3:]\n",
        "print(paises_despues_de_mexico)"
      ]
    },
    {
      "cell_type": "markdown",
      "metadata": {
        "id": "Izk92o0CPlqH"
      },
      "source": [
        "### Uniendo listas\n",
        "\n",
        "Has visto cómo puedes usar slices para dividir listas, pero ¿Qué hay de unirlas de nuevo?\n",
        "Para unir dos listas, utilice el operador (`+`) con dos listas para devolver una nueva lista.\n"
      ]
    },
    {
      "cell_type": "code",
      "execution_count": null,
      "metadata": {
        "id": "WktiA6gwPlqH"
      },
      "outputs": [],
      "source": [
        "paises_norte = ['Canada', 'EU', 'México']\n",
        "paises_centro = ['Guatemala', 'Belice', 'Honduras', 'El Salvador', 'Micaragua']\n",
        "lista_unida = paises_norte  + paises_centro\n",
        "print(lista_unida)"
      ]
    },
    {
      "cell_type": "markdown",
      "metadata": {
        "id": "Gon1gpCsPlqH"
      },
      "source": [
        "### Ordenar listas\n",
        "\n",
        "Para ordenar una lista, utilizamos el método ``sort()`` de la lista. Python ordenará una lista de cadenas en orden alfabético y una lista de números en orden numérico:"
      ]
    },
    {
      "cell_type": "code",
      "execution_count": null,
      "metadata": {
        "id": "JvOqO2xiPlqH"
      },
      "outputs": [],
      "source": [
        "lista_unida.sort()\n",
        "print('La lista ordenada quedaría ', lista_unida)"
      ]
    },
    {
      "cell_type": "markdown",
      "metadata": {
        "id": "vG4BFlizPlqI"
      },
      "source": [
        "Para ordenar una lista en forma inversa, llamamos al método ``.sort(reverse=True)`` de la lista:\n"
      ]
    },
    {
      "cell_type": "code",
      "execution_count": null,
      "metadata": {
        "id": "G1TmpkA4PlqI"
      },
      "outputs": [],
      "source": [
        "lista_unida.sort(reverse=True)\n",
        "print('La lista ordenada quedaría ', lista_unida)"
      ]
    },
    {
      "cell_type": "markdown",
      "metadata": {
        "id": "LuJkA4g1PlqI"
      },
      "source": [
        "# DICCIONARIOS"
      ]
    },
    {
      "cell_type": "markdown",
      "metadata": {
        "id": "UWcsShXXPlqI"
      },
      "source": [
        "Las variables de Python pueden almacenar varios tipos de datos. Anteriormente, hemos aprendido que puedes almacenar cadenas y números:\n",
        "\n",
        "alumno = 'Juan'\n",
        "\n",
        "calificacion = 8\n",
        "\n",
        "Aunque esto funciona para cantidades más pequeñas de datos, puede ser cada vez más complejo cuando se trabaja con datos relacionados. Imagina que quieres almacenar información sobre varios alumnos\n",
        "\n",
        "alumno = 'Juan'\n",
        "\n",
        "calificacion = 8\n",
        "\n",
        "alumno = 'Beatriz'\n",
        "\n",
        "calificacion = 10\n",
        "\n",
        "Observa cómo se duplican las variables con prefijos diferentes. Esto puede resultar difícil de manejar. Con frecuencia tendrás que trabajar con conjuntos de datos relacionados, como por ejemplo: el promedio de precipitaciones durante varios meses en distintas ciudades, almacenarlos como valores individuales no es una opción viable. Aquí es donde los diccionarios de Python pueden ayudarnos.\n",
        "\n",
        "Los diccionarios de Python permiten trabajar con conjuntos de datos relacionados. Un diccionario es una colección de pares clave-valor. Piensa que es como un grupo de variables dentro de una cajita, donde la clave es el nombre de la variable y el valor es el valor almacenado en su interior.\n",
        "\n",
        "### Creación de un diccionario\n",
        "\n",
        "Python usa llaves (``{ }``) y dos puntos (``:``) para indicar un diccionario. Puedes crear un diccionario vacío y agregar valores más adelante, o bien rellenarlo en el momento de la creación. Cada clave o valor está separado por dos puntos y el nombre de cada clave se incluye entre comillas como un literal de cadena. Como la clave es un literal de cadena, puede usar el nombre que sea adecuado para describir el valor(Sí el que tu quieras).\n",
        "\n",
        "Ahora crearemos un diccionario para almacenar el nombre del alumno y la calificación:\n",
        "\n",
        "\n"
      ]
    },
    {
      "cell_type": "code",
      "execution_count": null,
      "metadata": {
        "id": "i_UZu4EkPlqI"
      },
      "outputs": [],
      "source": [
        "alumno = {\n",
        "    'nombre':'Juan',\n",
        "    'calificacion': 7\n",
        "}"
      ]
    },
    {
      "cell_type": "markdown",
      "metadata": {
        "id": "VApSAKqTPlqJ"
      },
      "source": [
        "### Lectura de los valores de un diccionario\n",
        "\n",
        "Podemos leer valores dentro de un diccionario. Los objetos de diccionario tienen un método llamado `get` que puedes usar para acceder a un valor mediante su clave. Si queremos imprimir `nombre`, funcionaría de la siguiente manera:"
      ]
    },
    {
      "cell_type": "code",
      "execution_count": null,
      "metadata": {
        "id": "u5P6yhV2PlqJ"
      },
      "outputs": [],
      "source": [
        "print(alumno.get('nombre'))"
      ]
    },
    {
      "cell_type": "markdown",
      "metadata": {
        "id": "Kp5Qydz2PlqJ"
      },
      "source": [
        "También puedes pasar la clave entre corchetes (`[ ]`). Utilizando menos código que `get` y la mayoría de los programadores utilizan esta sintaxis en su lugar. Podemos reescribir el ejemplo anterior de la siguiente forma:"
      ]
    },
    {
      "cell_type": "code",
      "execution_count": null,
      "metadata": {
        "id": "olhFVs-qPlqJ"
      },
      "outputs": [],
      "source": [
        "# alumno['nombre'] es idéntico a usar alumno.get('nombre')\n",
        "print(alumno['nombre')"
      ]
    },
    {
      "cell_type": "markdown",
      "metadata": {
        "id": "MUmtqqtzPlqJ"
      },
      "source": [
        "### Modificación de valores de un diccionario\n",
        "\n",
        "También puedes modificar valores dentro de un objeto de diccionario, con el método `update`. Este método acepta un diccionario como parámetro (sí, parámetro por que un diccionario es un rango de valores) y actualiza los valores existentes con los nuevos que proporciones."
      ]
    },
    {
      "cell_type": "code",
      "execution_count": null,
      "metadata": {
        "id": "1Y4OZlzMPlqK"
      },
      "outputs": [],
      "source": [
        "alumno.update({'nombre': 'Beatriz'})\n",
        "print(alumno)"
      ]
    },
    {
      "cell_type": "markdown",
      "metadata": {
        "id": "NNjrPxC2PlqK"
      },
      "source": [
        "Al igual que se usa el acceso directo de corchetes (`[ ]`) para leer valores, se puede utilizar para modificar valores. La principal diferencia en la sintaxis es que se usa `=` (a veces denominado operador de asignación) para proporcionar un nuevo valor. Para modificar el ejemplo anterior y cambiar el nombre, puedes usar lo siguiente:"
      ]
    },
    {
      "cell_type": "code",
      "execution_count": null,
      "metadata": {
        "id": "BC2K7NejPlqK"
      },
      "outputs": [],
      "source": [
        "alumno['nombre'] = 'Angel'\n",
        "print(alumno)"
      ]
    },
    {
      "cell_type": "markdown",
      "metadata": {
        "id": "Bjhth271PlqK"
      },
      "source": [
        "La principal ventaja de usar `update` es la capacidad de modificar varios valores en una operación. Los dos ejemplos siguientes son lógicamente los mismos, pero la sintaxis es diferente. Puedes usar la sintaxis que creas más adecuada. Para actualizar valores individuales, la mayoría de los desarrolladores eligen corchetes.\n",
        "\n",
        "En el ejemplo siguiente se hacen las mismas modificaciones en la variable `alumno` y se actualizan el nombre y la clificción Ten en cuenta que al usar `update` realizas una sola llamada a la función, mientras que el uso de corchetes implica dos llamadas."
      ]
    },
    {
      "cell_type": "code",
      "execution_count": null,
      "metadata": {
        "id": "JFbsuI0sPlqK"
      },
      "outputs": [],
      "source": [
        "# Usando update\n",
        "alumno.update({\n",
        "    'nombre': 'Miguel',\n",
        "    'calificacion': 9\n",
        "})\n",
        "print(alumno)\n",
        "\n",
        "# Usando corchetes\n",
        "alumno['nombre'] = 'Miguel'\n",
        "alumno['calificacion'] = 9\n",
        "print(alumno)\n",
        "\n"
      ]
    },
    {
      "cell_type": "markdown",
      "metadata": {
        "id": "YogZOrzxPlqL"
      },
      "source": [
        "### Adición y eliminación de claves\n",
        "\n",
        "No es necesario crear todas las claves al inicializar un diccionario. De hecho, no es necesario crear ninguna. Siempre que quieras crear una clave, asígnala como harías con una existente.\n",
        "\n",
        "Imagina que quieres actualizar `alumno` para incluir el apellido :"
      ]
    },
    {
      "cell_type": "code",
      "execution_count": null,
      "metadata": {
        "id": "XKBqVUsKPlqL"
      },
      "outputs": [],
      "source": [
        "alumno['apellido'] = 'Pérez'\n",
        "print(alumno)\n",
        "\n",
        "# el diccionario alumno ahora contiene: {\n",
        "#   nombre: 'Miguel'\n",
        "#   calificcion: 9\n",
        "#   apellido: Pérez\n",
        "# }"
      ]
    },
    {
      "cell_type": "markdown",
      "metadata": {
        "id": "pUW07as8PlqL"
      },
      "source": [
        "Los nombres de una clave, como todo lo demás en Python, distinguen mayúsculas de minúsculas. Como resultado, 'nombre' y 'Nombre' se consideran dos claves independientes en un diccionario de Python.\n",
        "\n",
        "Para quitar una clave, usa `pop`. `pop` devuelve el valor y quita la clave del diccionario. Para eliminar `apellido`, puedes usar el código siguiente:"
      ]
    },
    {
      "cell_type": "code",
      "execution_count": null,
      "metadata": {
        "id": "h284NlEJPlqL"
      },
      "outputs": [],
      "source": [
        "alumno.pop('apellido')\n",
        "print(alumno)\n",
        "\n",
        "# el diccionario alumno ahora contiene: {\n",
        "#   nombre: 'Miguel'\n",
        "#   calificacion: 9\n",
        "# }"
      ]
    },
    {
      "cell_type": "markdown",
      "metadata": {
        "id": "ch8KM57oPlqL"
      },
      "source": [
        "### Tipos de data complejos\n",
        "Los diccionarios pueden almacenar cualquier tipo de valor, incluidos otros diccionarios. Esto te permite modelar datos complejos según sea necesario. Imagina que debes que almacenar las calificaciones por periodo del alumno:"
      ]
    },
    {
      "cell_type": "code",
      "execution_count": null,
      "metadata": {
        "id": "i1w9RMrBPlqM"
      },
      "outputs": [],
      "source": [
        "# Añadimos los datos\n",
        "alumno['periodo'] = {\n",
        "    'periodo1': 8,\n",
        "    'periodo2': 9\n",
        "}\n",
        "\n",
        "print(alumno)"
      ]
    },
    {
      "cell_type": "markdown",
      "source": [
        "# EJERCICIO\n",
        "\n",
        "Vamos a crear y manipular una lista que contiene nombres de alumnos, esta lista contedrá los nombres siguientes: 'Juan','Pedro','Beatriz','Angel','Miguel','Paz'"
      ],
      "metadata": {
        "id": "Lu2pJ7kYQuV1"
      }
    },
    {
      "cell_type": "code",
      "source": [
        "#Crea aqui la lista alumnos e imprime la lista\n",
        "estudiantes = ['Juan','Pedro','Beatriz','Angel','Miguel','Paz']"
      ],
      "metadata": {
        "id": "uAjLm1_0Q1Yd"
      },
      "execution_count": 32,
      "outputs": []
    },
    {
      "cell_type": "markdown",
      "source": [
        "## Solicita al usuario el nombre de un alumno\n",
        "A continuación, agrega el código para solicitar al usuario un nombre. Debido a que las cadenas distinguen entre mayúsculas y minúsculas en Python, píde al usuario que use una letra mayúscula para comenzar el nombre del alumno."
      ],
      "metadata": {
        "id": "PfXMSEXKQ3FF"
      }
    },
    {
      "cell_type": "code",
      "source": [
        "# Aqui crea el código que ingresara elementos a la lista, ingresa tú nombre a la lista vía consola (usando input)\n",
        "estudiantes.append((input(\"Introduce el nombre del estudiante: \").title()))\n",
        "print(estudiantes)"
      ],
      "metadata": {
        "id": "TCHY2BOYQ--N",
        "outputId": "ce77c420-68d9-4d70-a4d7-09edbf14f63c",
        "colab": {
          "base_uri": "https://localhost:8080/"
        }
      },
      "execution_count": 33,
      "outputs": [
        {
          "output_type": "stream",
          "name": "stdout",
          "text": [
            "Introduce el nombre del estudiante: ilia\n",
            "['Juan', 'Pedro', 'Beatriz', 'Angel', 'Miguel', 'Paz', 'Ilia']\n"
          ]
        }
      ]
    },
    {
      "cell_type": "code",
      "source": [
        "#imprime la lista para ver su contenido\n",
        "print(estudiantes)"
      ],
      "metadata": {
        "id": "U65AGUN6Q_h1",
        "outputId": "8638b9cf-5b31-4369-cef7-0650e65b5844",
        "colab": {
          "base_uri": "https://localhost:8080/"
        }
      },
      "execution_count": 10,
      "outputs": [
        {
          "output_type": "stream",
          "name": "stdout",
          "text": [
            "['Juan', 'Pedro', 'Beatriz', 'Angel', 'Miguel', 'Paz', <built-in method title of str object at 0x7fbefbe741f0>, <built-in method title of str object at 0x7fbefbe0b6f0>, <built-in method title of str object at 0x7fbefbed26b0>, 'ilia']\n"
          ]
        }
      ]
    },
    {
      "cell_type": "markdown",
      "source": [
        "##Solicita al usuario el nombre de un alumno a buscar en la lista\n",
        "A continuación, agrega el código para solicitar al usuario un nombre, igresa tu nombre."
      ],
      "metadata": {
        "id": "x4JVxe3GRCFU"
      }
    },
    {
      "cell_type": "code",
      "source": [
        "# igresa aquí el código para solicitar se ingrese el nombre de un alumno a buscar(que sea tu nombre el que se va a buscar)\n",
        "busqueda = input(\"Buscar al estudiante: \").title()"
      ],
      "metadata": {
        "id": "20Dgxp5cRH-0",
        "outputId": "b3e83247-c80a-41a9-8ee0-ab997423aac1",
        "colab": {
          "base_uri": "https://localhost:8080/"
        }
      },
      "execution_count": 34,
      "outputs": [
        {
          "output_type": "stream",
          "name": "stdout",
          "text": [
            "Nombre del alumno: miguel\n",
            "4\n"
          ]
        }
      ]
    },
    {
      "cell_type": "markdown",
      "source": [
        "## Encuentra el alumno en la lista\n",
        "Para determinar qué alumno están más cerca que el que ingresó el usuario, debes encontrar dónde está el usuario en la lista. Puedes utilizar index para realizar esta operación. Agrega el código para encontrar el índice del alumno. (ingresa algún alumno que este en la lista)"
      ],
      "metadata": {
        "id": "TF8z7lJaRLIM"
      }
    },
    {
      "cell_type": "code",
      "source": [
        "# Busca el alumno en la lista e imprime la leyenda 'se ha encontrado al alumno (nombre del alumno)en la lista'\n",
        "print(estudiantes.index(input(\"Nombre del estudiante buscado: \").title()))"
      ],
      "metadata": {
        "id": "PYlHjrvWROZE",
        "outputId": "5f3eaeb7-c018-4acb-f01a-07c017f1b6cf",
        "colab": {
          "base_uri": "https://localhost:8080/"
        }
      },
      "execution_count": 35,
      "outputs": [
        {
          "output_type": "stream",
          "name": "stdout",
          "text": [
            "Nombre del estudiante buscado: ilia\n",
            "6\n"
          ]
        }
      ]
    },
    {
      "cell_type": "markdown",
      "source": [
        "# DICCIONARIOS\n",
        "Para este ejercicio, crearás un diccionario que almacene información sobre paises y su población.\n",
        "\n",
        "Agrega el código para crear un nuevo diccionario denominado 'paises'. Rellena con la siguiente información:\n",
        "\n",
        "pais: México\n",
        "\n",
        "habitantes: 127.5"
      ],
      "metadata": {
        "id": "HrENXFkeRP2C"
      }
    },
    {
      "cell_type": "code",
      "source": [
        "paises = {'pais':'México','habitantes':127.5}"
      ],
      "metadata": {
        "id": "A69X1BATRYv8"
      },
      "execution_count": 36,
      "outputs": []
    },
    {
      "cell_type": "markdown",
      "source": [
        "Para recuperar valores, puede utilizar el método get o corchetes ([ ]) con el nombre de la clave que desea recuperar."
      ],
      "metadata": {
        "id": "CECr1iezRbJE"
      }
    },
    {
      "cell_type": "code",
      "source": [
        "# Muestra el nombre del pais y el número de millones de habitantes que tiene.\n",
        "# formato: México tiene 125.5 millones de habitantes\n",
        "print(paises['pais'])\n",
        "print(paises.get('habitantes'))\n",
        "print(f'El país es {paises[\"pais\"]}')\n"
      ],
      "metadata": {
        "id": "namufxh6Rd04",
        "outputId": "5488a0ee-27fa-4c3c-f23b-a04f74b34bfb",
        "colab": {
          "base_uri": "https://localhost:8080/"
        }
      },
      "execution_count": 43,
      "outputs": [
        {
          "output_type": "stream",
          "name": "stdout",
          "text": [
            "México\n",
            "127.5\n",
            "El país es México\n"
          ]
        }
      ]
    },
    {
      "cell_type": "markdown",
      "source": [
        "Puedes actualizar las claves existentes o crear otras nuevas utilizando el método update o entre corchetes ([ ]). Cuando se usa update, se pasa un nuevo objeto de diccionario con los valores actualizados o nuevos. Cuando se usan corchetes, se especifica el nombre de la clave y se asigna un nuevo valor.\n",
        "\n",
        "Agrega un nuevo valor con una clave de 'datos'. Este nuevo valor debería almacenar un diccionario con dos datos del país:\n",
        "\n",
        "idioma: 'español'\n",
        "\n",
        "moneda: 'peso'"
      ],
      "metadata": {
        "id": "NgewfcMdRgL1"
      }
    },
    {
      "cell_type": "code",
      "source": [
        "#agrega aqui la clave de datos proporcionados\n",
        "paises.update({'datos' : {'idioma':'español','moneda':'peso'}})"
      ],
      "metadata": {
        "id": "ob_9qxIpRiRt"
      },
      "execution_count": 40,
      "outputs": []
    },
    {
      "cell_type": "code",
      "source": [
        "# imprime el nombre del país con sus datos adicionales\n",
        "# formato: México tiene como moneda el pesoy como idioma el español\n",
        "print(paises)"
      ],
      "metadata": {
        "id": "A-yYFcA_RkZV",
        "outputId": "4120e1e9-3839-4b43-fbd9-bb968ba58ab5",
        "colab": {
          "base_uri": "https://localhost:8080/"
        }
      },
      "execution_count": 41,
      "outputs": [
        {
          "output_type": "stream",
          "name": "stdout",
          "text": [
            "{'pais': 'México', 'habitantes': 127.5, 'datos': {'idioma': 'español', 'moneda': 'peso'}}\n"
          ]
        }
      ]
    },
    {
      "cell_type": "markdown",
      "source": [
        "#SOLUCIÓN PROPUESTA LISTAS"
      ],
      "metadata": {
        "id": "j6y4zV96Rnol"
      }
    },
    {
      "cell_type": "code",
      "source": [
        "#Crea aqui la lista alumnos\n",
        "alumnos = ['Juan','Pedro','Beatriz','Angel','Miguel','Paz']\n",
        "print(alumnos)\n"
      ],
      "metadata": {
        "id": "EMbfXtmpRupl"
      },
      "execution_count": null,
      "outputs": []
    },
    {
      "cell_type": "code",
      "source": [
        "# Aqui crea el código que ingresara elementos a la lista, ingresa tú nombres a la lista vía consola (usando input)\n",
        "alumnos.append(input('ingresa el nombre del alumno a ingresar, comenzado con mayúscula'))\n"
      ],
      "metadata": {
        "id": "peFNesoQRwes"
      },
      "execution_count": null,
      "outputs": []
    },
    {
      "cell_type": "code",
      "source": [
        "#imprimimos la lista para comprobar se hayan ingresado los datos\n",
        "print(alumnos)\n"
      ],
      "metadata": {
        "id": "BwFtZRknRyal"
      },
      "execution_count": null,
      "outputs": []
    },
    {
      "cell_type": "code",
      "source": [
        "# igresa aquí el código para solicitar se ingrese el nombre de un alumno a buscar\n",
        "alumno_a_buscar = input('Ingresa el nombre del alumno a buscar en la lista(primera letra en mayúscula)')\n"
      ],
      "metadata": {
        "id": "bC7pFTmvR0Z0"
      },
      "execution_count": null,
      "outputs": []
    },
    {
      "cell_type": "code",
      "source": [
        "# Busca el alumno en la lista e imprime la leyenda 'se ha encontrado al alumno (nombre del alumno)en la lista'\n",
        "\n",
        "alumno_index = alumnos.index(alumno_a_buscar)\n",
        "print('El alumno ',alumno_a_buscar,' si esta en la lista' )"
      ],
      "metadata": {
        "id": "0__Up__SR2Pm"
      },
      "execution_count": null,
      "outputs": []
    },
    {
      "cell_type": "markdown",
      "source": [
        "# SOLUCIÓN PROPUESTA DICCIONARIOS"
      ],
      "metadata": {
        "id": "pS3hQduYR3cs"
      }
    },
    {
      "cell_type": "code",
      "source": [
        "# crea aqui el diccionario\n",
        "paises = {\n",
        "    'pais': 'México',\n",
        "    'habitantes': 125.5\n",
        "}\n"
      ],
      "metadata": {
        "id": "6T2edBZASAN0"
      },
      "execution_count": null,
      "outputs": []
    },
    {
      "cell_type": "code",
      "source": [
        "# Muestra el nombre del pais y el número de millones de habitantes que tiene.\n",
        "# formato: México tiene 125.5 millones de habitantes\n",
        "print(f'{paises[\"pais\"]} tiene {paises[\"habitantes\"]} millones de habitantes')\n"
      ],
      "metadata": {
        "id": "ykFhSv05SB3U"
      },
      "execution_count": null,
      "outputs": []
    },
    {
      "cell_type": "code",
      "source": [
        "#agrega aqui la clave de datos proporcionados\n",
        "paises['datos'] = {\n",
        "    'idioma': 'español',\n",
        "    'moneda': 'peso'\n",
        "}\n"
      ],
      "metadata": {
        "id": "sOVWJl1QSDj8"
      },
      "execution_count": null,
      "outputs": []
    },
    {
      "cell_type": "code",
      "source": [
        "# imprime el nombre del país con sus datos adicionales\n",
        "# formato: México tiene como moneda el peso y como idioma el español\n",
        "print(f'{paises[\"pais\"]} tiene como moneda el {paises[\"datos\"][\"moneda\"]} y como idioma el {paises[\"datos\"][\"idioma\"]}')"
      ],
      "metadata": {
        "id": "43uNUzgpSE8s"
      },
      "execution_count": null,
      "outputs": []
    }
  ],
  "metadata": {
    "kernelspec": {
      "display_name": "Python 3.10.2 64-bit",
      "language": "python",
      "name": "python3"
    },
    "language_info": {
      "codemirror_mode": {
        "name": "ipython",
        "version": 3
      },
      "file_extension": ".py",
      "mimetype": "text/x-python",
      "name": "python",
      "nbconvert_exporter": "python",
      "pygments_lexer": "ipython3",
      "version": "3.10.2"
    },
    "orig_nbformat": 4,
    "vscode": {
      "interpreter": {
        "hash": "8156a36ef2b5e5cc1ebda271ff76bc51e3d60fa787ad119300a3a2fb77f01d4c"
      }
    },
    "colab": {
      "name": "listas_tuplas_diccionarios.ipynb",
      "provenance": [],
      "include_colab_link": true
    }
  },
  "nbformat": 4,
  "nbformat_minor": 0
}
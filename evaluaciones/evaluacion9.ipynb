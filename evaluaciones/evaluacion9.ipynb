{
  "nbformat": 4,
  "nbformat_minor": 0,
  "metadata": {
    "colab": {
      "provenance": [],
      "authorship_tag": "ABX9TyO91/ks3NQk9jsRaOJBUUcQ",
      "include_colab_link": true
    },
    "kernelspec": {
      "name": "python3",
      "display_name": "Python 3"
    },
    "language_info": {
      "name": "python"
    }
  },
  "cells": [
    {
      "cell_type": "markdown",
      "metadata": {
        "id": "view-in-github",
        "colab_type": "text"
      },
      "source": [
        "<a href=\"https://colab.research.google.com/github/sicariusdevx/Python/blob/main/evaluaciones/evaluacion9.ipynb\" target=\"_parent\"><img src=\"https://colab.research.google.com/assets/colab-badge.svg\" alt=\"Open In Colab\"/></a>"
      ]
    },
    {
      "cell_type": "markdown",
      "source": [
        "**Ejercicio 1. (1.5 puntos)** Realice un programa que pregunte aleatoriamente una multiplicación. El programa debe indicar si la respuesta ha sido correcta o no (en caso que la respuesta sea incorrecta el programa debe indicar cuál es la correcta). El programa preguntará 10 multiplicaciones, y al finalizar mostrará el número de aciertos."
      ],
      "metadata": {
        "id": "aKpmAe1kUSG5"
      }
    },
    {
      "cell_type": "code",
      "execution_count": null,
      "metadata": {
        "id": "KwJioHSyURcG"
      },
      "outputs": [],
      "source": []
    },
    {
      "cell_type": "markdown",
      "source": [
        "**Ejercicio 2. (1.5 puntos)** Obtener el cuadrado de todos los elementos en la lista.\n",
        "\n",
        "Lista: 1, 2, 3, 4, 5, 6, 7, 8, 9, 10"
      ],
      "metadata": {
        "id": "mUPKYZOEUqBN"
      }
    },
    {
      "cell_type": "code",
      "source": [],
      "metadata": {
        "id": "ORGoY0DiUxLH"
      },
      "execution_count": null,
      "outputs": []
    },
    {
      "cell_type": "markdown",
      "source": [
        "**Ejercicio 3. (1.5 puntos)** Obtener la cantidad de elementos mayores a 5 en la tupla.\n",
        "\n",
        "tupla = (5, 2, 6, 7, 8, 10, 77, 55, 2, 1, 30, 4, 2, 3)"
      ],
      "metadata": {
        "id": "nUNj5ku4Uxfl"
      }
    },
    {
      "cell_type": "code",
      "source": [],
      "metadata": {
        "id": "PVbB2jISU6UK"
      },
      "execution_count": null,
      "outputs": []
    },
    {
      "cell_type": "markdown",
      "source": [
        "**Ejercicio 4. (1.5 puntos)** Obtener la suma de todos los elementos en la lista."
      ],
      "metadata": {
        "id": "fEkY2Ld8V5jg"
      }
    },
    {
      "cell_type": "code",
      "source": [],
      "metadata": {
        "id": "BsyON5jlV5yT"
      },
      "execution_count": null,
      "outputs": []
    }
  ]
}
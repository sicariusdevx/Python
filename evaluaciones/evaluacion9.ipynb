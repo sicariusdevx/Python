{
  "nbformat": 4,
  "nbformat_minor": 0,
  "metadata": {
    "colab": {
      "provenance": [],
      "authorship_tag": "ABX9TyOIg78Ryh0vyR1g7Wwl7Wng",
      "include_colab_link": true
    },
    "kernelspec": {
      "name": "python3",
      "display_name": "Python 3"
    },
    "language_info": {
      "name": "python"
    }
  },
  "cells": [
    {
      "cell_type": "markdown",
      "metadata": {
        "id": "view-in-github",
        "colab_type": "text"
      },
      "source": [
        "<a href=\"https://colab.research.google.com/github/sicariusdevx/Python/blob/main/evaluaciones/evaluacion9.ipynb\" target=\"_parent\"><img src=\"https://colab.research.google.com/assets/colab-badge.svg\" alt=\"Open In Colab\"/></a>"
      ]
    },
    {
      "cell_type": "markdown",
      "source": [
        "**Ejercicio 1. (1.5 puntos)** Realice un programa que pregunte aleatoriamente una multiplicación. El programa debe indicar si la respuesta ha sido correcta o no (en caso que la respuesta sea incorrecta el programa debe indicar cuál es la correcta). El programa preguntará 10 multiplicaciones, y al finalizar mostrará el número de aciertos."
      ],
      "metadata": {
        "id": "aKpmAe1kUSG5"
      }
    },
    {
      "cell_type": "code",
      "execution_count": 3,
      "metadata": {
        "id": "KwJioHSyURcG",
        "outputId": "b65afb12-e822-4539-c3fd-12ae1d2a7a2c",
        "colab": {
          "base_uri": "https://localhost:8080/"
        }
      },
      "outputs": [
        {
          "output_type": "stream",
          "name": "stdout",
          "text": [
            "Prueba de multiplicaciones\n",
            "Ejercicio 1 --- 5 × 8 = 40\n",
            "¡Acertaste!\n",
            "Ejercicio 2 --- 3 × 3 = 9\n",
            "¡Acertaste!\n",
            "Ejercicio 3 --- 7 × 9 = 63\n",
            "¡Acertaste!\n",
            "Ejercicio 4 --- 2 × 1 = 2\n",
            "¡Acertaste!\n",
            "Ejercicio 5 --- 6 × 4 = 24\n",
            "¡Acertaste!\n",
            "Ejercicio 6 --- 4 × 5 = 20\n",
            "¡Acertaste!\n",
            "Ejercicio 7 --- 5 × 2 = 10\n",
            "¡Acertaste!\n",
            "Ejercicio 8 --- 4 × 0 = 0\n",
            "¡Acertaste!\n",
            "Ejercicio 9 --- 6 × 9 = 54\n",
            "¡Acertaste!\n",
            "Ejercicio 10 --- 8 × 5 = 40\n",
            "¡Acertaste!\n"
          ]
        }
      ],
      "source": [
        "from random import randint\n",
        "\n",
        "print('Prueba de multiplicaciones')\n",
        "\n",
        "for i in range(10):\n",
        "  print(f'Ejercicio {i+1} --- ',end=\"\")\n",
        "  a = randint(0,9)\n",
        "  b = randint(0,9)\n",
        "  resp_usuario = int(input(f'{a} × {b} = '))\n",
        "  if resp_usuario == a*b:\n",
        "    print('¡Acertaste!')\n",
        "  else:\n",
        "    print(f'Respuesta correcta: {a} × {b} = {a*b}')\n",
        "  \n"
      ]
    },
    {
      "cell_type": "markdown",
      "source": [
        "**Ejercicio 2. (1.5 puntos)** Obtener el cuadrado de todos los elementos en la lista.\n",
        "\n",
        "Lista: 1, 2, 3, 4, 5, 6, 7, 8, 9, 10"
      ],
      "metadata": {
        "id": "mUPKYZOEUqBN"
      }
    },
    {
      "cell_type": "code",
      "source": [
        "def cuadrado(x):\n",
        "  return x**2\n",
        "lista = (1,2,3,4,5,6,7,8,9,10)\n",
        "print(lista)\n",
        "print(list(map(cuadrado,lista)))"
      ],
      "metadata": {
        "id": "ORGoY0DiUxLH",
        "outputId": "abddf505-a178-4d2e-da69-100a3d45f3be",
        "colab": {
          "base_uri": "https://localhost:8080/"
        }
      },
      "execution_count": 5,
      "outputs": [
        {
          "output_type": "stream",
          "name": "stdout",
          "text": [
            "(1, 2, 3, 4, 5, 6, 7, 8, 9, 10)\n",
            "[1, 4, 9, 16, 25, 36, 49, 64, 81, 100]\n"
          ]
        }
      ]
    },
    {
      "cell_type": "markdown",
      "source": [
        "**Ejercicio 3. (1.5 puntos)** Obtener la cantidad de elementos mayores a 5 en la tupla.\n",
        "\n",
        "tupla = (5, 2, 6, 7, 8, 10, 77, 55, 2, 1, 30, 4, 2, 3)"
      ],
      "metadata": {
        "id": "nUNj5ku4Uxfl"
      }
    },
    {
      "cell_type": "code",
      "source": [
        "def mayor_a_cinco(x):\n",
        "  if x > 5:\n",
        "    return True\n",
        "tupla = (5, 2, 6, 7, 8, 10, 77, 55, 2, 1, 30, 4, 2, 3)\n",
        "print(f'Hay {len(list(filter(mayor_a_cinco,tupla)))} números mayores a cinco')\n",
        "\n"
      ],
      "metadata": {
        "id": "PVbB2jISU6UK",
        "outputId": "c77becf5-b3b6-457e-f360-4ea3b26c6ccd",
        "colab": {
          "base_uri": "https://localhost:8080/"
        }
      },
      "execution_count": 12,
      "outputs": [
        {
          "output_type": "stream",
          "name": "stdout",
          "text": [
            "Hay 7 números mayores a cinco\n"
          ]
        }
      ]
    },
    {
      "cell_type": "markdown",
      "source": [
        "**Ejercicio 4. (1.5 puntos)** Obtener la suma de todos los elementos en la lista."
      ],
      "metadata": {
        "id": "fEkY2Ld8V5jg"
      }
    },
    {
      "cell_type": "code",
      "source": [
        "from functools import reduce\n",
        "def suma(a,b):\n",
        "  return a+b\n",
        "tupla = (5, 2, 6, 7, 8, 10, 77, 55, 2, 1, 30, 4, 2, 3)\n",
        "print(reduce(suma,tupla))\n"
      ],
      "metadata": {
        "id": "BsyON5jlV5yT",
        "outputId": "ef252d9e-4507-4a13-d77f-61714b087fad",
        "colab": {
          "base_uri": "https://localhost:8080/"
        }
      },
      "execution_count": 13,
      "outputs": [
        {
          "output_type": "stream",
          "name": "stdout",
          "text": [
            "212\n"
          ]
        }
      ]
    }
  ]
}
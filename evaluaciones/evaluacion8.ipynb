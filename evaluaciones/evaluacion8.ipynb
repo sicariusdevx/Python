{
  "nbformat": 4,
  "nbformat_minor": 0,
  "metadata": {
    "colab": {
      "provenance": [],
      "authorship_tag": "ABX9TyNjXuLZLN7Y+W/WzhDFaV4O",
      "include_colab_link": true
    },
    "kernelspec": {
      "name": "python3",
      "display_name": "Python 3"
    },
    "language_info": {
      "name": "python"
    }
  },
  "cells": [
    {
      "cell_type": "markdown",
      "metadata": {
        "id": "view-in-github",
        "colab_type": "text"
      },
      "source": [
        "<a href=\"https://colab.research.google.com/github/sicariusdevx/Python/blob/main/evaluaciones/evaluacion8.ipynb\" target=\"_parent\"><img src=\"https://colab.research.google.com/assets/colab-badge.svg\" alt=\"Open In Colab\"/></a>"
      ]
    },
    {
      "cell_type": "markdown",
      "source": [
        "**Ejercicio 1. (2 puntos)** Escribe un programa Python que pida un número por teclado y que cree un diccionario cuyas claves sean desde el número 1 hasta el número indicado, y los valores sean los cuadrados de las claves."
      ],
      "metadata": {
        "id": "aKpmAe1kUSG5"
      }
    },
    {
      "cell_type": "code",
      "execution_count": null,
      "metadata": {
        "id": "KwJioHSyURcG",
        "outputId": "b773c3b1-8ea5-40df-af96-c9c81839425b",
        "colab": {
          "base_uri": "https://localhost:8080/"
        }
      },
      "outputs": [
        {
          "output_type": "stream",
          "name": "stdout",
          "text": [
            "Diccionario de cuadrados\n",
            "Introduce un número: 8\n",
            "{1: 1, 2: 4, 3: 9, 4: 16, 5: 25, 6: 36, 7: 49, 8: 64}\n"
          ]
        }
      ],
      "source": [
        "print(f'Diccionario de cuadrados')\n",
        "numero = int(input('Introduce un número: '))\n",
        "diccionario = {}\n",
        "for i in range(numero):\n",
        "  diccionario[i+1] = (i+1)**2\n",
        "print(diccionario)\n"
      ]
    },
    {
      "cell_type": "markdown",
      "source": [
        "**Ejercicio 2. (2 puntos)** Escribe un programa que lea una cadena y devuelva un diccionario con la cantidad de apariciones de cada carácter en la cadena."
      ],
      "metadata": {
        "id": "mUPKYZOEUqBN"
      }
    },
    {
      "cell_type": "code",
      "source": [
        "cadena = input(\"Introduzca una cadena: \")\n",
        "cadena_extendida = []\n",
        "diccionario = {}\n",
        "cadena_extendida.extend(cadena)\n",
        "print(cadena_extendida)\n",
        "for caracter in cadena_extendida:\n",
        "  if diccionario.get(caracter):\n",
        "    diccionario[caracter] = diccionario[caracter] + 1\n",
        "  else:\n",
        "    diccionario[caracter] = 1\n",
        "print(diccionario)\n",
        "diccionario_ordenado = {}\n",
        "claves = diccionario.keys()\n",
        "claves_ordenadas = sorted(claves)\n",
        "for clave in claves_ordenadas:\n",
        "  diccionario_ordenado[clave] = diccionario[clave]\n",
        "print(diccionario_ordenado)\n"
      ],
      "metadata": {
        "id": "ORGoY0DiUxLH",
        "outputId": "03724403-2fcd-472f-8c97-89bb46c40d7c",
        "colab": {
          "base_uri": "https://localhost:8080/"
        }
      },
      "execution_count": null,
      "outputs": [
        {
          "output_type": "stream",
          "name": "stdout",
          "text": [
            "Introduzca una cadena: En un lugar de la mancha de cuyo nombre no puedo acordarme...\n",
            "['E', 'n', ' ', 'u', 'n', ' ', 'l', 'u', 'g', 'a', 'r', ' ', 'd', 'e', ' ', 'l', 'a', ' ', 'm', 'a', 'n', 'c', 'h', 'a', ' ', 'd', 'e', ' ', 'c', 'u', 'y', 'o', ' ', 'n', 'o', 'm', 'b', 'r', 'e', ' ', 'n', 'o', ' ', 'p', 'u', 'e', 'd', 'o', ' ', 'a', 'c', 'o', 'r', 'd', 'a', 'r', 'm', 'e', '.', '.', '.']\n",
            "{'E': 1, 'n': 5, ' ': 11, 'u': 4, 'l': 2, 'g': 1, 'a': 6, 'r': 4, 'd': 4, 'e': 5, 'm': 3, 'c': 3, 'h': 1, 'y': 1, 'o': 5, 'b': 1, 'p': 1, '.': 3}\n",
            "{' ': 11, '.': 3, 'E': 1, 'a': 6, 'b': 1, 'c': 3, 'd': 4, 'e': 5, 'g': 1, 'h': 1, 'l': 2, 'm': 3, 'n': 5, 'o': 5, 'p': 1, 'r': 4, 'u': 4, 'y': 1}\n"
          ]
        }
      ]
    },
    {
      "cell_type": "code",
      "source": [
        "cadena = input(\"Introduzca una cadena: \")\n",
        "diccionario = {}\n",
        "for caracter in cadena:\n",
        "  diccionario[caracter] = cadena.count(caracter)\n",
        "print(diccionario)\n",
        "\n",
        "\n",
        "# Ordenar el diccionario\n",
        "diccionario_paso = sorted(diccionario.items(), key=lambda x:x[1])\n",
        "diccionario_ordenado = dict(diccionario_paso)\n",
        "print(diccionario_ordenado)\n",
        "'''\n",
        "diccionario_ordenado = {}\n",
        "claves = list(diccionario.keys())\n",
        "claves.sort()\n",
        "for clave in claves:\n",
        "  diccionario_ordenado[clave] = diccionario[clave]\n",
        "print(diccionario_ordenado)\n",
        "'''"
      ],
      "metadata": {
        "id": "eVlb7z9SZt9z",
        "outputId": "021b4244-3a6c-4299-eca0-34d520da52b8",
        "colab": {
          "base_uri": "https://localhost:8080/",
          "height": 105
        }
      },
      "execution_count": 23,
      "outputs": [
        {
          "output_type": "stream",
          "name": "stdout",
          "text": [
            "Introduzca una cadena: En un lugar de la mancha\n",
            "{'E': 1, 'n': 3, ' ': 5, 'u': 2, 'l': 2, 'g': 1, 'a': 4, 'r': 1, 'd': 1, 'e': 1, 'm': 1, 'c': 1, 'h': 1}\n",
            "{'E': 1, 'g': 1, 'r': 1, 'd': 1, 'e': 1, 'm': 1, 'c': 1, 'h': 1, 'u': 2, 'l': 2, 'n': 3, 'a': 4, ' ': 5}\n"
          ]
        },
        {
          "output_type": "execute_result",
          "data": {
            "text/plain": [
              "'\\ndiccionario_ordenado = {}\\nclaves = list(diccionario.keys())\\nclaves.sort()\\nfor clave in claves:\\n  diccionario_ordenado[clave] = diccionario[clave]\\nprint(diccionario_ordenado)\\n'"
            ],
            "application/vnd.google.colaboratory.intrinsic+json": {
              "type": "string"
            }
          },
          "metadata": {},
          "execution_count": 23
        }
      ]
    },
    {
      "cell_type": "code",
      "source": [
        "cadena = \"Hola mundo\"\n",
        "for caracter in cadena:\n",
        "  print(caracter)"
      ],
      "metadata": {
        "id": "z5jqDpcqabi5",
        "outputId": "165ed74d-bf20-442a-dc56-0b830b244551",
        "colab": {
          "base_uri": "https://localhost:8080/"
        }
      },
      "execution_count": 1,
      "outputs": [
        {
          "output_type": "stream",
          "name": "stdout",
          "text": [
            "H\n",
            "o\n",
            "l\n",
            "a\n",
            " \n",
            "m\n",
            "u\n",
            "n\n",
            "d\n",
            "o\n"
          ]
        }
      ]
    },
    {
      "cell_type": "markdown",
      "source": [
        "**Ejercicio 3. (2 puntos)** Vamos a crear un programa en Python donde vamos a declarar un diccionario para guardar los precios de las distintas frutas. El programa pedirá el nombre de la fruta y la cantidad que se ha vendido y nos mostrará el precio final de la fruta a partir de los datos guardados en el diccionario. Si la fruta no existe nos dará un error. Tras cada consulta el programa nos preguntará si queremos hacer otra consulta."
      ],
      "metadata": {
        "id": "nUNj5ku4Uxfl"
      }
    },
    {
      "cell_type": "code",
      "source": [
        "print('Verificador de precios')\n",
        "frutas = {'Pera' : 40, 'Manzana' : 35, 'Platano' : 15, 'Naranja' : 10, 'Papaya' : 20, 'Fresa' : 45, 'Tuna' : 25}\n",
        "print(f'Frutas disponibles {list(frutas.keys())}')\n",
        "continuar = 'S'\n",
        "while continuar == 'S':\n",
        "  consulta_fruta = input('Escriba el nombre de la fruta: ').title()\n",
        "  consulta_cantidad = float(input('Introduzca el peso de su compra: '))\n",
        "  precio = frutas.get(consulta_fruta,'Fruta no disponible')\n",
        "  #print(type(precio))\n",
        "  if type(precio) == int:\n",
        "    print(f'Producto: {consulta_fruta}\\nCantidad: {consulta_cantidad} kg\\nTotal a pagar: ${precio*consulta_cantidad}')\n",
        "  else:\n",
        "    print(precio)\n",
        "  continuar = input('Desea otra consulta (S/N): ').upper()\n"
      ],
      "metadata": {
        "id": "PVbB2jISU6UK",
        "outputId": "11a0e861-7c37-478e-c3ee-45aa61cd7b76",
        "colab": {
          "base_uri": "https://localhost:8080/"
        }
      },
      "execution_count": null,
      "outputs": [
        {
          "name": "stdout",
          "output_type": "stream",
          "text": [
            "Verificador de precios\n",
            "Escriba el nombre de la fruta: Sandia\n",
            "Introduzca el peso de su compra: 4\n",
            "Fruta no disponible\n",
            "Desea otra consulta (S/N): s\n",
            "Escriba el nombre de la fruta: Pera\n",
            "Introduzca el peso de su compra: 7\n",
            "Producto: Pera\n",
            "Cantidad: 7.0 kg\n",
            "Total a pagar: $280.0\n",
            "Desea otra consulta (S/N): n\n"
          ]
        }
      ]
    }
  ]
}
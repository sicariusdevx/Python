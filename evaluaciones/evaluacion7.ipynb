{
  "nbformat": 4,
  "nbformat_minor": 0,
  "metadata": {
    "colab": {
      "provenance": [],
      "authorship_tag": "ABX9TyPAtMLDEqyA1kvQPPGC73ya",
      "include_colab_link": true
    },
    "kernelspec": {
      "name": "python3",
      "display_name": "Python 3"
    },
    "language_info": {
      "name": "python"
    }
  },
  "cells": [
    {
      "cell_type": "markdown",
      "metadata": {
        "id": "view-in-github",
        "colab_type": "text"
      },
      "source": [
        "<a href=\"https://colab.research.google.com/github/sicariusdevx/Python/blob/main/evaluaciones/evaluacion7.ipynb\" target=\"_parent\"><img src=\"https://colab.research.google.com/assets/colab-badge.svg\" alt=\"Open In Colab\"/></a>"
      ]
    },
    {
      "cell_type": "markdown",
      "source": [
        "\n",
        "**Ejercicio 1. (2 puntos)** Vamos a crear una clase llamada Persona. Sus atributos son: nombre, edad y DNI. Construye los siguientes métodos para la clase:\n",
        "\n",
        "* Un constructor, donde los datos pueden estar vacíos.\n",
        "* Los setters y getters para cada uno de los atributos. Hay que validar las entradas de datos.\n",
        "* mostrar(): Muestra los datos de la persona.\n",
        "* esMayorDeEdad(): Devuelve un valor lógico indicando si es mayor de edad\n",
        "\n",
        "\n"
      ],
      "metadata": {
        "id": "aKpmAe1kUSG5"
      }
    },
    {
      "cell_type": "code",
      "execution_count": null,
      "metadata": {
        "id": "KwJioHSyURcG"
      },
      "outputs": [],
      "source": []
    },
    {
      "cell_type": "markdown",
      "source": [
        "**Ejercicio 2. (2 puntos)** Crea una clase llamada Cuenta que tendrá los siguientes atributos: titular (que es una persona) y cantidad (puede tener decimales). El titular será obligatorio y la cantidad es opcional. Construye los siguientes métodos para la clase:\n",
        "\n",
        "* Un constructor, donde los datos pueden estar vacíos.\n",
        "\n",
        "* Los setters y getters para cada uno de los atributos. El atributo no se puede modificar directamente, sólo ingresando o retirando dinero.\n",
        "\n",
        "* mostrar(): Muestra los datos de la cuenta.\n",
        "\n",
        "* ingresar(cantidad): se ingresa una cantidad a la cuenta, si la cantidad introducida es negativa, no se hará nada.\n",
        "\n",
        "* retirar(cantidad): se retira una cantidad a la cuenta. La cuenta puede estar en números rojos."
      ],
      "metadata": {
        "id": "mUPKYZOEUqBN"
      }
    },
    {
      "cell_type": "code",
      "source": [],
      "metadata": {
        "id": "ORGoY0DiUxLH"
      },
      "execution_count": null,
      "outputs": []
    },
    {
      "cell_type": "markdown",
      "source": [
        "**Ejercicio 3. (2 puntos)** Vamos a definir ahora una “Cuenta Joven”, para ello vamos a crear una nueva clase Cuenta Joven que deriva de la anterior. Cuando se crea esta nueva clase, además del titular y la cantidad se debe guardar una bonificación que estará expresada en tanto por ciento. Construye los siguientes métodos para la clase:\n",
        "\n",
        "* Un constructor.\n",
        "\n",
        "* Los setters y getters para el nuevo atributo.\n",
        "\n",
        "* En esta ocasión los titulares de este tipo de cuenta tienen que ser mayor de edad; por lo tanto hay que crear un método es TitularVálido() que devuelve verdadero si el titular es mayor de edad pero menor de 25 años y falso en caso contrario.\n",
        "\n",
        "* Además la retirada de dinero sólo se podrá hacer si el titular es válido.\n",
        "\n",
        "* El método mostrar() debe devolver el mensaje de “Cuenta Joven” y la bonificación de la cuenta.\n",
        "\n",
        "* Piensa los métodos heredados de la clase madre que hay que reescribir."
      ],
      "metadata": {
        "id": "nUNj5ku4Uxfl"
      }
    },
    {
      "cell_type": "code",
      "source": [],
      "metadata": {
        "id": "PVbB2jISU6UK"
      },
      "execution_count": null,
      "outputs": []
    }
  ]
}
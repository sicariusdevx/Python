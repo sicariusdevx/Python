{
  "nbformat": 4,
  "nbformat_minor": 0,
  "metadata": {
    "colab": {
      "provenance": [],
      "authorship_tag": "ABX9TyOUHvpyPaRGnWciJ2JEbQJa",
      "include_colab_link": true
    },
    "kernelspec": {
      "name": "python3",
      "display_name": "Python 3"
    },
    "language_info": {
      "name": "python"
    }
  },
  "cells": [
    {
      "cell_type": "markdown",
      "metadata": {
        "id": "view-in-github",
        "colab_type": "text"
      },
      "source": [
        "<a href=\"https://colab.research.google.com/github/sicariusdevx/Python/blob/main/evaluaciones/evaluacion7.ipynb\" target=\"_parent\"><img src=\"https://colab.research.google.com/assets/colab-badge.svg\" alt=\"Open In Colab\"/></a>"
      ]
    },
    {
      "cell_type": "markdown",
      "source": [
        "\n",
        "**Ejercicio 1. (2 puntos)** Vamos a crear una clase llamada Persona. Sus atributos son: nombre, edad y DNI. Construye los siguientes métodos para la clase:\n",
        "\n",
        "* Un constructor, donde los datos pueden estar vacíos.\n",
        "* Los setters y getters para cada uno de los atributos. Hay que validar las entradas de datos.\n",
        "* mostrar(): Muestra los datos de la persona.\n",
        "* esMayorDeEdad(): Devuelve un valor lógico indicando si es mayor de edad\n",
        "\n",
        "\n"
      ],
      "metadata": {
        "id": "aKpmAe1kUSG5"
      }
    },
    {
      "cell_type": "code",
      "execution_count": 21,
      "metadata": {
        "id": "KwJioHSyURcG",
        "outputId": "30ba4383-e79f-4562-92c2-b72a2a702732",
        "colab": {
          "base_uri": "https://localhost:8080/"
        }
      },
      "outputs": [
        {
          "output_type": "stream",
          "name": "stdout",
          "text": [
            "Nombre: Ilia\n",
            "Edad: 35\n",
            "DNI: @@@@##\n",
            "\n",
            "Nombre: Ilia Infante\n",
            "Edad: 37\n",
            "DNI: IATI85\n",
            "\n",
            "Por la edad señalada no le puede ser asignado DNI\n",
            "Nombre: Pepe Pérez\n",
            "Edad: 16\n",
            "DNI: @@@@##\n",
            "\n"
          ]
        }
      ],
      "source": [
        "class persona:\n",
        "  def __init__(self,nombre,edad,dni):\n",
        "    self.__nombre = nombre\n",
        "    self.__edad = edad\n",
        "    self.__dni = dni\n",
        "  \n",
        "  @property\n",
        "  def nombre(self):\n",
        "    return self.__nombre\n",
        "\n",
        "  @nombre.setter\n",
        "  def nombre(self, nombre1):\n",
        "    self.__nombre = nombre1\n",
        "\n",
        "  @property\n",
        "  def edad(self):\n",
        "    return self.__edad\n",
        "\n",
        "  @edad.setter\n",
        "  def edad(self, edad1):\n",
        "    self.__edad = edad1\n",
        "\n",
        "  @property\n",
        "  def dni(self):\n",
        "    return self.__dni\n",
        "\n",
        "  @dni.setter\n",
        "  def dni(self, dni1):\n",
        "    if self.edad >= 0 and self.edad < 18:\n",
        "      print(f'Por la edad señalada no le puede ser asignado DNI')\n",
        "    else:\n",
        "      self.__dni = dni1\n",
        "\n",
        "  def mostrar(self):\n",
        "    print(f'Nombre: {self.nombre}\\nEdad: {self.edad}\\nDNI: {self.dni}\\n')\n",
        "  \n",
        "  def es_mayor_de_edad(self):\n",
        "    if self.edad > 18:\n",
        "      print(f'{self.nombre()} es mayor de edad.')\n",
        "    else:\n",
        "      print(f'{self.nombre()} es menor de edad.')\n",
        "\n",
        "persona01 = persona('Ilia',35,'@@@@##')\n",
        "\n",
        "persona01.mostrar()\n",
        "\n",
        "persona01.nombre = 'Ilia Infante'\n",
        "persona01.edad = 37\n",
        "persona01.dni = 'IATI85'\n",
        "\n",
        "persona01.mostrar()\n",
        "\n",
        "persona02 = persona('Pepe',16,'@@@@##')\n",
        "\n",
        "persona02.nombre = 'Pepe Pérez'\n",
        "persona02.edad = 16\n",
        "persona02.dni = 'PEPE06'\n",
        "\n",
        "persona02.mostrar()\n",
        "\n",
        "\n",
        "  "
      ]
    },
    {
      "cell_type": "markdown",
      "source": [
        "**Ejercicio 2. (2 puntos)** Crea una clase llamada Cuenta que tendrá los siguientes atributos: titular (que es una persona) y cantidad (puede tener decimales). El titular será obligatorio y la cantidad es opcional. Construye los siguientes métodos para la clase:\n",
        "\n",
        "* Un constructor, donde los datos pueden estar vacíos.\n",
        "\n",
        "* Los setters y getters para cada uno de los atributos. El atributo no se puede modificar directamente, sólo ingresando o retirando dinero.\n",
        "\n",
        "* mostrar(): Muestra los datos de la cuenta.\n",
        "\n",
        "* ingresar(cantidad): se ingresa una cantidad a la cuenta, si la cantidad introducida es negativa, no se hará nada.\n",
        "\n",
        "* retirar(cantidad): se retira una cantidad a la cuenta. La cuenta puede estar en números rojos."
      ],
      "metadata": {
        "id": "mUPKYZOEUqBN"
      }
    },
    {
      "cell_type": "code",
      "source": [],
      "metadata": {
        "id": "ORGoY0DiUxLH"
      },
      "execution_count": null,
      "outputs": []
    },
    {
      "cell_type": "markdown",
      "source": [
        "**Ejercicio 3. (2 puntos)** Vamos a definir ahora una “Cuenta Joven”, para ello vamos a crear una nueva clase Cuenta Joven que deriva de la anterior. Cuando se crea esta nueva clase, además del titular y la cantidad se debe guardar una bonificación que estará expresada en tanto por ciento. Construye los siguientes métodos para la clase:\n",
        "\n",
        "* Un constructor.\n",
        "\n",
        "* Los setters y getters para el nuevo atributo.\n",
        "\n",
        "* En esta ocasión los titulares de este tipo de cuenta tienen que ser mayor de edad; por lo tanto hay que crear un método es TitularVálido() que devuelve verdadero si el titular es mayor de edad pero menor de 25 años y falso en caso contrario.\n",
        "\n",
        "* Además la retirada de dinero sólo se podrá hacer si el titular es válido.\n",
        "\n",
        "* El método mostrar() debe devolver el mensaje de “Cuenta Joven” y la bonificación de la cuenta.\n",
        "\n",
        "* Piensa los métodos heredados de la clase madre que hay que reescribir."
      ],
      "metadata": {
        "id": "nUNj5ku4Uxfl"
      }
    },
    {
      "cell_type": "code",
      "source": [],
      "metadata": {
        "id": "PVbB2jISU6UK"
      },
      "execution_count": null,
      "outputs": []
    }
  ]
}
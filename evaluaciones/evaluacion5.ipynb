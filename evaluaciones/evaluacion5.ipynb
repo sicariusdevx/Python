{
  "nbformat": 4,
  "nbformat_minor": 0,
  "metadata": {
    "colab": {
      "provenance": [],
      "authorship_tag": "ABX9TyOyrK2NXuFJmRSp4IJVzmeF",
      "include_colab_link": true
    },
    "kernelspec": {
      "name": "python3",
      "display_name": "Python 3"
    },
    "language_info": {
      "name": "python"
    }
  },
  "cells": [
    {
      "cell_type": "markdown",
      "metadata": {
        "id": "view-in-github",
        "colab_type": "text"
      },
      "source": [
        "<a href=\"https://colab.research.google.com/github/sicariusdevx/Python/blob/main/evaluaciones/evaluacion5.ipynb\" target=\"_parent\"><img src=\"https://colab.research.google.com/assets/colab-badge.svg\" alt=\"Open In Colab\"/></a>"
      ]
    },
    {
      "cell_type": "markdown",
      "source": [
        "# 5 Práctica \n",
        "5. Operadores relacionales. (6 puntos)\n",
        "\n",
        "##  5.1 Ejercicio 1 (2 puntos)\n",
        "Programa que imprima si el número es positivo o negativo, el número debe ser ingresado por consola."
      ],
      "metadata": {
        "id": "GFHLWhsAA2RT"
      }
    },
    {
      "cell_type": "code",
      "execution_count": 4,
      "metadata": {
        "colab": {
          "base_uri": "https://localhost:8080/"
        },
        "id": "Sj6t2hVTAw7f",
        "outputId": "305816e7-205d-4281-b5f7-b209f5069218"
      },
      "outputs": [
        {
          "output_type": "stream",
          "name": "stdout",
          "text": [
            "Determinar si el número es positivo o negativo\n",
            "Ingrese un número: 0\n",
            "El número es cero.\n"
          ]
        }
      ],
      "source": [
        "print(f'Determinar si el número es positivo o negativo')\n",
        "numero = int(input(f'Ingrese un número: '))\n",
        "if numero > 0:\n",
        "  print(f'El número {numero} es positivo.')\n",
        "elif numero < 0:\n",
        "  print(f'El número {numero} es negativo.')\n",
        "else:\n",
        "  print(f'El número es cero.')"
      ]
    },
    {
      "cell_type": "markdown",
      "source": [
        "## 5.2 Ejercicio 2 (2 puntos)\n",
        "Programa que imprima si el número ingresado esta en el rango de 1 a 7, el número se solicita por consola."
      ],
      "metadata": {
        "id": "uNGhedvbBBL9"
      }
    },
    {
      "cell_type": "code",
      "source": [
        "print(f'Este programa determina si un numero se encuentra en el rango 1 a 7')\n",
        "numero = float(input(f'Ingrese un número: '))\n",
        "if numero in range(1,8):\n",
        "  print(f'El número está DENTRO del rango')\n",
        "else:\n",
        "  print(f'El número está FUERA del rango')\n"
      ],
      "metadata": {
        "colab": {
          "base_uri": "https://localhost:8080/"
        },
        "id": "C9Tb4BisBG_l",
        "outputId": "adbdb26c-0e94-4b72-c41f-f861297e0259"
      },
      "execution_count": 9,
      "outputs": [
        {
          "output_type": "stream",
          "name": "stdout",
          "text": [
            "Este programa determina si un numero se encuentra en el rango 1 a 7\n",
            "Ingrese un número: 20\n",
            "El número está FUERA del rango\n"
          ]
        }
      ]
    },
    {
      "cell_type": "markdown",
      "source": [
        "## 5.3 Ejercicio 3 (2 puntos)\n",
        "Programa que solicite un monto y que solicite el interés mensual, si el interés es mayor al 30% nos imprimirá que es incorrecto, si es menor realizará el cálculo e imprimira el monto con su interés adicionado."
      ],
      "metadata": {
        "id": "9AhAZeO7BHwS"
      }
    },
    {
      "cell_type": "code",
      "source": [
        "monto = float(input(\"Ingrese el monto a calcular: \"))\n",
        "if monto and monto >= 0:\n",
        "  interes_mensual = float(input('Ingrese el interés mensual (porcentaje): '))\n",
        "  if interes_mensual >= 0 and interes_mensual <= 30:\n",
        "    print(f'La cantidad a solicitada es: {monto}\\nEl interes_mensual es: {interes_mensual}')\n",
        "    print(f'El total a pagar es {monto*interes_mensual/100 + monto}')\n",
        "  else:\n",
        "    print(f'El interés está fuera del rango')\n",
        "else:\n",
        "  print(\"El monto no es válido.\")   "
      ],
      "metadata": {
        "colab": {
          "base_uri": "https://localhost:8080/"
        },
        "id": "8SbqyDWYBM-j",
        "outputId": "b0acc807-def3-4143-f8f5-4553af96f87f"
      },
      "execution_count": 17,
      "outputs": [
        {
          "output_type": "stream",
          "name": "stdout",
          "text": [
            "Ingrese el monto a calcular: -50\n",
            "El monto no es válido.\n"
          ]
        }
      ]
    }
  ]
}
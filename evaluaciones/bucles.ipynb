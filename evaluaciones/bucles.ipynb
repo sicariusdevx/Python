{
  "nbformat": 4,
  "nbformat_minor": 0,
  "metadata": {
    "colab": {
      "name": "bucles.ipynb",
      "provenance": [],
      "include_colab_link": true
    },
    "kernelspec": {
      "name": "python3",
      "display_name": "Python 3"
    },
    "language_info": {
      "name": "python"
    }
  },
  "cells": [
    {
      "cell_type": "markdown",
      "metadata": {
        "id": "view-in-github",
        "colab_type": "text"
      },
      "source": [
        "<a href=\"https://colab.research.google.com/github/sicariusdevx/Python/blob/main/evaluaciones/bucles.ipynb\" target=\"_parent\"><img src=\"https://colab.research.google.com/assets/colab-badge.svg\" alt=\"Open In Colab\"/></a>"
      ]
    },
    {
      "cell_type": "markdown",
      "source": [
        "## Acerca de los ciclos ``while``\n",
        "\n",
        "Al escribir código, un desafío común es que realices una tarea un número desconocido de veces. En esta unidad, quieres permitir que un usuario escriba una lista de nombres de planetas. Desafortunadamente, no sabes cuántos nombres escribirá el usuario. Para admitir una entrada de usuario o ejecutar una tarea, un número desconocido de veces, puedes usar un ciclo ````while````.\n",
        "\n",
        "Un ciclo ````while```` realiza una operación *mientras* (``while``, en inglés) *una determinada condición es True*. Funcionan para evaluar si hay otra línea en un archivo, si se ha establecido una marca, si un usuario ha terminado de escribir valores o bien ha cambiado algo más para indicar que el código puede dejar de realizar la operación.\n",
        "\n",
        "> Lo más importante que se debe recordar al crear ciclos ````while```` es asegurarse de que cambia la condición. Si la condición siempre es True, Python seguirá ejecutando el código hasta que el programa se bloquee.\n",
        "\n",
        "La sintaxis de un ciclo ``while`` es similar a la de una instrucción ``if``. Proporciona una condición, así como el código que quieres ejecutar mientras la condición sea ``True`` (Oséa, mientras la condición se cumpla o sea verdadera).\n",
        "\n",
        "Un ciclo ``while`` tiene tres partes importantes:\n",
        "\n",
        "* La palabra ``while``, seguida de un espacio.\n",
        "\n",
        "* La condición que se va a probar. Si la condición es True, se ejecutará el código dentro del ciclo ``while``.\n",
        "\n",
        "* El código que quiere ejecutar para cada elemento del objeto iterable, seguido de espacios en blanco anidados. Por ejemplo:\n",
        "\n",
        "```\n",
        "while condition:\n",
        "    # lo que quieres que se ejecute\n",
        "```\n",
        "*Se lee de la siguiente manera: Mientras la condición se cumpla: ejecuta el código*\n",
        "\n",
        "Veamos cómo puedes crear código para pedir a los usuarios que escriban valores y, después, permitirles usar ``alto`` cuando terminen de escribir los valores. En nuestro ejemplo, usaremos la entrada de usuario como condición y, después, la probaremos al principio del ciclo ``while``."
      ],
      "metadata": {
        "id": "mriGu-kKoeKH"
      }
    },
    {
      "cell_type": "code",
      "source": [
        "palabra_ingresada = ''\n",
        "\n",
        "while palabra_ingresada.lower() != 'alto':\n",
        "    palabra_ingresada = input('Ingresa una nueva palabra, si quieres parar ingresa Alto')"
      ],
      "metadata": {
        "id": "_-hVYy9bojeh"
      },
      "execution_count": null,
      "outputs": []
    },
    {
      "cell_type": "markdown",
      "source": [
        "Tengamos en cuenta que se usa input para preguntar a los usuarios. Cada vez que los usuarios escriben un nuevo valor, cambian la condición, lo que significa que el ciclo while se finalizará una vez que se haya escrito la palabra alto, si escribes cualquier otra palabra el ciclo continuará.\n",
        "\n",
        "Puedes usar la cadena recién escrita como lo haríamos con cualquier otra cadena capturada con input. Si quieres agregarla a una lista, puedes usar código similar al ejemplo siguiente:"
      ],
      "metadata": {
        "id": "2-yXmt73pW_V"
      }
    },
    {
      "cell_type": "code",
      "source": [
        "# Creamos la variable que almacena el texto\n",
        "palabra_ingresada = ''\n",
        "# Creamos la lista que almacena cada uno de los textos que el usuario ingresa\n",
        "ingresos = []\n",
        "\n",
        "# Ciclo while\n",
        "while palabra_ingresada.lower() != 'alto':\n",
        "    # Verificamos si hay un valor en palabra_ingresada\n",
        "    if palabra_ingresada:\n",
        "        # Almacenamos ese valor en la lista\n",
        "        ingresos.append(palabra_ingresada)\n",
        "    # Capturamos un nuevo valor\n",
        "    palabra_ingresada = input('Ingresa una palabra, si quieres parar ingresa Alto ')\n",
        "\n",
        "ingresos\n"
      ],
      "metadata": {
        "id": "CekHr16rpbSH",
        "outputId": "eea3def5-e277-4dc8-f0cc-406f0af8b3f7",
        "colab": {
          "base_uri": "https://localhost:8080/"
        }
      },
      "execution_count": 3,
      "outputs": [
        {
          "name": "stdout",
          "output_type": "stream",
          "text": [
            "Ingresa una palabra, si quieres parar ingresa Alto caballo\n",
            "Ingresa una palabra, si quieres parar ingresa Alto perro\n",
            "Ingresa una palabra, si quieres parar ingresa Alto \n",
            "Ingresa una palabra, si quieres parar ingresa Alto \n",
            "Ingresa una palabra, si quieres parar ingresa Alto gato\n",
            "Ingresa una palabra, si quieres parar ingresa Alto Alto\n"
          ]
        },
        {
          "output_type": "execute_result",
          "data": {
            "text/plain": [
              "['caballo', 'perro', 'gato']"
            ]
          },
          "metadata": {},
          "execution_count": 3
        }
      ]
    },
    {
      "cell_type": "markdown",
      "source": [
        "Pudiera ser que preguntes que función tiene el if, vamos a ver el ejemplo sin el y nota la utilidad"
      ],
      "metadata": {
        "id": "9sJs-ynYpAU2"
      }
    },
    {
      "cell_type": "code",
      "source": [
        "# Creamos la variable que almacena el texto\n",
        "palabra_ingresada = ''\n",
        "# Creamos la lista que almacena cada uno de los textos que el usuario ingresa\n",
        "ingresos = []\n",
        "\n",
        "# Ciclo while\n",
        "while palabra_ingresada.lower() != 'alto':\n",
        "      # Capturamos un nuevo valor\n",
        "    palabra_ingresada = input('Ingresa una palabra, si quieres parar ingresa Alto')\n",
        "        # Almacenamos ese valor en la lista\n",
        "    ingresos.append(palabra_ingresada)\n",
        "\n",
        "\n",
        "ingresos"
      ],
      "metadata": {
        "id": "pqYd9M1Wo_T_"
      },
      "execution_count": null,
      "outputs": []
    },
    {
      "cell_type": "markdown",
      "source": [
        "Observa la instrucción ``if`` dentro del ciclo ``while``. Esta instrucción prueba si hay un valor de cadena dentro de ``palabra_ingresada``. Si el ciclo ``while`` se ejecuta por primera vez, no hay ningún valor, por lo que no hay nada que almacenar en ``ingresos``. Después de que se ejecute por primera vez, ``palabra_ingresada`` siempre conserva el valor que el usuario acaba de escribir. Dado que ``while`` está probando para asegurarse de que el valor no es igual a alto (la palabra que el usuario escribirá para salir de la aplicación), sabe que el valor actual es uno que puede agregar a la lista.\n",
        "\n",
        "> Es posible que en otros lenguajes de programación hayas visto el uso del ciclo 'do', lo que permite realizar una verificación al final del ciclo. En python no existe un ciclo 'do'.\n",
        "\n",
        "### Uso de ciclos ``for`` con listas\n",
        "\n",
        "En Python, las listas pueden almacenar cualquier tipo de valor, como cadenas o números:"
      ],
      "metadata": {
        "id": "AchFwdKcq3w5"
      }
    },
    {
      "cell_type": "code",
      "source": [
        "paises = ['Canada', 'EU', 'México', 'Guatemala', 'Belice', 'Honduras', 'El Salvador', 'Micaragua']"
      ],
      "metadata": {
        "id": "Q63oirUzrKAk"
      },
      "execution_count": null,
      "outputs": []
    },
    {
      "cell_type": "markdown",
      "source": [
        "Puedes acceder a cualquier elemento de una lista poniendo el índice entre corchetes ([]) después del nombre de la variable. Los índices comienzan a partir de 0:"
      ],
      "metadata": {
        "id": "OEs3PN9Eraav"
      }
    },
    {
      "cell_type": "code",
      "source": [
        "print('El primer país es', paises[0])\n",
        "print('El segundo país es', paises[1])\n",
        "print('El tercer país es', paises[2])"
      ],
      "metadata": {
        "id": "1H-Qc2yBreOr"
      },
      "execution_count": null,
      "outputs": []
    },
    {
      "cell_type": "markdown",
      "source": [
        "\n",
        "> Python tiene muchos tipos que se pueden recorrer en ciclo. Estos tipos se conocen como iterables.\n",
        "\n",
        "Las listas de Python son iterables y se pueden usar con un ciclo ``for``. Se usa un ciclo ``for`` con objetos iterables que va a recorrer en ciclo un número conocido de veces, una vez para cada elemento del objeto iterable.\n",
        "\n"
      ],
      "metadata": {
        "id": "IuDVmZXHrmsf"
      }
    },
    {
      "cell_type": "code",
      "source": [
        "paises = ['Canada', 'EU', 'México', 'Guatemala', 'Belice', 'Honduras', 'El Salvador', 'Micaragua']\n",
        "\n",
        "for pais in paises:\n",
        "  print(pais)"
      ],
      "metadata": {
        "id": "Pa2XqbCvvc9C"
      },
      "execution_count": null,
      "outputs": []
    },
    {
      "cell_type": "markdown",
      "source": [
        "### Acerca de los ciclos ``for``\n",
        "Este es un ciclo ``for`` de ejemplo que hace una cuenta atrás, de 4 a 0:"
      ],
      "metadata": {
        "id": "yRDEiIRNtHZs"
      }
    },
    {
      "cell_type": "code",
      "source": [
        "conteo = [4, 3, 2, 1, 0]\n",
        "for numero in conteo:\n",
        "    print(numero)\n",
        "print(\"SALIDA!!\")"
      ],
      "metadata": {
        "id": "ZT0U0V1ItYzc"
      },
      "execution_count": null,
      "outputs": []
    },
    {
      "cell_type": "markdown",
      "source": [
        "El ciclo ``for`` es una instrucción con cinco partes importantes:\n",
        "\n",
        "* La palabra ``for``, seguida de un espacio.\n",
        "* El nombre de la variable que quieres crear para cada valor de la secuencia (*numero*).\n",
        "* La palabra ``in``, entre espacios.\n",
        "* El nombre de la lista (*conteo*, en el ejemplo anterior) u objeto iterable que quieres recorrer en ciclo, seguido de dos puntos (``:``).\n",
        "* El código que quieres ejecutar para cada elemento del objeto iterable, separado por espacios en blanco anidados.\n",
        "\n",
        "Vamos a cambiar el código anterior para que espere un segundo entre cada número mediante la función ``sleep()``:\n"
      ],
      "metadata": {
        "id": "JN0oIe6suLLw"
      }
    },
    {
      "cell_type": "code",
      "source": [
        "# De la biblioteca time, importamos (traemos) la clase sleep\n",
        "\n",
        "from time import sleep\n",
        "\n",
        "# Creamos una lista de 5 números llamada conteo\n",
        "conteo = [4, 3, 2, 1, 0]\n",
        "\n",
        "# Para cada número en conteo\n",
        "for numero in conteo:\n",
        "    #Muestra el número\n",
        "    print(numero)\n",
        "\n",
        "    # Espera (1segundo)\n",
        "    sleep(1)\n",
        "\n",
        "# Muestra el mensaje\n",
        "print(\"ARRANCAN!! \")"
      ],
      "metadata": {
        "id": "PqeIA0fCueIz",
        "outputId": "564e3c97-cca7-4b9d-d256-09650db3f504",
        "colab": {
          "base_uri": "https://localhost:8080/"
        }
      },
      "execution_count": 4,
      "outputs": [
        {
          "output_type": "stream",
          "name": "stdout",
          "text": [
            "4\n",
            "3\n",
            "2\n",
            "1\n",
            "0\n",
            "ARRANCAN!! \n"
          ]
        }
      ]
    },
    {
      "cell_type": "code",
      "source": [
        "\n",
        "for i in range(1,11):\n",
        "  print(f'{i} x 5 ={i*5}')"
      ],
      "metadata": {
        "id": "Dr3e3osjxmm0"
      },
      "execution_count": null,
      "outputs": []
    },
    {
      "cell_type": "code",
      "source": [
        "for i in range(1,11):\n",
        "  for j in range(1,11):\n",
        "     print(f'{i} x {j} ={i*j}')"
      ],
      "metadata": {
        "id": "u8Ojew6CzAYF"
      },
      "execution_count": null,
      "outputs": []
    },
    {
      "cell_type": "markdown",
      "source": [
        "## Instrucciones\n",
        "\n",
        "Imprime todas las fichas de dominó sustituyendo los puntos por la cifra respectiva"
      ],
      "metadata": {
        "id": "yoft5modmc5_"
      }
    },
    {
      "cell_type": "code",
      "source": [
        "for i in range(7):\n",
        "  for j in range(i,7):\n",
        "    print(f'[ {i} | {j} ]',end = ' ')\n",
        "  print('\\n')\n"
      ],
      "metadata": {
        "id": "42_N-rh6msOH",
        "outputId": "aa4caa09-c286-4c56-b027-60a195d47c64",
        "colab": {
          "base_uri": "https://localhost:8080/"
        }
      },
      "execution_count": 11,
      "outputs": [
        {
          "output_type": "stream",
          "name": "stdout",
          "text": [
            "[ 0 | 0 ] [ 0 | 1 ] [ 0 | 2 ] [ 0 | 3 ] [ 0 | 4 ] [ 0 | 5 ] [ 0 | 6 ] \n",
            "\n",
            "[ 1 | 1 ] [ 1 | 2 ] [ 1 | 3 ] [ 1 | 4 ] [ 1 | 5 ] [ 1 | 6 ] \n",
            "\n",
            "[ 2 | 2 ] [ 2 | 3 ] [ 2 | 4 ] [ 2 | 5 ] [ 2 | 6 ] \n",
            "\n",
            "[ 3 | 3 ] [ 3 | 4 ] [ 3 | 5 ] [ 3 | 6 ] \n",
            "\n",
            "[ 4 | 4 ] [ 4 | 5 ] [ 4 | 6 ] \n",
            "\n",
            "[ 5 | 5 ] [ 5 | 6 ] \n",
            "\n",
            "[ 6 | 6 ] \n",
            "\n"
          ]
        }
      ]
    },
    {
      "cell_type": "markdown",
      "source": [
        "Mismo ejercicio con equipos para estructurar un torneo"
      ],
      "metadata": {
        "id": "gYGtF7lDqIyr"
      }
    },
    {
      "cell_type": "code",
      "source": [
        "import random\n",
        "equipos = ['Necaxa','Atlas','Pachuca','Morelia','Cruz Azul','Pumas','Leon','Guadalajara','Tijuana','Toluca','Santos','América']\n",
        "random.shuffle(equipos)\n",
        "for i in range(0,12,2):\n",
        "  for j in range(i+1,12):\n",
        "    print(f'{equipos[i]} vs {equipos[i+1]}')\n"
      ],
      "metadata": {
        "id": "AwPCBRvpqY46",
        "outputId": "5efd3e05-aabd-42b0-fdea-f3de94e9ff7c",
        "colab": {
          "base_uri": "https://localhost:8080/"
        }
      },
      "execution_count": 17,
      "outputs": [
        {
          "output_type": "stream",
          "name": "stdout",
          "text": [
            "Toluca vs Leon\n",
            "Toluca vs Leon\n",
            "Toluca vs Leon\n",
            "Toluca vs Leon\n",
            "Toluca vs Leon\n",
            "Toluca vs Leon\n",
            "Toluca vs Leon\n",
            "Toluca vs Leon\n",
            "Toluca vs Leon\n",
            "Toluca vs Leon\n",
            "Toluca vs Leon\n",
            "Necaxa vs Morelia\n",
            "Necaxa vs Morelia\n",
            "Necaxa vs Morelia\n",
            "Necaxa vs Morelia\n",
            "Necaxa vs Morelia\n",
            "Necaxa vs Morelia\n",
            "Necaxa vs Morelia\n",
            "Necaxa vs Morelia\n",
            "Necaxa vs Morelia\n",
            "Santos vs Pachuca\n",
            "Santos vs Pachuca\n",
            "Santos vs Pachuca\n",
            "Santos vs Pachuca\n",
            "Santos vs Pachuca\n",
            "Santos vs Pachuca\n",
            "Santos vs Pachuca\n",
            "Tijuana vs Pumas\n",
            "Tijuana vs Pumas\n",
            "Tijuana vs Pumas\n",
            "Tijuana vs Pumas\n",
            "Tijuana vs Pumas\n",
            "Guadalajara vs América\n",
            "Guadalajara vs América\n",
            "Guadalajara vs América\n",
            "Cruz Azul vs Atlas\n"
          ]
        }
      ]
    },
    {
      "cell_type": "markdown",
      "source": [
        "### Ejercicio 1: Uso de ciclos `while` en Python\n",
        "\n",
        "En Python, los ciclos `while` te permiten ejecutar código un número desconocido de veces. Los ciclos examinan una condición booleana y, siempre que la condición sea verdadera, se ejecutará el código dentro del ciclo. Esto es muy útil para situaciones como solicitar valores a un usuario.\n",
        "\n",
        "En este ejercicio, estás creando una aplicación que solicita a un usuario que ingrese una lista de alumnos. En un ejercicio posterior, agregarás código que muestre la lista. Por ahora, crearás solo el código que solicita al usuario la lista de alumnos.\n",
        "\n",
        "> **TIP**\n",
        "> Dedica unos minutos para tratar de encontrar una solución. Luego desplázate hacia abajo hasta la parte inferior para ver si has logrado compilar el programa de acuerdo con las especificaciones\n",
        "\n",
        "Comienza agregando dos variables, una para la entrada del usuario, con el nombre `nuevo_alumno`, y otra variable para la lista de planetas, denominada `alumnos`."
      ],
      "metadata": {
        "id": "hSWMrbthKIpL"
      }
    },
    {
      "cell_type": "code",
      "source": [
        "# Declara dos variables\n",
        "nuevo_alumno = ''\n",
        "alumnos = []"
      ],
      "metadata": {
        "id": "7qsVwBfKKLyb"
      },
      "execution_count": null,
      "outputs": []
    },
    {
      "cell_type": "markdown",
      "source": [
        "### Crea un ciclo `while`\n",
        "\n",
        "Comenzando con las variables que acabas de crear, crearás un ciclo `while`. El ciclo `while` se ejecutará *mientras* el `nuevo_alumno` **no** sea igual a la palabra 'alto'.\n",
        "\n",
        "Dentro del ciclo, comprobarás si la variable `nuevo_alumno` contiene un valor, que debería ser el nombre de un alumno. Esta es una forma rápida de ver si el usuario ha introducido un valor. Si lo han hecho, tu código agregará (`append`) ese valor a la variable `alumnos`.\n",
        "\n",
        "Finalmente, usarás `input` para solicitar al usuario que ingrese un nuevo nombre de alumno o que escriba *alto* si ha terminado de ingresar nombres de alumnos. Almacenará el valor de `input` en la variable `nuevo_alumno`."
      ],
      "metadata": {
        "id": "l_P0_TTJKOwC"
      }
    },
    {
      "cell_type": "code",
      "source": [
        "# Escribe el ciclo while solicitado"
      ],
      "metadata": {
        "id": "QffkqMYYKRXK"
      },
      "execution_count": null,
      "outputs": []
    },
    {
      "cell_type": "markdown",
      "source": [
        "### Ejercicio 2: - Ciclo para una lista\n",
        "\n",
        "En el ejercicio anterior, creaste código para solicitar a los usuarios que introduzcan una lista de nombres de alumnos. En este ejercicio, completarás la aplicación escribiendo código que muestre los nombres de esos alumnos.\n",
        "\n",
        "### Mostrar la lista de los alumnos\n",
        "\n",
        "La variable `alumnos` almacena los nombres de alumnos que ha introducido un usuario. Ahora usarás un ciclo para mostrar esas entradas.\n",
        "\n",
        "Crea un ciclo `for` para iterar sobre la lista `alumnos`. Puedes usar como nombre de la variable `alumno` para cada aluno. Dentro del ciclo `for`, recuerda utilizar `print` para mostrar cada `alumno`."
      ],
      "metadata": {
        "id": "fhSW7CRGKWB6"
      }
    },
    {
      "cell_type": "code",
      "source": [
        "# Escribe tu ciclo for para iterar en una lista de planetas\n"
      ],
      "metadata": {
        "id": "CEfqk3zOKYer"
      },
      "execution_count": null,
      "outputs": []
    },
    {
      "cell_type": "markdown",
      "source": [
        "## Ejercicio 3: Juego adivina el número\n",
        "\n",
        "Vamor a realizar el juego de adivinar el número secreto que realizamos en el módulo de pensamiento computacional, para ello necesitaremos el número que se genera de forma aleatoria, necesitaremos traer la función random"
      ],
      "metadata": {
        "id": "x1t1Qr8VKa9q"
      }
    },
    {
      "cell_type": "code",
      "source": [
        "print('''-------------------------------------------\n",
        "-------ADIVINA EL NÚMERO SECRETO-------------\n",
        "---------TIENES 5 OPORTUNIDADES--------------\n",
        "---------------------------------------------''')\n",
        "# Vamos a iniciar generando el numero secreto, para ello importamos random\n",
        "import random\n",
        "# Ahora vamos a generar ese número secreto\n",
        "numero_secreto = random.randint(1,100)\n",
        "\n",
        "#Ahora crea las variables donde se almacenará e número que ingrese el usuario y otra con el número de oportunidades que tendrá de adivinar\n",
        "\n",
        "\n",
        "# Vamos a crear el ciclo que se ejecute mientras no se adivie el número y aun queden oportunidades de seguir jugando\n",
        "# Recuerda crear una condición que evalue e informe al usuario si el número ingresado es mayor o menor al número secreto\n",
        "\n",
        "\n",
        "\n",
        "# Cuando el usuario le atine o se acaben sus oportunidades entrará a otra condicionante\n",
        "\n"
      ],
      "metadata": {
        "id": "jdfE1B5oKdfE"
      },
      "execution_count": null,
      "outputs": []
    },
    {
      "cell_type": "markdown",
      "source": [
        "## Soluciones\n",
        "\n",
        "### Ejercicio 1"
      ],
      "metadata": {
        "id": "7Wj2FS-GKhla"
      }
    },
    {
      "cell_type": "code",
      "source": [
        "# Declaramos 2 variables\n",
        "\n",
        "nuevo_alumno = ''\n",
        "alumnos = []"
      ],
      "metadata": {
        "id": "vrUPDAQKKmhK"
      },
      "execution_count": null,
      "outputs": []
    },
    {
      "cell_type": "code",
      "source": [
        "# Escribe el ciclo while solicitado\n",
        "\n",
        "while nuevo_alumno.lower() != 'alto':\n",
        "    if nuevo_alumno:\n",
        "        alumnos.append(nuevo_alumno)\n",
        "    nuevo_alumno = input('Ingresa el nombre del nuevo alumno ')\n",
        "\n",
        "# Otra opcion\n",
        "nuevo_alumno = input('Ingresa el nombre del nuevo alumno ')\n",
        "while nuevo_alumno.lower() != 'alto':\n",
        "  alumnos.append(nuevo_alumno)\n",
        "  nuevo_alumno = input('Ingresa el nombre del nuevo alumno ')"
      ],
      "metadata": {
        "id": "hKEcazIXKokC"
      },
      "execution_count": null,
      "outputs": []
    },
    {
      "cell_type": "markdown",
      "source": [
        "### Ejercicio 2"
      ],
      "metadata": {
        "id": "uRtmXMwVKqqh"
      }
    },
    {
      "cell_type": "code",
      "source": [
        "# Escribe tu ciclo for para iterar en una lista de planetas\n",
        "\n",
        "for alumno in alumnos:\n",
        "    print(alumno)"
      ],
      "metadata": {
        "id": "lDhXCf7jKsLa"
      },
      "execution_count": null,
      "outputs": []
    },
    {
      "cell_type": "markdown",
      "source": [
        "### Ejercicio 3"
      ],
      "metadata": {
        "id": "qk3tD36dvKjA"
      }
    },
    {
      "cell_type": "code",
      "source": [
        "print('''-------------------------------------------\n",
        "-------ADIVINA EL NÚMERO SECRETO-------------\n",
        "---------TIENES 5 OPORTUNIDADES--------------\n",
        "---------------------------------------------''')\n",
        "# Vamos a iniciar generando el numero secreto, para ello importamos random\n",
        "import random\n",
        "# Ahora vamos a generar ese número secreto\n",
        "numero_secreto = random.randint(1,100)\n",
        "\n",
        "#Ahora crea las variables donde se almacenará e número que ingrese el usuario y otra con el número de oportunidades que tendrá de adivinar\n",
        "num =int(input('Adivina el número secreto'))\n",
        "opor = 1\n",
        "print(numero_secreto)\n",
        "\n",
        "# Vamos a crear el ciclo que se ejecute mientras no se adivie el número y aun queden oportunidades de seguir jugando\n",
        "# Recuerda crear una condición que evalue e informe al usuario si el número ingresado es mayor o menor al número secreto\n",
        "while numero_secreto != num and opor < 6:\n",
        "  opor = opor + 1\n",
        "  if num < numero_secreto:\n",
        "    print(f'{num} es menor al número secreto')\n",
        "\n",
        "  else:\n",
        "    print(f'{num} es mayor al número secreto')\n",
        "  num =int(input('Adivina el número secreto'))\n",
        "\n",
        "\n",
        "# Cuando el usuario le atine o se acaben sus oportunidades entrará a otra condicionante\n",
        "if num == numero_secreto:\n",
        "  print(f'felicidades!!!!! has atinado al número en {opor} oportunidades')\n",
        "else:\n",
        "  print(f'lástima!!!!! se terminaron tus oportunidades, el número secreto era {numero_secreto}')\n",
        "\n",
        "\n"
      ],
      "metadata": {
        "id": "vWw57kaOvRl9"
      },
      "execution_count": null,
      "outputs": []
    }
  ]
}
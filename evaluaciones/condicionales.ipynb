{
  "nbformat": 4,
  "nbformat_minor": 0,
  "metadata": {
    "colab": {
      "name": "condicionales.ipynb",
      "provenance": [],
      "include_colab_link": true
    },
    "kernelspec": {
      "name": "python3",
      "display_name": "Python 3"
    },
    "language_info": {
      "name": "python"
    }
  },
  "cells": [
    {
      "cell_type": "markdown",
      "metadata": {
        "id": "view-in-github",
        "colab_type": "text"
      },
      "source": [
        "<a href=\"https://colab.research.google.com/github/sicariusdevx/Python/blob/main/evaluaciones/condicionales.ipynb\" target=\"_parent\"><img src=\"https://colab.research.google.com/assets/colab-badge.svg\" alt=\"Open In Colab\"/></a>"
      ]
    },
    {
      "cell_type": "markdown",
      "source": [],
      "metadata": {
        "id": "P9N3KmmQEo1-"
      }
    },
    {
      "cell_type": "markdown",
      "source": [
        "## Lógica Booleana\n",
        "\n",
        "### Escribir declaraciones 'if'\n",
        "\n",
        "Para expresar la lógica condicional en Python, se utilizan instrucciones ```if ```. Cuando escribes una declaración ```if```, confías en otro concepto que cubrimos en este módulo, los operadores matemáticos. Python admite los operadores lógicos comunes de las matemáticas: igual, no igual, menor que, menor que o igual a, mayor que y mayor que o igual a.\n",
        "\n",
        "Debes usar una instrucción ```if``` para ejecutar código solo si se cumple una determinada condición."
      ],
      "metadata": {
        "id": "VjJC7qp5EqYb"
      }
    },
    {
      "cell_type": "code",
      "source": [
        "a = 97\n",
        "b = 55\n",
        "if a < b:\n",
        "    print(b)"
      ],
      "metadata": {
        "colab": {
          "base_uri": "https://localhost:8080/"
        },
        "id": "7eGMNbvaFHbm",
        "outputId": "76e00fbe-adec-453b-e95a-e8612c04862c"
      },
      "execution_count": null,
      "outputs": [
        {
          "output_type": "stream",
          "name": "stdout",
          "text": [
            "55\n"
          ]
        }
      ]
    },
    {
      "cell_type": "markdown",
      "source": [
        "El programa evalúa la expresión de prueba y, a continuación, ejecuta el código dentro de la instrucción ``if`` sólo si la expresión de prueba es ``True (Verdadera)``. Si evalúa la expresión, sabe que es ``False (Falso)``, no se ejecutará ningún código que escriba en la instrucción ``if``.\n",
        "\n",
        "### Escribir declaraciones ``if``\n",
        "\n",
        "Utiliza una instrucción ``if`` si deseas ejecutar código sólo si se cumple una determinada condición. La sintaxis de una instrucción ``if`` es siempre:\n",
        "\n",
        "```\n",
        "if expresion_prueba:\n",
        "    # intrucción(es) a ejecutar\n",
        "```\n"
      ],
      "metadata": {
        "id": "tNf6aW0KGKG7"
      }
    },
    {
      "cell_type": "markdown",
      "source": [
        "En Python, el cuerpo de una instrucción ``if`` debe tener [sangría](https://es.wikipedia.org/wiki/Sangr%C3%ADa_(tipograf%C3%ADa)) . Siempre se ejecutará cualquier código que siga a una expresión de prueba que no tenga sangría:\n"
      ],
      "metadata": {
        "id": "kS4EwttdGxru"
      }
    },
    {
      "cell_type": "code",
      "source": [
        "\n",
        "a = 24\n",
        "b = 44\n",
        "if a <= 0:\n",
        "    print(a)\n",
        "print(b)\n"
      ],
      "metadata": {
        "colab": {
          "base_uri": "https://localhost:8080/"
        },
        "id": "nwSeCYrNHJxF",
        "outputId": "37e61491-7c9d-4546-c6ec-c293bd03248a"
      },
      "execution_count": null,
      "outputs": [
        {
          "output_type": "stream",
          "name": "stdout",
          "text": [
            "44\n"
          ]
        }
      ]
    },
    {
      "cell_type": "markdown",
      "source": [
        "\n",
        "En este ejemplo, el ``44`` como resultado se debe a que la expresión de prueba es ``False`` y la instrucción ``print(b)`` no tiene sangría en el mismo nivel que la instrucción ``if``.\n",
        "\n",
        "### ¿Qué son las declaraciones \"else\" y \"elif\"?  \n",
        "\n",
        "¿Qué sucede si también deseas que tu programa ejecute una pieza de código cuando tu expresión de prueba es ``False``? ¿O qué pasa si deseas incluir otra expresión de prueba?.\n",
        "\n",
        "Python tiene otras palabras clave que puedes usar para hacer declaraciones ``if`` más complejas, ``else`` y ``elif`` . Cuando se utiliza ``if``, ``else``, y ``elif`` en combinación, se pueden escribir programas complejos con varias expresiones de prueba y sentencias para ejecutar.\n",
        "\n",
        "### Trabajando con else\n",
        "Cuando utilizas una instrucción, el cuerpo del programa sólo se ejecutará si la expresión de prueba es ``True``. Para agregar más código que se ejecutará cuando la expresión de prueba sea ``False``, debes agregar una instrucción ``else``.\n",
        "\n",
        "Volvamos al ejemplo de la sección anterior:\n",
        "```\n",
        "a = 93\n",
        "b = 27\n",
        "if a >= b:\n",
        "    print(a)\n",
        "```\n",
        "En este ejemplo, si ``a`` no es mayor o igual que ``b``, no pasa nada. Supongamos que desea imprimir ``b`` si la expresión de prueba es ``False``:\n"
      ],
      "metadata": {
        "id": "rHcwicqyHT-1"
      }
    },
    {
      "cell_type": "code",
      "source": [
        "a = 3\n",
        "b = 27\n",
        "if a >= b:\n",
        "    print(a)\n",
        "else:\n",
        "    print(b)"
      ],
      "metadata": {
        "colab": {
          "base_uri": "https://localhost:8080/"
        },
        "id": "zid5SuVEHnv7",
        "outputId": "2a2aff73-9573-435f-ab10-1e0885604dc6"
      },
      "execution_count": null,
      "outputs": [
        {
          "output_type": "stream",
          "name": "stdout",
          "text": [
            "27\n"
          ]
        }
      ]
    },
    {
      "cell_type": "markdown",
      "source": [
        "Si la expresión de prueba es ``False``, se omite el código del cuerpo de la instrucción ``if`` y el programa continúa ejecutándose desde la instrucción ``else``. La sintaxis de una instrucción ``if/else`` es siempre:\n",
        "\n",
        "```\n",
        "if expresion_prueba:\n",
        "    # instrucción(es) a ejecutar\n",
        "else:\n",
        "    # instrucción(es) a ejecutar\n",
        "```\n",
        "\n",
        "### Trabajando con elif\n",
        "En Python, la palabra clave ``elif`` es la abreviatura de *else if*. El uso de instrucciones ``elif`` te permite agregar varias expresiones de prueba al programa. Estas instrucciones se ejecutan en el orden en que están escritas, por lo que el programa ingresará una instrucción ``elif`` solo si la primera instrucción ``if`` es ``False`` . Por ejemplo:"
      ],
      "metadata": {
        "id": "dGl3updOHx5l"
      }
    },
    {
      "cell_type": "code",
      "source": [
        "a = 93\n",
        "b = 93\n",
        "if a > b:\n",
        "    print(\"a es mayor o igual que b\")\n",
        "elif a == b:\n",
        "    print(\"a es igual que b\")"
      ],
      "metadata": {
        "colab": {
          "base_uri": "https://localhost:8080/"
        },
        "id": "1ziLyShzICbA",
        "outputId": "86f3197f-69eb-4a29-e0f6-208766af6ed6"
      },
      "execution_count": null,
      "outputs": [
        {
          "output_type": "stream",
          "name": "stdout",
          "text": [
            "a es igual que b\n"
          ]
        }
      ]
    },
    {
      "cell_type": "markdown",
      "source": [
        "### Combinar declaraciones ``if ``, ``elif``, y ``else``\n",
        "\n",
        "Puedes combinar sentencias ``if ``, ``elif``, y ``else`` para crear programas con lógica condicional compleja. Recuerda que una instrucción ``elif`` sólo se ejecuta cuando la condición ``if `` es ``False``. También ten en cuenta que un bloque ``if `` puede tener solo un bloque ``else``, pero puede tener varios bloques ``elif``.\n",
        "\n",
        "Veamos el ejemplo de nuevo con una declaración ``elif`` añadida:\n"
      ],
      "metadata": {
        "id": "DMRqlq8ZITAv"
      }
    },
    {
      "cell_type": "code",
      "source": [
        "a = 93\n",
        "b = 93\n",
        "if a > b:\n",
        "    print(\"a es mayor que b\")\n",
        "elif a < b:\n",
        "    print(\"a es menor que b\")\n",
        "else: \n",
        "    print(\"a es igual que b\")"
      ],
      "metadata": {
        "colab": {
          "base_uri": "https://localhost:8080/"
        },
        "id": "Rsg8clwwIWqH",
        "outputId": "987c99a4-0e2d-4c66-adff-c1b4e31bf452"
      },
      "execution_count": null,
      "outputs": [
        {
          "output_type": "stream",
          "name": "stdout",
          "text": [
            "a es igual que b\n"
          ]
        }
      ]
    },
    {
      "cell_type": "markdown",
      "source": [
        "### Trabajar con lógica condicional anidada\n",
        "\n",
        "Python también admite lógica condicional anidada, lo que significa que puedes anidar sentencias ``if ``, ``elif``, y ``else``, para crear programas aún más complejos. Para anidar condiciones, indenta las condiciones internas y todo lo que esté en el mismo nivel de sangría se ejecutará en el mismo bloque de código:"
      ],
      "metadata": {
        "id": "aspRRX23JdNY"
      }
    },
    {
      "cell_type": "code",
      "source": [
        "a = 16\n",
        "b = 25\n",
        "c = 27\n",
        "if a > b:\n",
        "    if b > c:\n",
        "        print (\"a es mayor que b y b es mayor que c\")\n",
        "    else: \n",
        "        print (\"a es mayor que b y menor que c\")\n",
        "elif a == b:\n",
        "    print (\"a es igual que b\")\n",
        "else:\n",
        "    print (\"a es menor que b\")"
      ],
      "metadata": {
        "id": "uISkAAqNJeid"
      },
      "execution_count": null,
      "outputs": []
    },
    {
      "cell_type": "markdown",
      "source": [
        "### ¿Qué son los operadores 'and' y 'or'?\n",
        "\n",
        "Es posible que ocasionalmente desees combinar expresiones de prueba para evaluar varias condiciones ``if ``, ``elif``, y ``else`` en una instrucción. Para ello, utilizaremos los operadores booleanos ``and`` y ``or``.\n",
        "\n",
        "#### El operador ``or``\n",
        "\n",
        "Puede conectar dos expresiones booleanas o de prueba mediante el operador booleano ``or``. Para que toda la expresión se evalúe en ``True``, al menos una de las subexpresiones debe ser verdadera. Si ninguna de las subexpresiones es verdadera, toda la expresión se evalúa en ``False``. Por ejemplo, en la siguiente expresión, toda la expresión de prueba se evalúa en ``True``, porque se ha cumplido una de las condiciones de las subexpresiones:\n"
      ],
      "metadata": {
        "id": "tDTZ_Ts6Jwtn"
      }
    },
    {
      "cell_type": "code",
      "source": [
        "a = 23\n",
        "b = 34\n",
        "if a == 34 or b == 34:\n",
        "    print(a + b)"
      ],
      "metadata": {
        "id": "0UQhqgSGJ1QQ"
      },
      "execution_count": null,
      "outputs": []
    },
    {
      "cell_type": "markdown",
      "source": [
        "#### El operador ``and``\n",
        "\n",
        "También puedes conectar dos expresiones de prueba mediante el operador booleano ``and``. \n",
        "\n",
        "Ambas condiciones de la expresión de prueba deben ser verdaderas para que toda la expresión de prueba se evalúe en ``True``. En cualquier otro caso, la expresión de prueba es ``False``. En el ejemplo siguiente, toda la expresión de prueba se evalúa en ``False``, porque sólo una de las condiciones de las subexpresiones es ``True``:"
      ],
      "metadata": {
        "id": "PC2SZ2hUJ_DY"
      }
    },
    {
      "cell_type": "code",
      "source": [
        "a = 23\n",
        "b = 34\n",
        "if a == 34 and b == 34:\n",
        "    print (a + b)"
      ],
      "metadata": {
        "id": "z7Oo7nzUKCuu"
      },
      "execution_count": null,
      "outputs": []
    },
    {
      "cell_type": "markdown",
      "source": [
        "#### La diferencia entre ``and`` y ``or``\n",
        "\n",
        "Para resaltar la diferencia entre los dos operadores booleanos, puedes utilizar una tabla de verdad. Una tabla de verdad muestra a qué se evalúa toda la expresión de prueba en función de las dos subexpresiones.\n",
        "\n",
        "Aquí está la tabla de la verdad para: ``and`` \n",
        "\n",
        "subexpresión1 | Operador | subexpresión2 |\tResultado\n",
        "-------- | -------- | -------- | --------\n",
        "``True`` | ``and`` | ``True`` | ``True``\n",
        "``True`` | ``and`` | ``False`` | ``False``\n",
        "``False`` | ``and`` | ``True`` | ``False``\n",
        "``False`` | ``and`` | ``False`` | ``False``\n",
        "\n",
        "Aquí está la tabla de la verdad para: ``or`` \n",
        "\n",
        "subexpresión1 | Operador | subexpresión2 |\tResultado\n",
        "-------- | -------- | -------- | --------\n",
        "``True`` | ``or`` | ``True`` | ``True``\n",
        "``True`` | ``or`` | ``False`` | ``True``\n",
        "``False`` | ``or`` | ``True`` | ``True``\n",
        "``False`` | ``or`` | ``False`` | ``False``"
      ],
      "metadata": {
        "id": "TGoTNmtVKNsI"
      }
    },
    {
      "cell_type": "markdown",
      "source": [
        "#EJERCICIO\n",
        "Ejercicio - Escribir declaraciones if, else, y elif\n",
        "Las instrucciones If te permiten ejecutar condicionalmente código Python. Se usan comúnmente en Python para \"tomar decisiones\" sobre lo que debería suceder a continuación mientras se ejecuta un programa.\n",
        "\n",
        "Para crear una instrucción if en Python, define una expresión de prueba que pueda tener un valor True o False, seguido de un bloque de código con sangría que se ejecutará si se cumple la condición.\n",
        "\n",
        "if expresion_prueba:\n",
        "    # intrucción(es) a ejecutar\n",
        "Para escribir un programa con una lógica condicional más compleja, puedes agregar instrucciones else y elif al bloque de código. También puedes anidar instrucciones condicionales.\n",
        "\n",
        "if expresion_prueba:\n",
        "    # intrucción(es) a ejecutar\n",
        "    if expresion_prueba:\n",
        "        # intrucción(es) a ejecutar\n",
        "    else: \n",
        "        # intrucción(es) a ejecutar\n",
        "elif expresion_prueba:\n",
        "    # intrucción(es) a ejecutar\n",
        "else:\n",
        "    # intrucción(es) a ejecutar\n",
        "TIP Dedica unos minutos a tratar de encontrar una solución. Luego desplázate hacia abajo hasta la parte inferior para ver si has logrado compilar el programa de acuerdo con las especificaciones.\n",
        "\n",
        "Para este ejercicio, escribirás una lógica condicional que imprima una advertencia si un auto se acerca a la caseta de cobro demasiado rápido. Cualquier velocidad superior a 100 kilómetros por hora (km/h) merece una advertencia.\n",
        "\n",
        "Un auto se acerca, y viaja a una velocidad de 90 km/h.\n",
        "\n"
      ],
      "metadata": {
        "id": "r194j-2wVzSV"
      }
    },
    {
      "cell_type": "code",
      "source": [
        "# Añadir el código necesario para crear una variable que guarde la velocidad del auto.\n",
        "# Escribe una expresión de prueba para calcular si necesita una advertencia.\n",
        "# Agregue las instrucciones que se ejecutarán si la expresión de prueba es true o false.\n",
        "\n",
        "velocidad = int(input('Velocidad del auto: '))\n",
        "if velocidad > 100:\n",
        "  print(f'Su velocidad es de {velocidad} \\nCaseta próxima. Disminuya su velocidad.')\n",
        "\n"
      ],
      "metadata": {
        "id": "dp6G54rpV7KO",
        "outputId": "3459f2ff-d8ac-49fe-c21d-175e7222989a",
        "colab": {
          "base_uri": "https://localhost:8080/"
        }
      },
      "execution_count": 10,
      "outputs": [
        {
          "output_type": "stream",
          "name": "stdout",
          "text": [
            "Velocidad del auto: 120\n",
            "Su velocidad es de 120 \n",
            " Caseta próxima. Disminuya su velocidad.\n"
          ]
        }
      ]
    },
    {
      "cell_type": "markdown",
      "source": [
        "Si un asteroide entra en la atmósfera de la Tierra a una velocidad mayor o igual a 20 km/s, se produce un rayo de luz que se puede ver desde la Tierra. Escribe la lógica condicional que usa declaraciones if, else, y elif para alertar a las personas de todo el mundo que deben buscar un asteroide en el cielo. ¡Hay uno que se dirige a la tierra ahora a una velocidad de 19 km/s!\n",
        "\n"
      ],
      "metadata": {
        "id": "hs0Ak5hLWKQ4"
      }
    },
    {
      "cell_type": "code",
      "source": [
        "# Agrega el código para crear una variable para un asteroide que viaja a 19 km/s\n",
        "# Escribe varias expresiones de prueba para determinar si puedes ver el rayo de luz desde la tierra\n",
        "# Agrega las instrucciones que se ejecutarán si las expresiones de prueba son True o False\n",
        "\n",
        "velocidad = int(input('Velocidad del asteroide: '))\n",
        "if velocidad >= 20:\n",
        "  print(f'El asteroide se acerca a {velocidad} km/s \\n¡Corra al búnker más cercano!.')\n",
        "else:\n",
        "  print(f'El asteroide se acerca a {velocidad} km/s \\nDisfrute el espectáculo astronómico.')"
      ],
      "metadata": {
        "id": "ddP0HKmPWN25",
        "outputId": "c29b5f40-bc85-4e68-cc14-31a49883872a",
        "colab": {
          "base_uri": "https://localhost:8080/"
        }
      },
      "execution_count": 11,
      "outputs": [
        {
          "output_type": "stream",
          "name": "stdout",
          "text": [
            "Velocidad del asteroide: 19\n",
            "El asteroide se acerca a 19 km/s \n",
            "Disfrute el espectáculo.\n"
          ]
        }
      ]
    },
    {
      "cell_type": "markdown",
      "source": [
        "# Ejercicio: Uso de operadores and y or\n",
        "En el ejercicio anterior, trabajó con sentencias if, else, y elif para escribir programas con lógica condicional compleja. Para crear expresiones booleanas aún más interesantes, puede usar los operadores and y or en Python.\n",
        "\n",
        "Las expresiones and son sólo si ambas subexpresiones son verdaderas.\n",
        "\n",
        "expresión1 and expresión2\n",
        "\n",
        "Las expresiones or son True si al menos una subexpresión es verdadera.\n",
        "\n",
        "expresión1 or expresión2\n",
        "\n",
        "En este ejercicio, aprenderás información más matizada sobre cuándo el consumo de alcohol representan un peligro para las personas, y utilizarás esa información para generar un sistema de advertencia. Aquí está la información que necesitas saber:\n",
        "\n",
        "El consumo de menos de 25 grados de alcohol no representra un daño para el cuerpo.\n",
        "El consumo de hasta 40 genera una alerta.\n",
        "Si se consume más 40 grados, causaría daño.\n",
        "También consideremos que:\n",
        "\n",
        "Un peso mayor a 80 kg ayuda a umentar en 3 grados la tolerancia.\n",
        "Usando toda esta información, escribe un programa que emita la advertencia o información correcta a la gente en su consumo de alcohol. Utiliza instrucciones if, else, y elif, así como los operadores and y or y solicita al usuario ingrese la información necesaria para el cálculo vía consola.\n",
        "\n"
      ],
      "metadata": {
        "id": "machChjrWRsJ"
      }
    },
    {
      "cell_type": "code",
      "source": [
        "# Agrega el código para crear nuevas variables para la cantidad de alcohol ingerid y el peso de la persona(solicita los datos por consola)\n",
        "# Para probar el código, prueba con varias cantidades y pesos\n",
        "\n",
        "alcohol = int(input('Grados de alcohol ingerido: '))\n",
        "peso = float(input('Ingrese el peso de la persona: '))\n",
        "if peso <= 80 and alcohol < 25:\n",
        "  print('Consumo de alcohol bajo.')\n",
        "elif peso <= 80 and alcohol >= 25 and alcohol <= 40:\n",
        "  print('Consumo de alcohol límite.')\n",
        "elif peso <= 80 and alcohol > 40:\n",
        "  print('Consumo de alcohol peligroso para su salud.')\n",
        "elif peso > 80 and alcohol < 28:\n",
        "  print('Consumo de alcohol bajo.')\n",
        "elif peso > 80 and alcohol >= 28 and alcohol <= 43:\n",
        "  print('Consumo de alcohol límite.')\n",
        "elif peso > 80 and alcohol > 43:\n",
        "  print('Consumo de alcohol peligroso para su salud.')\n",
        "\n",
        "\n",
        "\n"
      ],
      "metadata": {
        "id": "JcAQhT3dWXX7",
        "outputId": "7ddb2936-4745-497c-ab77-53fc807ec85f",
        "colab": {
          "base_uri": "https://localhost:8080/",
          "height": 345
        }
      },
      "execution_count": 12,
      "outputs": [
        {
          "output_type": "error",
          "ename": "KeyboardInterrupt",
          "evalue": "ignored",
          "traceback": [
            "\u001b[0;31m---------------------------------------------------------------------------\u001b[0m",
            "\u001b[0;31mKeyboardInterrupt\u001b[0m                         Traceback (most recent call last)",
            "\u001b[0;32m<ipython-input-12-c8fb515d3802>\u001b[0m in \u001b[0;36m<module>\u001b[0;34m\u001b[0m\n\u001b[1;32m      2\u001b[0m \u001b[0;31m# Para probar el código, prueba con varias cantidades y pesos\u001b[0m\u001b[0;34m\u001b[0m\u001b[0;34m\u001b[0m\u001b[0;34m\u001b[0m\u001b[0m\n\u001b[1;32m      3\u001b[0m \u001b[0;34m\u001b[0m\u001b[0m\n\u001b[0;32m----> 4\u001b[0;31m \u001b[0malcohol\u001b[0m \u001b[0;34m=\u001b[0m \u001b[0mint\u001b[0m\u001b[0;34m(\u001b[0m\u001b[0minput\u001b[0m\u001b[0;34m(\u001b[0m\u001b[0;34m'Grados de alcohol ingerido: '\u001b[0m\u001b[0;34m)\u001b[0m\u001b[0;34m)\u001b[0m\u001b[0;34m\u001b[0m\u001b[0;34m\u001b[0m\u001b[0m\n\u001b[0m",
            "\u001b[0;32m/usr/local/lib/python3.8/dist-packages/ipykernel/kernelbase.py\u001b[0m in \u001b[0;36mraw_input\u001b[0;34m(self, prompt)\u001b[0m\n\u001b[1;32m    858\u001b[0m                 \u001b[0;34m\"raw_input was called, but this frontend does not support input requests.\"\u001b[0m\u001b[0;34m\u001b[0m\u001b[0;34m\u001b[0m\u001b[0m\n\u001b[1;32m    859\u001b[0m             )\n\u001b[0;32m--> 860\u001b[0;31m         return self._input_request(str(prompt),\n\u001b[0m\u001b[1;32m    861\u001b[0m             \u001b[0mself\u001b[0m\u001b[0;34m.\u001b[0m\u001b[0m_parent_ident\u001b[0m\u001b[0;34m,\u001b[0m\u001b[0;34m\u001b[0m\u001b[0;34m\u001b[0m\u001b[0m\n\u001b[1;32m    862\u001b[0m             \u001b[0mself\u001b[0m\u001b[0;34m.\u001b[0m\u001b[0m_parent_header\u001b[0m\u001b[0;34m,\u001b[0m\u001b[0;34m\u001b[0m\u001b[0;34m\u001b[0m\u001b[0m\n",
            "\u001b[0;32m/usr/local/lib/python3.8/dist-packages/ipykernel/kernelbase.py\u001b[0m in \u001b[0;36m_input_request\u001b[0;34m(self, prompt, ident, parent, password)\u001b[0m\n\u001b[1;32m    902\u001b[0m             \u001b[0;32mexcept\u001b[0m \u001b[0mKeyboardInterrupt\u001b[0m\u001b[0;34m:\u001b[0m\u001b[0;34m\u001b[0m\u001b[0;34m\u001b[0m\u001b[0m\n\u001b[1;32m    903\u001b[0m                 \u001b[0;31m# re-raise KeyboardInterrupt, to truncate traceback\u001b[0m\u001b[0;34m\u001b[0m\u001b[0;34m\u001b[0m\u001b[0;34m\u001b[0m\u001b[0m\n\u001b[0;32m--> 904\u001b[0;31m                 \u001b[0;32mraise\u001b[0m \u001b[0mKeyboardInterrupt\u001b[0m\u001b[0;34m(\u001b[0m\u001b[0;34m\"Interrupted by user\"\u001b[0m\u001b[0;34m)\u001b[0m \u001b[0;32mfrom\u001b[0m \u001b[0;32mNone\u001b[0m\u001b[0;34m\u001b[0m\u001b[0;34m\u001b[0m\u001b[0m\n\u001b[0m\u001b[1;32m    905\u001b[0m             \u001b[0;32mexcept\u001b[0m \u001b[0mException\u001b[0m \u001b[0;32mas\u001b[0m \u001b[0me\u001b[0m\u001b[0;34m:\u001b[0m\u001b[0;34m\u001b[0m\u001b[0;34m\u001b[0m\u001b[0m\n\u001b[1;32m    906\u001b[0m                 \u001b[0mself\u001b[0m\u001b[0;34m.\u001b[0m\u001b[0mlog\u001b[0m\u001b[0;34m.\u001b[0m\u001b[0mwarning\u001b[0m\u001b[0;34m(\u001b[0m\u001b[0;34m\"Invalid Message:\"\u001b[0m\u001b[0;34m,\u001b[0m \u001b[0mexc_info\u001b[0m\u001b[0;34m=\u001b[0m\u001b[0;32mTrue\u001b[0m\u001b[0;34m)\u001b[0m\u001b[0;34m\u001b[0m\u001b[0;34m\u001b[0m\u001b[0m\n",
            "\u001b[0;31mKeyboardInterrupt\u001b[0m: Interrupted by user"
          ]
        }
      ]
    },
    {
      "cell_type": "markdown",
      "source": [
        "## Ejercicio\n",
        "\n",
        "Crear una lista con 5 nombres de usuario los cuales tienen por regla estar en mayúscula, estar entre 3 y 7 caracteres y contener algún carácter especial (#, @ ó $). Solicitar por consola un nuevo nombre de usuario y agregarlo a la lista si cumple las condiciones. Mostrar errores."
      ],
      "metadata": {
        "id": "_LRTN0RUYs8u"
      }
    },
    {
      "cell_type": "code",
      "source": [
        "caracter_esp = ['@','$','#']\n",
        "usuarios = ['ALE@','#DAVID','RICHI$','JUAN@','LUCY$']     #Lista creada\n",
        "nuevo_usuario = input('Ingresa el nuevo usuario: ').upper()\n",
        "if len(nuevo_usuario) >= 3 and len(nuevo_usuario) <= 7:\n",
        "  if nuevo_usuario.find(caracter_esp[0]) >= 0 or nuevo_usuario.find(caracter_esp[1]) >= 0 or nuevo_usuario.find(caracter_esp[2]) >= 0:\n",
        "    usuarios.append(nuevo_usuario)\n",
        "    print(f'El usuario {nuevo_usuario} ha sido agregado.')\n",
        "  else:\n",
        "    print(f'El usuario {nuevo_usuario} no contiene ningún caracter especial admitido.')\n",
        "else:\n",
        "  print(f'El usuario {nuevo_usuario} no cumple los requisitos para ser agregado.')\n"
      ],
      "metadata": {
        "id": "ZjoxsGqyYxqm",
        "outputId": "4546b31b-4880-46f9-e570-84c6d09df7ae",
        "colab": {
          "base_uri": "https://localhost:8080/"
        }
      },
      "execution_count": 6,
      "outputs": [
        {
          "output_type": "stream",
          "name": "stdout",
          "text": [
            "Ingresa el nuevo usuario: ana\n",
            "El usuario ANA no contiene ningún caracter especial admitido.\n"
          ]
        }
      ]
    },
    {
      "cell_type": "markdown",
      "source": [
        "# SOLUCIONES\n",
        "Problema No. 1\n"
      ],
      "metadata": {
        "id": "BdA9ffnWWaub"
      }
    },
    {
      "cell_type": "code",
      "source": [
        "# Añadir el código necesario para crear una variable que guarde la velocidad del asteroide.\n",
        "# Escribe una expresión de prueba para calcular si necesita una advertencia.\n",
        "# Agregue las instrucciones que se ejecutarán si la expresión de prueba es true o false.\n",
        "\n",
        "vel_auto = 90\n",
        "if vel_auto > 100:\n",
        "    print('¡Alerta! ¡Un auto se acerca a velocidades peligrosas!',vel_auto,'km/h')\n",
        "else:\n",
        "    print('¡Velocidad dentro del parámetro!',vel_auto,'km/h')\n"
      ],
      "metadata": {
        "id": "po-h8zB7Wgg7"
      },
      "execution_count": null,
      "outputs": []
    },
    {
      "cell_type": "markdown",
      "source": [
        "Problema No. 2\n"
      ],
      "metadata": {
        "id": "h1QW8Uu3WjYF"
      }
    },
    {
      "cell_type": "code",
      "source": [
        "# Agrega el código para crear nuevas variables para la cantidad de alcohol ingerid y el peso de la persona(solicita los datos por consola)\n",
        "# Para probar el código, prueba con varias cantidades y pesos\n",
        "# Esta es solo una guia de la solución, corrige o aumenta lo necesario\n",
        "\n",
        "consumo = int(input('cuántos grados de alcohol consumiste?'))\n",
        "peso = int(input('cuántos kilos pesas?'))\n",
        "if consumo > 40 and peso < 80:\n",
        "    print('¡Alerta, Has consumido una cantidad peligrosa!')\n",
        "elif consumo > 40 and peso > 80:\n",
        "    consumo = consumo - 3\n",
        "    if consumo > 40:\n",
        "      print('¡Alerta, Has consumido una cantidad peligrosa!')\n",
        "    else:\n",
        "      print('Todo ok!!!')\n",
        "elif consumo > 25 and consumo < 40:\n",
        "    print('Alerta!!!!')\n",
        "else consumo < 25:\n",
        "    print('Sigue así')"
      ],
      "metadata": {
        "id": "MLqAZEaJWljm"
      },
      "execution_count": null,
      "outputs": []
    }
  ]
}
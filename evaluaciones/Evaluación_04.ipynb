{
  "nbformat": 4,
  "nbformat_minor": 0,
  "metadata": {
    "colab": {
      "provenance": [],
      "authorship_tag": "ABX9TyN9vTYploDGjCuno8BsnG45",
      "include_colab_link": true
    },
    "kernelspec": {
      "name": "python3",
      "display_name": "Python 3"
    },
    "language_info": {
      "name": "python"
    }
  },
  "cells": [
    {
      "cell_type": "markdown",
      "metadata": {
        "id": "view-in-github",
        "colab_type": "text"
      },
      "source": [
        "<a href=\"https://colab.research.google.com/github/sicariusdevx/Python/blob/main/evaluaciones/Evaluaci%C3%B3n_04.ipynb\" target=\"_parent\"><img src=\"https://colab.research.google.com/assets/colab-badge.svg\" alt=\"Open In Colab\"/></a>"
      ]
    },
    {
      "cell_type": "markdown",
      "source": [
        "Práctica 4.\n",
        "6 puntos\n",
        "\n",
        "Tipos de colección de datos.\n",
        "\n",
        "4.1 Ejercicio 1(1.2 puntos)\n",
        "Realizar un programa que inicialice una lista con 10 valores aleatorios (del 1 al 10) y posteriormente muestre en pantalla cada elemento de la lista junto con su cuadrado y su cubo. Respuesta:"
      ],
      "metadata": {
        "id": "OPFVoXactLE_"
      }
    },
    {
      "cell_type": "code",
      "execution_count": 15,
      "metadata": {
        "id": "1o_haapEsdkh",
        "colab": {
          "base_uri": "https://localhost:8080/"
        },
        "outputId": "516fc43a-3e5b-4829-9f0a-e3cfd7e5518e"
      },
      "outputs": [
        {
          "output_type": "stream",
          "name": "stdout",
          "text": [
            "[2, 7, 4, 2, 9, 6, 6, 10, 5, 6]\n",
            "[4, 49, 16, 4, 81, 36, 36, 100, 25, 36]\n",
            "[8, 343, 64, 8, 729, 216, 216, 1000, 125, 216]\n"
          ]
        }
      ],
      "source": [
        "from random import randint\n",
        "\n",
        "valores = []\n",
        "valores.append(randint(1,10))\n",
        "valores.append(randint(1,10))\n",
        "valores.append(randint(1,10))\n",
        "valores.append(randint(1,10))\n",
        "valores.append(randint(1,10))\n",
        "valores.append(randint(1,10))\n",
        "valores.append(randint(1,10))\n",
        "valores.append(randint(1,10))\n",
        "valores.append(randint(1,10))\n",
        "valores.append(randint(1,10))\n",
        "print(valores)\n",
        "valores_cuadr = []\n",
        "valores_cuadr.append(valores[0]**2)\n",
        "valores_cuadr.append(valores[1]**2)\n",
        "valores_cuadr.append(valores[2]**2)\n",
        "valores_cuadr.append(valores[3]**2)\n",
        "valores_cuadr.append(valores[4]**2)\n",
        "valores_cuadr.append(valores[5]**2)\n",
        "valores_cuadr.append(valores[6]**2)\n",
        "valores_cuadr.append(valores[7]**2)\n",
        "valores_cuadr.append(valores[8]**2)\n",
        "valores_cuadr.append(valores[9]**2)\n",
        "print(valores_cuadr)\n",
        "valores_cubo = []\n",
        "valores_cubo.append(valores[0]**3)\n",
        "valores_cubo.append(valores[1]**3)\n",
        "valores_cubo.append(valores[2]**3)\n",
        "valores_cubo.append(valores[3]**3)\n",
        "valores_cubo.append(valores[4]**3)\n",
        "valores_cubo.append(valores[5]**3)\n",
        "valores_cubo.append(valores[6]**3)\n",
        "valores_cubo.append(valores[7]**3)\n",
        "valores_cubo.append(valores[8]**3)\n",
        "valores_cubo.append(valores[9]**3)\n",
        "print(valores_cubo)\n"
      ]
    },
    {
      "cell_type": "markdown",
      "source": [],
      "metadata": {
        "id": "gg-1pOeuxfBG"
      }
    }
  ]
}
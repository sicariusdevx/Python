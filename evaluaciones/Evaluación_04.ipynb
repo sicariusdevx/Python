{
  "nbformat": 4,
  "nbformat_minor": 0,
  "metadata": {
    "colab": {
      "provenance": [],
      "authorship_tag": "ABX9TyNcJUCbEERB7j1WHbuRStwz",
      "include_colab_link": true
    },
    "kernelspec": {
      "name": "python3",
      "display_name": "Python 3"
    },
    "language_info": {
      "name": "python"
    }
  },
  "cells": [
    {
      "cell_type": "markdown",
      "metadata": {
        "id": "view-in-github",
        "colab_type": "text"
      },
      "source": [
        "<a href=\"https://colab.research.google.com/github/sicariusdevx/Python/blob/main/evaluaciones/Evaluaci%C3%B3n_04.ipynb\" target=\"_parent\"><img src=\"https://colab.research.google.com/assets/colab-badge.svg\" alt=\"Open In Colab\"/></a>"
      ]
    },
    {
      "cell_type": "markdown",
      "source": [
        "# Práctica 4.\n",
        "6 puntos\n",
        "\n",
        "Tipos de colección de datos.\n",
        "\n",
        "## 4.1 Ejercicio 1(1.2 puntos)\n",
        "Realizar un programa que inicialice una lista con 10 valores aleatorios (del 1 al 10) y posteriormente muestre en pantalla cada elemento de la lista junto con su cuadrado y su cubo. Respuesta:"
      ],
      "metadata": {
        "id": "OPFVoXactLE_"
      }
    },
    {
      "cell_type": "code",
      "execution_count": null,
      "metadata": {
        "id": "1o_haapEsdkh",
        "colab": {
          "base_uri": "https://localhost:8080/"
        },
        "outputId": "516fc43a-3e5b-4829-9f0a-e3cfd7e5518e"
      },
      "outputs": [
        {
          "output_type": "stream",
          "name": "stdout",
          "text": [
            "[2, 7, 4, 2, 9, 6, 6, 10, 5, 6]\n",
            "[4, 49, 16, 4, 81, 36, 36, 100, 25, 36]\n",
            "[8, 343, 64, 8, 729, 216, 216, 1000, 125, 216]\n"
          ]
        }
      ],
      "source": [
        "from random import randint\n",
        "\n",
        "valores = []\n",
        "valores.append(randint(1,10))\n",
        "valores.append(randint(1,10))\n",
        "valores.append(randint(1,10))\n",
        "valores.append(randint(1,10))\n",
        "valores.append(randint(1,10))\n",
        "valores.append(randint(1,10))\n",
        "valores.append(randint(1,10))\n",
        "valores.append(randint(1,10))\n",
        "valores.append(randint(1,10))\n",
        "valores.append(randint(1,10))\n",
        "print(valores)\n",
        "valores_cuadr = []\n",
        "valores_cuadr.append(valores[0]**2)\n",
        "valores_cuadr.append(valores[1]**2)\n",
        "valores_cuadr.append(valores[2]**2)\n",
        "valores_cuadr.append(valores[3]**2)\n",
        "valores_cuadr.append(valores[4]**2)\n",
        "valores_cuadr.append(valores[5]**2)\n",
        "valores_cuadr.append(valores[6]**2)\n",
        "valores_cuadr.append(valores[7]**2)\n",
        "valores_cuadr.append(valores[8]**2)\n",
        "valores_cuadr.append(valores[9]**2)\n",
        "print(valores_cuadr)\n",
        "valores_cubo = []\n",
        "valores_cubo.append(valores[0]**3)\n",
        "valores_cubo.append(valores[1]**3)\n",
        "valores_cubo.append(valores[2]**3)\n",
        "valores_cubo.append(valores[3]**3)\n",
        "valores_cubo.append(valores[4]**3)\n",
        "valores_cubo.append(valores[5]**3)\n",
        "valores_cubo.append(valores[6]**3)\n",
        "valores_cubo.append(valores[7]**3)\n",
        "valores_cubo.append(valores[8]**3)\n",
        "valores_cubo.append(valores[9]**3)\n",
        "print(valores_cubo)\n"
      ]
    },
    {
      "cell_type": "markdown",
      "source": [
        "## 4.2 Ejercicio 2 (1.2 puntos)\n",
        "Crea una lista e inicializarla con 5 cadenas de caracteres leídas por teclado. Copia los elementos de la lista en otra lista pero en orden inverso, y muestra sus elementos por la pantalla."
      ],
      "metadata": {
        "id": "gg-1pOeuxfBG"
      }
    },
    {
      "cell_type": "code",
      "source": [
        "print('Lista invertida')\n",
        "lista_char = []\n",
        "lista_char.append(input('Introduce una letra: '))\n",
        "lista_char.append(input('Introduce una letra: '))\n",
        "lista_char.append(input('Introduce una letra: '))\n",
        "lista_char.append(input('Introduce una letra: '))\n",
        "lista_char.append(input('Introduce una letra: '))\n",
        "print(lista_char)\n",
        "lista_inv = []\n",
        "lista_inv.append(lista_char[-1])\n",
        "lista_inv.append(lista_char[-2])\n",
        "lista_inv.append(lista_char[-3])\n",
        "lista_inv.append(lista_char[-4])\n",
        "lista_inv.append(lista_char[-5])\n",
        "print(lista_inv)"
      ],
      "metadata": {
        "colab": {
          "base_uri": "https://localhost:8080/"
        },
        "id": "7w0JSbCaEU2D",
        "outputId": "f39caae4-5a1b-42bd-953d-61390db9d794"
      },
      "execution_count": null,
      "outputs": [
        {
          "output_type": "stream",
          "name": "stdout",
          "text": [
            "Lista invertida\n",
            "Introduce una letra: a\n",
            "Introduce una letra: b\n",
            "Introduce una letra: c\n",
            "Introduce una letra: d\n",
            "Introduce una letra: e\n",
            "['a', 'b', 'c', 'd', 'e']\n",
            "['e', 'd', 'c', 'b', 'a']\n"
          ]
        }
      ]
    },
    {
      "cell_type": "markdown",
      "source": [
        "## 4.3 Ejercicio 3 (1.2 puntos)\n",
        "Se quiere realizar un programa que lea por teclado las 5 notas obtenidas por un alumno (comprendidas entre 0 y 10). A continuación debe mostrar todas las notas, la nota media, la nota más alta que ha sacado y la menor."
      ],
      "metadata": {
        "id": "75KQIfhUGBd5"
      }
    },
    {
      "cell_type": "code",
      "source": [
        "notas = []\n",
        "notas.append(float(input(\"Primera calificación: \")))\n",
        "notas.append(float(input(\"Segunda calificación: \")))\n",
        "notas.append(float(input(\"Tercera calificación: \")))\n",
        "notas.append(float(input(\"Cuarta  calificación: \")))\n",
        "notas.append(float(input(\"Quinta  calificación: \")))\n",
        "notas.append(float(input(\"Sexta   calificación: \")))\n",
        "notas.append(float(input(\"Séptima calificación: \")))\n",
        "notas.append(float(input(\"Octava  calificación: \")))\n",
        "notas.append(float(input(\"Novena  calificación: \")))\n",
        "notas.append(float(input(\"Décima  calificación: \")))\n",
        "print(f'Calificaciones: {notas}')\n",
        "print(f'Calificación media: {sum(notas)/len(notas)}')\n",
        "print(f'Nota más alta: {max(notas)}')\n",
        "print(f'Nota menor: {min(notas)}')\n"
      ],
      "metadata": {
        "colab": {
          "base_uri": "https://localhost:8080/"
        },
        "id": "ETXaXkWdGHBU",
        "outputId": "1008e8cd-1661-4a52-8b45-b6b5d9c806b7"
      },
      "execution_count": null,
      "outputs": [
        {
          "output_type": "stream",
          "name": "stdout",
          "text": [
            "Primera calificación: 9.2\n",
            "Segunda calificación: 8.4\n",
            "Tercera calificación: 10\n",
            "Cuarta  calificación: 7.5\n",
            "Quinta  calificación: 6.7\n",
            "Sexta   calificación: 9.5\n",
            "Séptima calificación: 9.4\n",
            "Octava  calificación: 9.8\n",
            "Novena  calificación: 7.3\n",
            "Décima  calificación: 6.9\n",
            "Calificaciones: [9.2, 8.4, 10.0, 7.5, 6.7, 9.5, 9.4, 9.8, 7.3, 6.9]\n",
            "Calificación media: 8.47\n",
            "Nota más alta: 10.0\n",
            "Nota menor: 6.7\n"
          ]
        }
      ]
    },
    {
      "cell_type": "markdown",
      "source": [
        "## 4.4 Ejercicio 4 (1.2 puntos)\n",
        "Codifica un programa en python que nos permita guardar los nombres de los alumnos de una clase y las notas que han obtenido. Cada alumno puede tener distinta cantidad de notas. Guarda la información en un diccionario cuya claves serán los nombres de los alumnos y los valores serán listados con las notas de cada alumno.\n",
        "\n",
        "El programa pedirá el número de alumnos que vamos a introducir, pedirá su nombre e irá pidiendo sus notas hasta que introduzcamos un número negativo. Al final el programa nos mostrará la lista de alumnos y la nota media obtenida por cada uno de ellos. Nota: si se introduce el nombre de un alumno que ya existe el programa nos dará un error."
      ],
      "metadata": {
        "id": "ur6j-EeFHxKs"
      }
    },
    {
      "cell_type": "code",
      "source": [
        "print('Estudiantes y calificaciones')\n",
        "cant_est = int(input('Introduzca la cantidad de estudiantes a capturar: '))\n",
        "estudiantes = []\n",
        "# Crear vector estudiantes, cada lugar es un diccionario de nombre y arreglo calificaciones\n",
        "for i in estudiantes:\n",
        "  estudiantes[i] = {\"nombre\":\"\",\"calif\":[]}\n",
        "# recorremos estudiantes, en cada vuelta utilizamos est_cap para introducir un nuevo nombre\n",
        "# Mientras la calificación no sea menor a 0 continúa admitiendo calificaciones\n",
        "for i in range(0,cant_est):\n",
        "  estudiante_capturado = {\"nombre\":\"\",\"calif\":[]}\n",
        "  estudiante_capturado[\"nombre\"] = input('Introduce el nombre del estudiante: ').title()\n",
        "  if estudiante_capturado['nombre'] not in estudiantes:\n",
        "    a = 0\n",
        "    while a >= 0:\n",
        "      a = float(input(f'Introduzca calificación de {estudiante_capturado[\"nombre\"]}: '))\n",
        "# verifica que la calificación exista y que se encuentre entre 0 y 10\n",
        "      if a and a >= 0 and a <= 10:\n",
        "        estudiante_capturado['calif'].append(a)\n",
        "  print(estudiante_capturado)\n",
        "# Añade el estudiante y sus calificaciones a la lista de estudiantes\n",
        "  estudiantes.append(estudiante_capturado)\n",
        "print('Calificaciones finales')\n",
        "# Recorremos estudiantes e imprimimos su nombre y promedio final\n",
        "for estudiante in estudiantes:\n",
        "  suma = 0\n",
        "  for calificacion in estudiante['calif']:\n",
        "    suma += calificacion\n",
        "  promedio = suma/len(estudiante['calif']) \n",
        "  print(f'{estudiante[\"nombre\"]}, promedio final {promedio}')\n",
        "print(estudiantes)\n"
      ],
      "metadata": {
        "id": "9XuoEorKH4S6",
        "outputId": "6adc66ab-9b5d-4d09-d1ee-2423bbb94662",
        "colab": {
          "base_uri": "https://localhost:8080/"
        }
      },
      "execution_count": 5,
      "outputs": [
        {
          "output_type": "stream",
          "name": "stdout",
          "text": [
            "Estudiantes y calificaciones\n",
            "Introduzca la cantidad de estudiantes a capturar: 2\n",
            "Introduce el nombre del estudiante: Alex\n",
            "Introduzca calificación de Alex: 10\n",
            "Introduzca calificación de Alex: 9\n",
            "Introduzca calificación de Alex: 8\n",
            "Introduzca calificación de Alex: -2\n",
            "{'nombre': 'Alex', 'calif': [10.0, 9.0, 8.0]}\n",
            "Introduce el nombre del estudiante: Ana\n",
            "Introduzca calificación de Ana: 10\n",
            "Introduzca calificación de Ana: 5\n",
            "Introduzca calificación de Ana: 4\n",
            "Introduzca calificación de Ana: 2\n",
            "Introduzca calificación de Ana: 3\n",
            "Introduzca calificación de Ana: -2\n",
            "{'nombre': 'Ana', 'calif': [10.0, 5.0, 4.0, 2.0, 3.0]}\n",
            "Calificaciones finales\n",
            "Alex: 9.0\n",
            "Ana: 4.8\n",
            "[{'nombre': 'Alex', 'calif': [10.0, 9.0, 8.0]}, {'nombre': 'Ana', 'calif': [10.0, 5.0, 4.0, 2.0, 3.0]}]\n"
          ]
        }
      ]
    },
    {
      "cell_type": "markdown",
      "source": [
        "## 4.5 Ejercicio 5 (1.2 puntos)\n",
        "Crea una tupla con los meses del año, pide números al usuario, si el número está entre 1 y la longitud máxima de la tupla, muestra el contenido de esa posición sino muestra un mensaje de error. El programa termina cuando el usuario introduce un cero."
      ],
      "metadata": {
        "id": "JNhFWsuJbe7N"
      }
    },
    {
      "cell_type": "code",
      "source": [
        "meses = ('Enero','Febrero','Marzo','Abril','Mayo','Junio','Julio','Agosto','Septiembre','Octubre','Noviembre','Diciembre')\n",
        "numero = -1\n",
        "while numero != 0:\n",
        "  numero = int(input('Introduzca un número (para terminar el programa escriba 0): '))\n",
        "  if numero > 0 and numero < 13:\n",
        "    print(meses[numero - 1])\n",
        "  elif numero == 0:\n",
        "    print(f'Programa terminado')\n",
        "  else:\n",
        "    print(f'El número {numero} no es válido. Intente nuevamente')\n"
      ],
      "metadata": {
        "id": "zn9Qw_mlbgw0",
        "outputId": "0eae3eac-f1aa-4ca4-f691-d7a9d745d30c",
        "colab": {
          "base_uri": "https://localhost:8080/"
        }
      },
      "execution_count": null,
      "outputs": [
        {
          "output_type": "stream",
          "name": "stdout",
          "text": [
            "Introduzca un número (para terminar el programa escriba 0): -5\n",
            "El número -5 no es válido. Intente nuevamente\n",
            "Introduzca un número (para terminar el programa escriba 0): 13\n",
            "El número 13 no es válido. Intente nuevamente\n",
            "Introduzca un número (para terminar el programa escriba 0): 2\n",
            "Febrero\n",
            "Introduzca un número (para terminar el programa escriba 0): 5\n",
            "Mayo\n",
            "Introduzca un número (para terminar el programa escriba 0): 12\n",
            "Diciembre\n",
            "Introduzca un número (para terminar el programa escriba 0): 0\n",
            "Programa terminado\n"
          ]
        }
      ]
    }
  ]
}
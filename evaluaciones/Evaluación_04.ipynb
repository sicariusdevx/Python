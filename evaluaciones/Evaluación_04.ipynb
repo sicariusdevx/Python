{
  "nbformat": 4,
  "nbformat_minor": 0,
  "metadata": {
    "colab": {
      "provenance": [],
      "authorship_tag": "ABX9TyNHRtbC31e29QCe6MP0GHec",
      "include_colab_link": true
    },
    "kernelspec": {
      "name": "python3",
      "display_name": "Python 3"
    },
    "language_info": {
      "name": "python"
    }
  },
  "cells": [
    {
      "cell_type": "markdown",
      "metadata": {
        "id": "view-in-github",
        "colab_type": "text"
      },
      "source": [
        "<a href=\"https://colab.research.google.com/github/sicariusdevx/Python/blob/main/evaluaciones/Evaluaci%C3%B3n_04.ipynb\" target=\"_parent\"><img src=\"https://colab.research.google.com/assets/colab-badge.svg\" alt=\"Open In Colab\"/></a>"
      ]
    },
    {
      "cell_type": "markdown",
      "source": [
        "# Práctica 4.\n",
        "6 puntos\n",
        "\n",
        "Tipos de colección de datos.\n",
        "\n",
        "## 4.1 Ejercicio 1(1.2 puntos)\n",
        "Realizar un programa que inicialice una lista con 10 valores aleatorios (del 1 al 10) y posteriormente muestre en pantalla cada elemento de la lista junto con su cuadrado y su cubo. Respuesta:"
      ],
      "metadata": {
        "id": "OPFVoXactLE_"
      }
    },
    {
      "cell_type": "code",
      "execution_count": null,
      "metadata": {
        "id": "1o_haapEsdkh",
        "colab": {
          "base_uri": "https://localhost:8080/"
        },
        "outputId": "516fc43a-3e5b-4829-9f0a-e3cfd7e5518e"
      },
      "outputs": [
        {
          "output_type": "stream",
          "name": "stdout",
          "text": [
            "[2, 7, 4, 2, 9, 6, 6, 10, 5, 6]\n",
            "[4, 49, 16, 4, 81, 36, 36, 100, 25, 36]\n",
            "[8, 343, 64, 8, 729, 216, 216, 1000, 125, 216]\n"
          ]
        }
      ],
      "source": [
        "from random import randint\n",
        "\n",
        "valores = []\n",
        "valores.append(randint(1,10))\n",
        "valores.append(randint(1,10))\n",
        "valores.append(randint(1,10))\n",
        "valores.append(randint(1,10))\n",
        "valores.append(randint(1,10))\n",
        "valores.append(randint(1,10))\n",
        "valores.append(randint(1,10))\n",
        "valores.append(randint(1,10))\n",
        "valores.append(randint(1,10))\n",
        "valores.append(randint(1,10))\n",
        "print(valores)\n",
        "valores_cuadr = []\n",
        "valores_cuadr.append(valores[0]**2)\n",
        "valores_cuadr.append(valores[1]**2)\n",
        "valores_cuadr.append(valores[2]**2)\n",
        "valores_cuadr.append(valores[3]**2)\n",
        "valores_cuadr.append(valores[4]**2)\n",
        "valores_cuadr.append(valores[5]**2)\n",
        "valores_cuadr.append(valores[6]**2)\n",
        "valores_cuadr.append(valores[7]**2)\n",
        "valores_cuadr.append(valores[8]**2)\n",
        "valores_cuadr.append(valores[9]**2)\n",
        "print(valores_cuadr)\n",
        "valores_cubo = []\n",
        "valores_cubo.append(valores[0]**3)\n",
        "valores_cubo.append(valores[1]**3)\n",
        "valores_cubo.append(valores[2]**3)\n",
        "valores_cubo.append(valores[3]**3)\n",
        "valores_cubo.append(valores[4]**3)\n",
        "valores_cubo.append(valores[5]**3)\n",
        "valores_cubo.append(valores[6]**3)\n",
        "valores_cubo.append(valores[7]**3)\n",
        "valores_cubo.append(valores[8]**3)\n",
        "valores_cubo.append(valores[9]**3)\n",
        "print(valores_cubo)\n"
      ]
    },
    {
      "cell_type": "code",
      "source": [
        "from random import randint\n",
        "\n",
        "valores = []\n",
        "\n",
        "for i in range(10):\n",
        "  valores.append(randint(1,10))\n",
        "\n",
        "print(f'{valores}')\n",
        "print(f'Cuadrados de la lista')\n",
        "for valor in valores:\n",
        "  print(f'{valor}^2 = {valor**2}')\n",
        "print(f'Cubos de la lista')\n",
        "for valor in valores:\n",
        "  print(f'{valor}^3 = {valor**3}')"
      ],
      "metadata": {
        "id": "xIHmaZ2ANn7o",
        "outputId": "40919145-f665-43e3-d2f4-df0b2533820e",
        "colab": {
          "base_uri": "https://localhost:8080/"
        }
      },
      "execution_count": 14,
      "outputs": [
        {
          "output_type": "stream",
          "name": "stdout",
          "text": [
            "[8, 8, 7, 2, 7, 7, 10, 9, 3, 1]\n",
            "8^2 = 64\n",
            "8^2 = 64\n",
            "7^2 = 49\n",
            "2^2 = 4\n",
            "7^2 = 49\n",
            "7^2 = 49\n",
            "10^2 = 100\n",
            "9^2 = 81\n",
            "3^2 = 9\n",
            "1^2 = 1\n",
            "8^3 = 512\n",
            "8^3 = 512\n",
            "7^3 = 343\n",
            "2^3 = 8\n",
            "7^3 = 343\n",
            "7^3 = 343\n",
            "10^3 = 1000\n",
            "9^3 = 729\n",
            "3^3 = 27\n",
            "1^3 = 1\n"
          ]
        }
      ]
    },
    {
      "cell_type": "markdown",
      "source": [
        "## 4.2 Ejercicio 2 (1.2 puntos)\n",
        "Crea una lista e inicializarla con 5 cadenas de caracteres leídas por teclado. Copia los elementos de la lista en otra lista pero en orden inverso, y muestra sus elementos por la pantalla."
      ],
      "metadata": {
        "id": "gg-1pOeuxfBG"
      }
    },
    {
      "cell_type": "code",
      "source": [
        "print('Lista invertida')\n",
        "lista_char = []\n",
        "lista_char.append(input('Introduce una letra: '))\n",
        "lista_char.append(input('Introduce una letra: '))\n",
        "lista_char.append(input('Introduce una letra: '))\n",
        "lista_char.append(input('Introduce una letra: '))\n",
        "lista_char.append(input('Introduce una letra: '))\n",
        "print(lista_char)\n",
        "lista_inv = []\n",
        "lista_inv.append(lista_char[-1])\n",
        "lista_inv.append(lista_char[-2])\n",
        "lista_inv.append(lista_char[-3])\n",
        "lista_inv.append(lista_char[-4])\n",
        "lista_inv.append(lista_char[-5])\n",
        "print(lista_inv)"
      ],
      "metadata": {
        "colab": {
          "base_uri": "https://localhost:8080/"
        },
        "id": "7w0JSbCaEU2D",
        "outputId": "f39caae4-5a1b-42bd-953d-61390db9d794"
      },
      "execution_count": null,
      "outputs": [
        {
          "output_type": "stream",
          "name": "stdout",
          "text": [
            "Lista invertida\n",
            "Introduce una letra: a\n",
            "Introduce una letra: b\n",
            "Introduce una letra: c\n",
            "Introduce una letra: d\n",
            "Introduce una letra: e\n",
            "['a', 'b', 'c', 'd', 'e']\n",
            "['e', 'd', 'c', 'b', 'a']\n"
          ]
        }
      ]
    },
    {
      "cell_type": "markdown",
      "source": [
        "## 4.3 Ejercicio 3 (1.2 puntos)\n",
        "Se quiere realizar un programa que lea por teclado las 5 notas obtenidas por un alumno (comprendidas entre 0 y 10). A continuación debe mostrar todas las notas, la nota media, la nota más alta que ha sacado y la menor."
      ],
      "metadata": {
        "id": "75KQIfhUGBd5"
      }
    },
    {
      "cell_type": "code",
      "source": [
        "notas = []\n",
        "notas.append(float(input(\"Primera calificación: \")))\n",
        "notas.append(float(input(\"Segunda calificación: \")))\n",
        "notas.append(float(input(\"Tercera calificación: \")))\n",
        "notas.append(float(input(\"Cuarta  calificación: \")))\n",
        "notas.append(float(input(\"Quinta  calificación: \")))\n",
        "notas.append(float(input(\"Sexta   calificación: \")))\n",
        "notas.append(float(input(\"Séptima calificación: \")))\n",
        "notas.append(float(input(\"Octava  calificación: \")))\n",
        "notas.append(float(input(\"Novena  calificación: \")))\n",
        "notas.append(float(input(\"Décima  calificación: \")))\n",
        "print(f'Calificaciones: {notas}')\n",
        "print(f'Calificación media: {sum(notas)/len(notas)}')\n",
        "print(f'Nota más alta: {max(notas)}')\n",
        "print(f'Nota menor: {min(notas)}')\n"
      ],
      "metadata": {
        "colab": {
          "base_uri": "https://localhost:8080/"
        },
        "id": "ETXaXkWdGHBU",
        "outputId": "1008e8cd-1661-4a52-8b45-b6b5d9c806b7"
      },
      "execution_count": null,
      "outputs": [
        {
          "output_type": "stream",
          "name": "stdout",
          "text": [
            "Primera calificación: 9.2\n",
            "Segunda calificación: 8.4\n",
            "Tercera calificación: 10\n",
            "Cuarta  calificación: 7.5\n",
            "Quinta  calificación: 6.7\n",
            "Sexta   calificación: 9.5\n",
            "Séptima calificación: 9.4\n",
            "Octava  calificación: 9.8\n",
            "Novena  calificación: 7.3\n",
            "Décima  calificación: 6.9\n",
            "Calificaciones: [9.2, 8.4, 10.0, 7.5, 6.7, 9.5, 9.4, 9.8, 7.3, 6.9]\n",
            "Calificación media: 8.47\n",
            "Nota más alta: 10.0\n",
            "Nota menor: 6.7\n"
          ]
        }
      ]
    },
    {
      "cell_type": "markdown",
      "source": [
        "## 4.4 Ejercicio 4 (1.2 puntos)\n",
        "Codifica un programa en python que nos permita guardar los nombres de los alumnos de una clase y las notas que han obtenido. Cada alumno puede tener distinta cantidad de notas. Guarda la información en un diccionario cuya claves serán los nombres de los alumnos y los valores serán listados con las notas de cada alumno.\n",
        "\n",
        "El programa pedirá el número de alumnos que vamos a introducir, pedirá su nombre e irá pidiendo sus notas hasta que introduzcamos un número negativo. Al final el programa nos mostrará la lista de alumnos y la nota media obtenida por cada uno de ellos. Nota: si se introduce el nombre de un alumno que ya existe el programa nos dará un error."
      ],
      "metadata": {
        "id": "ur6j-EeFHxKs"
      }
    },
    {
      "cell_type": "code",
      "source": [
        "print('Estudiantes y calificaciones')\n",
        "cant_est = int(input('Introduzca la cantidad de estudiantes a capturar: '))\n",
        "estudiantes = []\n",
        "# Crear vector estudiantes, cada lugar es un diccionario de nombre y arreglo calificaciones\n",
        "for i in estudiantes:\n",
        "  estudiantes[i] = {\"nombre\":\"\",\"calif\":[]}\n",
        "# recorremos el rango de cantidad de estudiantes, en cada vuelta utilizamos est_cap para introducir un nuevo nombre\n",
        "#cada vez que entramos al ciclo reiniciamos la var temporal estudiante_capturado para no mezclar calificaciones\n",
        "# Mientras la calificación no sea menor a 0 continúa admitiendo calificaciones\n",
        "for i in range(0,cant_est):\n",
        "  estudiante_capturado = {\"nombre\":\"\",\"calif\":[]}\n",
        "  estudiante_capturado[\"nombre\"] = input('Introduce el nombre del estudiante: ').title()\n",
        "  if estudiante_capturado['nombre'] not in estudiantes:\n",
        "    print('Estudiante no encontrado')\n",
        "    a = 0\n",
        "    while a >= 0:\n",
        "      a = float(input(f'Introduzca calificación de {estudiante_capturado[\"nombre\"]}: '))\n",
        "# verifica que la calificación exista y que se encuentre entre 0 y 10\n",
        "      if a and a >= 0 and a <= 10:\n",
        "        estudiante_capturado['calif'].append(a)\n",
        "  print(estudiante_capturado)\n",
        "# Añade el estudiante y sus calificaciones a la lista de estudiantes\n",
        "  estudiantes.append(estudiante_capturado)\n",
        "print('Calificaciones finales')\n",
        "# Recorremos estudiantes e imprimimos su nombre y promedio final\n",
        "for estudiante in estudiantes:\n",
        "  suma = 0\n",
        "  for calificacion in estudiante['calif']:\n",
        "    suma += calificacion\n",
        "  promedio = suma/len(estudiante['calif']) \n",
        "  print(f'{estudiante[\"nombre\"]}, promedio final {promedio}')\n",
        "print(estudiantes)\n"
      ],
      "metadata": {
        "id": "9XuoEorKH4S6",
        "outputId": "924c1b15-bcce-442e-a289-9af5ff42e310",
        "colab": {
          "base_uri": "https://localhost:8080/",
          "height": 450
        }
      },
      "execution_count": 15,
      "outputs": [
        {
          "output_type": "stream",
          "name": "stdout",
          "text": [
            "Estudiantes y calificaciones\n",
            "Introduzca la cantidad de estudiantes a capturar: 3\n",
            "Introduce el nombre del estudiante: Alex\n",
            "Estudiante no encontrado\n"
          ]
        },
        {
          "output_type": "error",
          "ename": "KeyboardInterrupt",
          "evalue": "ignored",
          "traceback": [
            "\u001b[0;31m---------------------------------------------------------------------------\u001b[0m",
            "\u001b[0;31mKeyboardInterrupt\u001b[0m                         Traceback (most recent call last)",
            "\u001b[0;32m<ipython-input-15-8a34a28a22e8>\u001b[0m in \u001b[0;36m<module>\u001b[0;34m\u001b[0m\n\u001b[1;32m     15\u001b[0m     \u001b[0ma\u001b[0m \u001b[0;34m=\u001b[0m \u001b[0;36m0\u001b[0m\u001b[0;34m\u001b[0m\u001b[0;34m\u001b[0m\u001b[0m\n\u001b[1;32m     16\u001b[0m     \u001b[0;32mwhile\u001b[0m \u001b[0ma\u001b[0m \u001b[0;34m>=\u001b[0m \u001b[0;36m0\u001b[0m\u001b[0;34m:\u001b[0m\u001b[0;34m\u001b[0m\u001b[0;34m\u001b[0m\u001b[0m\n\u001b[0;32m---> 17\u001b[0;31m       \u001b[0ma\u001b[0m \u001b[0;34m=\u001b[0m \u001b[0mfloat\u001b[0m\u001b[0;34m(\u001b[0m\u001b[0minput\u001b[0m\u001b[0;34m(\u001b[0m\u001b[0;34mf'Introduzca calificación de {estudiante_capturado[\"nombre\"]}: '\u001b[0m\u001b[0;34m)\u001b[0m\u001b[0;34m)\u001b[0m\u001b[0;34m\u001b[0m\u001b[0;34m\u001b[0m\u001b[0m\n\u001b[0m\u001b[1;32m     18\u001b[0m \u001b[0;31m# verifica que la calificación exista y que se encuentre entre 0 y 10\u001b[0m\u001b[0;34m\u001b[0m\u001b[0;34m\u001b[0m\u001b[0;34m\u001b[0m\u001b[0m\n\u001b[1;32m     19\u001b[0m       \u001b[0;32mif\u001b[0m \u001b[0ma\u001b[0m \u001b[0;32mand\u001b[0m \u001b[0ma\u001b[0m \u001b[0;34m>=\u001b[0m \u001b[0;36m0\u001b[0m \u001b[0;32mand\u001b[0m \u001b[0ma\u001b[0m \u001b[0;34m<=\u001b[0m \u001b[0;36m10\u001b[0m\u001b[0;34m:\u001b[0m\u001b[0;34m\u001b[0m\u001b[0;34m\u001b[0m\u001b[0m\n",
            "\u001b[0;32m/usr/local/lib/python3.8/dist-packages/ipykernel/kernelbase.py\u001b[0m in \u001b[0;36mraw_input\u001b[0;34m(self, prompt)\u001b[0m\n\u001b[1;32m    858\u001b[0m                 \u001b[0;34m\"raw_input was called, but this frontend does not support input requests.\"\u001b[0m\u001b[0;34m\u001b[0m\u001b[0;34m\u001b[0m\u001b[0m\n\u001b[1;32m    859\u001b[0m             )\n\u001b[0;32m--> 860\u001b[0;31m         return self._input_request(str(prompt),\n\u001b[0m\u001b[1;32m    861\u001b[0m             \u001b[0mself\u001b[0m\u001b[0;34m.\u001b[0m\u001b[0m_parent_ident\u001b[0m\u001b[0;34m,\u001b[0m\u001b[0;34m\u001b[0m\u001b[0;34m\u001b[0m\u001b[0m\n\u001b[1;32m    862\u001b[0m             \u001b[0mself\u001b[0m\u001b[0;34m.\u001b[0m\u001b[0m_parent_header\u001b[0m\u001b[0;34m,\u001b[0m\u001b[0;34m\u001b[0m\u001b[0;34m\u001b[0m\u001b[0m\n",
            "\u001b[0;32m/usr/local/lib/python3.8/dist-packages/ipykernel/kernelbase.py\u001b[0m in \u001b[0;36m_input_request\u001b[0;34m(self, prompt, ident, parent, password)\u001b[0m\n\u001b[1;32m    902\u001b[0m             \u001b[0;32mexcept\u001b[0m \u001b[0mKeyboardInterrupt\u001b[0m\u001b[0;34m:\u001b[0m\u001b[0;34m\u001b[0m\u001b[0;34m\u001b[0m\u001b[0m\n\u001b[1;32m    903\u001b[0m                 \u001b[0;31m# re-raise KeyboardInterrupt, to truncate traceback\u001b[0m\u001b[0;34m\u001b[0m\u001b[0;34m\u001b[0m\u001b[0;34m\u001b[0m\u001b[0m\n\u001b[0;32m--> 904\u001b[0;31m                 \u001b[0;32mraise\u001b[0m \u001b[0mKeyboardInterrupt\u001b[0m\u001b[0;34m(\u001b[0m\u001b[0;34m\"Interrupted by user\"\u001b[0m\u001b[0;34m)\u001b[0m \u001b[0;32mfrom\u001b[0m \u001b[0;32mNone\u001b[0m\u001b[0;34m\u001b[0m\u001b[0;34m\u001b[0m\u001b[0m\n\u001b[0m\u001b[1;32m    905\u001b[0m             \u001b[0;32mexcept\u001b[0m \u001b[0mException\u001b[0m \u001b[0;32mas\u001b[0m \u001b[0me\u001b[0m\u001b[0;34m:\u001b[0m\u001b[0;34m\u001b[0m\u001b[0;34m\u001b[0m\u001b[0m\n\u001b[1;32m    906\u001b[0m                 \u001b[0mself\u001b[0m\u001b[0;34m.\u001b[0m\u001b[0mlog\u001b[0m\u001b[0;34m.\u001b[0m\u001b[0mwarning\u001b[0m\u001b[0;34m(\u001b[0m\u001b[0;34m\"Invalid Message:\"\u001b[0m\u001b[0;34m,\u001b[0m \u001b[0mexc_info\u001b[0m\u001b[0;34m=\u001b[0m\u001b[0;32mTrue\u001b[0m\u001b[0;34m)\u001b[0m\u001b[0;34m\u001b[0m\u001b[0;34m\u001b[0m\u001b[0m\n",
            "\u001b[0;31mKeyboardInterrupt\u001b[0m: Interrupted by user"
          ]
        }
      ]
    },
    {
      "cell_type": "code",
      "source": [
        "print('Lista de estudiantes y sus calificaciones')\n",
        "cant_est = int(input('Introduzca la cantidad de estudiantes a capturar: '))\n",
        "estudiantes = {}\n",
        "for i in range(cant_est):\n",
        "  continuar = 0\n",
        "  while continuar == 0:\n",
        "    nombre = \"\"\n",
        "    calificaciones = []\n",
        "    nombre = input(f'Nombre: ').title()\n",
        "    if nombre in estudiantes:\n",
        "      print(f'Estudiante ya capturado. Intente nuevamente.')\n",
        "    else:\n",
        "      estudiante_capturado = {nombre: calificaciones}\n",
        "      calificacion = 0\n",
        "      while calificacion >= 0 and calificacion <= 10:\n",
        "        calificacion = float(input(f'Calificación de {nombre}: '))\n",
        "        estudiante_capturado[nombre].append(calificacion)\n",
        "      estudiantes.update(estudiante_capturado)\n",
        "      continuar = 1\n",
        "print(estudiantes)"
      ],
      "metadata": {
        "id": "UNfUJPB6OvnY",
        "outputId": "087cc502-a18f-4ecf-f0fe-b5e44c00e292",
        "colab": {
          "base_uri": "https://localhost:8080/"
        }
      },
      "execution_count": 42,
      "outputs": [
        {
          "output_type": "stream",
          "name": "stdout",
          "text": [
            "Lista de estudiantes y sus calificaciones\n",
            "Introduzca la cantidad de estudiantes a capturar: 3\n",
            "Nombre: Alex\n",
            "Calificación de Alex: 10\n",
            "Calificación de Alex: 0\n",
            "Calificación de Alex: -1\n",
            "Nombre: Alex\n",
            "Estudiante ya capturado. Intente nuevamente.\n",
            "Nombre: Adad\n",
            "Calificación de Adad: 10\n",
            "Calificación de Adad: 9\n",
            "Calificación de Adad: -2\n",
            "Nombre: Adad\n",
            "Estudiante ya capturado. Intente nuevamente.\n",
            "Nombre: Ilia\n",
            "Calificación de Ilia: 5\n",
            "Calificación de Ilia: -2\n",
            "{'Alex': [10.0, 0.0, -1.0], 'Adad': [10.0, 9.0, -2.0], 'Ilia': [5.0, -2.0]}\n"
          ]
        }
      ]
    },
    {
      "cell_type": "markdown",
      "source": [
        "## 4.5 Ejercicio 5 (1.2 puntos)\n",
        "Crea una tupla con los meses del año, pide números al usuario, si el número está entre 1 y la longitud máxima de la tupla, muestra el contenido de esa posición sino muestra un mensaje de error. El programa termina cuando el usuario introduce un cero."
      ],
      "metadata": {
        "id": "JNhFWsuJbe7N"
      }
    },
    {
      "cell_type": "code",
      "source": [
        "meses = ('Enero','Febrero','Marzo','Abril','Mayo','Junio','Julio','Agosto','Septiembre','Octubre','Noviembre','Diciembre')\n",
        "numero = -1\n",
        "while numero != 0:\n",
        "  numero = int(input('Introduzca un número (para terminar el programa escriba 0): '))\n",
        "  if numero > 0 and numero < 13:\n",
        "    print(meses[numero - 1])\n",
        "  elif numero == 0:\n",
        "    print(f'Programa terminado')\n",
        "  else:\n",
        "    print(f'El número {numero} no es válido. Intente nuevamente')\n"
      ],
      "metadata": {
        "id": "zn9Qw_mlbgw0",
        "outputId": "0eae3eac-f1aa-4ca4-f691-d7a9d745d30c",
        "colab": {
          "base_uri": "https://localhost:8080/"
        }
      },
      "execution_count": null,
      "outputs": [
        {
          "output_type": "stream",
          "name": "stdout",
          "text": [
            "Introduzca un número (para terminar el programa escriba 0): -5\n",
            "El número -5 no es válido. Intente nuevamente\n",
            "Introduzca un número (para terminar el programa escriba 0): 13\n",
            "El número 13 no es válido. Intente nuevamente\n",
            "Introduzca un número (para terminar el programa escriba 0): 2\n",
            "Febrero\n",
            "Introduzca un número (para terminar el programa escriba 0): 5\n",
            "Mayo\n",
            "Introduzca un número (para terminar el programa escriba 0): 12\n",
            "Diciembre\n",
            "Introduzca un número (para terminar el programa escriba 0): 0\n",
            "Programa terminado\n"
          ]
        }
      ]
    }
  ]
}
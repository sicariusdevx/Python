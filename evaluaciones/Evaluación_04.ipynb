{
  "nbformat": 4,
  "nbformat_minor": 0,
  "metadata": {
    "colab": {
      "provenance": [],
      "authorship_tag": "ABX9TyNSfZO2vx6+pX9YftEtSbwJ",
      "include_colab_link": true
    },
    "kernelspec": {
      "name": "python3",
      "display_name": "Python 3"
    },
    "language_info": {
      "name": "python"
    }
  },
  "cells": [
    {
      "cell_type": "markdown",
      "metadata": {
        "id": "view-in-github",
        "colab_type": "text"
      },
      "source": [
        "<a href=\"https://colab.research.google.com/github/sicariusdevx/Python/blob/main/evaluaciones/Evaluaci%C3%B3n_04.ipynb\" target=\"_parent\"><img src=\"https://colab.research.google.com/assets/colab-badge.svg\" alt=\"Open In Colab\"/></a>"
      ]
    },
    {
      "cell_type": "markdown",
      "source": [
        "# Práctica 4.\n",
        "6 puntos\n",
        "\n",
        "Tipos de colección de datos.\n",
        "\n",
        "## 4.1 Ejercicio 1(1.2 puntos)\n",
        "Realizar un programa que inicialice una lista con 10 valores aleatorios (del 1 al 10) y posteriormente muestre en pantalla cada elemento de la lista junto con su cuadrado y su cubo. Respuesta:"
      ],
      "metadata": {
        "id": "OPFVoXactLE_"
      }
    },
    {
      "cell_type": "code",
      "execution_count": null,
      "metadata": {
        "id": "1o_haapEsdkh",
        "colab": {
          "base_uri": "https://localhost:8080/"
        },
        "outputId": "516fc43a-3e5b-4829-9f0a-e3cfd7e5518e"
      },
      "outputs": [
        {
          "output_type": "stream",
          "name": "stdout",
          "text": [
            "[2, 7, 4, 2, 9, 6, 6, 10, 5, 6]\n",
            "[4, 49, 16, 4, 81, 36, 36, 100, 25, 36]\n",
            "[8, 343, 64, 8, 729, 216, 216, 1000, 125, 216]\n"
          ]
        }
      ],
      "source": [
        "from random import randint\n",
        "\n",
        "valores = []\n",
        "valores.append(randint(1,10))\n",
        "valores.append(randint(1,10))\n",
        "valores.append(randint(1,10))\n",
        "valores.append(randint(1,10))\n",
        "valores.append(randint(1,10))\n",
        "valores.append(randint(1,10))\n",
        "valores.append(randint(1,10))\n",
        "valores.append(randint(1,10))\n",
        "valores.append(randint(1,10))\n",
        "valores.append(randint(1,10))\n",
        "print(valores)\n",
        "valores_cuadr = []\n",
        "valores_cuadr.append(valores[0]**2)\n",
        "valores_cuadr.append(valores[1]**2)\n",
        "valores_cuadr.append(valores[2]**2)\n",
        "valores_cuadr.append(valores[3]**2)\n",
        "valores_cuadr.append(valores[4]**2)\n",
        "valores_cuadr.append(valores[5]**2)\n",
        "valores_cuadr.append(valores[6]**2)\n",
        "valores_cuadr.append(valores[7]**2)\n",
        "valores_cuadr.append(valores[8]**2)\n",
        "valores_cuadr.append(valores[9]**2)\n",
        "print(valores_cuadr)\n",
        "valores_cubo = []\n",
        "valores_cubo.append(valores[0]**3)\n",
        "valores_cubo.append(valores[1]**3)\n",
        "valores_cubo.append(valores[2]**3)\n",
        "valores_cubo.append(valores[3]**3)\n",
        "valores_cubo.append(valores[4]**3)\n",
        "valores_cubo.append(valores[5]**3)\n",
        "valores_cubo.append(valores[6]**3)\n",
        "valores_cubo.append(valores[7]**3)\n",
        "valores_cubo.append(valores[8]**3)\n",
        "valores_cubo.append(valores[9]**3)\n",
        "print(valores_cubo)\n"
      ]
    },
    {
      "cell_type": "markdown",
      "source": [
        "## 4.2 Ejercicio 2 (1.2 puntos)\n",
        "Crea una lista e inicializarla con 5 cadenas de caracteres leídas por teclado. Copia los elementos de la lista en otra lista pero en orden inverso, y muestra sus elementos por la pantalla."
      ],
      "metadata": {
        "id": "gg-1pOeuxfBG"
      }
    },
    {
      "cell_type": "code",
      "source": [
        "print('Lista invertida')\n",
        "lista_char = []\n",
        "lista_char.append(input('Introduce una letra: '))\n",
        "lista_char.append(input('Introduce una letra: '))\n",
        "lista_char.append(input('Introduce una letra: '))\n",
        "lista_char.append(input('Introduce una letra: '))\n",
        "lista_char.append(input('Introduce una letra: '))\n",
        "print(lista_char)\n",
        "lista_inv = []\n",
        "lista_inv.append(lista_char[-1])\n",
        "lista_inv.append(lista_char[-2])\n",
        "lista_inv.append(lista_char[-3])\n",
        "lista_inv.append(lista_char[-4])\n",
        "lista_inv.append(lista_char[-5])\n",
        "print(lista_inv)"
      ],
      "metadata": {
        "colab": {
          "base_uri": "https://localhost:8080/"
        },
        "id": "7w0JSbCaEU2D",
        "outputId": "f39caae4-5a1b-42bd-953d-61390db9d794"
      },
      "execution_count": 3,
      "outputs": [
        {
          "output_type": "stream",
          "name": "stdout",
          "text": [
            "Lista invertida\n",
            "Introduce una letra: a\n",
            "Introduce una letra: b\n",
            "Introduce una letra: c\n",
            "Introduce una letra: d\n",
            "Introduce una letra: e\n",
            "['a', 'b', 'c', 'd', 'e']\n",
            "['e', 'd', 'c', 'b', 'a']\n"
          ]
        }
      ]
    },
    {
      "cell_type": "markdown",
      "source": [
        "## 4.3 Ejercicio 3 (1.2 puntos)\n",
        "Se quiere realizar un programa que lea por teclado las 5 notas obtenidas por un alumno (comprendidas entre 0 y 10). A continuación debe mostrar todas las notas, la nota media, la nota más alta que ha sacado y la menor."
      ],
      "metadata": {
        "id": "75KQIfhUGBd5"
      }
    },
    {
      "cell_type": "code",
      "source": [
        "notas = []\n",
        "notas.append(float(input(\"Primera calificación: \")))\n",
        "notas.append(float(input(\"Segunda calificación: \")))\n",
        "notas.append(float(input(\"Tercera calificación: \")))\n",
        "notas.append(float(input(\"Cuarta  calificación: \")))\n",
        "notas.append(float(input(\"Quinta  calificación: \")))\n",
        "notas.append(float(input(\"Sexta   calificación: \")))\n",
        "notas.append(float(input(\"Séptima calificación: \")))\n",
        "notas.append(float(input(\"Octava  calificación: \")))\n",
        "notas.append(float(input(\"Novena  calificación: \")))\n",
        "notas.append(float(input(\"Décima  calificación: \")))\n",
        "print(f'Calificaciones: {notas}')\n",
        "print(f'Calificación media: {sum(notas)/len(notas)}')\n",
        "print(f'Nota más alta: {max(notas)}')\n",
        "print(f'Nota menor: {min(notas)}')\n"
      ],
      "metadata": {
        "colab": {
          "base_uri": "https://localhost:8080/"
        },
        "id": "ETXaXkWdGHBU",
        "outputId": "1008e8cd-1661-4a52-8b45-b6b5d9c806b7"
      },
      "execution_count": 5,
      "outputs": [
        {
          "output_type": "stream",
          "name": "stdout",
          "text": [
            "Primera calificación: 9.2\n",
            "Segunda calificación: 8.4\n",
            "Tercera calificación: 10\n",
            "Cuarta  calificación: 7.5\n",
            "Quinta  calificación: 6.7\n",
            "Sexta   calificación: 9.5\n",
            "Séptima calificación: 9.4\n",
            "Octava  calificación: 9.8\n",
            "Novena  calificación: 7.3\n",
            "Décima  calificación: 6.9\n",
            "Calificaciones: [9.2, 8.4, 10.0, 7.5, 6.7, 9.5, 9.4, 9.8, 7.3, 6.9]\n",
            "Calificación media: 8.47\n",
            "Nota más alta: 10.0\n",
            "Nota menor: 6.7\n"
          ]
        }
      ]
    },
    {
      "cell_type": "markdown",
      "source": [
        "## 4.4 Ejercicio 4 (1.2 puntos)\n",
        "Codifica un programa en python que nos permita guardar los nombres de los alumnos de una clase y las notas que han obtenido. Cada alumno puede tener distinta cantidad de notas. Guarda la información en un diccionario cuya claves serán los nombres de los alumnos y los valores serán listados con las notas de cada alumno.\n",
        "\n",
        "El programa pedirá el número de alumnos que vamos a introducir, pedirá su nombre e irá pidiendo sus notas hasta que introduzcamos un número negativo. Al final el programa nos mostrará la lista de alumnos y la nota media obtenida por cada uno de ellos. Nota: si se introduce el nombre de un alumno que ya existe el programa nos dará un error."
      ],
      "metadata": {
        "id": "ur6j-EeFHxKs"
      }
    },
    {
      "cell_type": "code",
      "source": [
        "print('Estudiantes y calificaciones')\n",
        "cant_est = int(input('Introduzca la cantidad de estudiantes a capturar: '))\n",
        "estudiantes = [0:cant_est-1]\n",
        "estudiante_capturado = dict('nombre':'','calificaciones':[])\n",
        "for i in estudiantes:\n",
        "  estudiantes[]\n",
        "  estudiante_capturado['nombre'] = input('Introduce el nombre del estudiante:')\n",
        "  for j in estudiantes:\n",
        "    if estudiante_capturado['nombre'] = estudiantes[j['nombre']]:\n",
        "      print('Estudiante ya capturado')\n",
        "    else:\n",
        "      estudiantes.append(dict('nombre')) = estudiante_capturado['nombre']\n",
        "      estudiantes\n"
      ],
      "metadata": {
        "id": "9XuoEorKH4S6"
      },
      "execution_count": null,
      "outputs": []
    }
  ]
}
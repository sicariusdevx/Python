{
  "nbformat": 4,
  "nbformat_minor": 0,
  "metadata": {
    "colab": {
      "provenance": [],
      "authorship_tag": "ABX9TyMsWXzN6B0MzcsjA05JQzng",
      "include_colab_link": true
    },
    "kernelspec": {
      "name": "python3",
      "display_name": "Python 3"
    },
    "language_info": {
      "name": "python"
    }
  },
  "cells": [
    {
      "cell_type": "markdown",
      "metadata": {
        "id": "view-in-github",
        "colab_type": "text"
      },
      "source": [
        "<a href=\"https://colab.research.google.com/github/sicariusdevx/Python/blob/main/evaluaciones/evaluaci%C3%B3n6.ipynb\" target=\"_parent\"><img src=\"https://colab.research.google.com/assets/colab-badge.svg\" alt=\"Open In Colab\"/></a>"
      ]
    },
    {
      "cell_type": "markdown",
      "source": [
        "Ejercicio 1. (1.5 puntos) Realizar un ejemplo de menú, donde podemos escoger las distintas opciones hasta que seleccionamos la opción de “Salir”."
      ],
      "metadata": {
        "id": "9mNI0uLWayb9"
      }
    },
    {
      "cell_type": "code",
      "execution_count": null,
      "metadata": {
        "id": "Jfasv90baxmT",
        "colab": {
          "base_uri": "https://localhost:8080/"
        },
        "outputId": "cb2a4692-85ae-4932-bbb6-447594791fe7"
      },
      "outputs": [
        {
          "name": "stdout",
          "output_type": "stream",
          "text": [
            "\n",
            "    Recomendaciones de cine\n",
            "    Géneros disponibles:\n",
            "\n",
            "    (1) Niños\n",
            "    (2) Acción\n",
            "    (3) Animación\n",
            "    (4) Suspenso\n",
            "    (5) Exploitation\n",
            "    (6) Cine Mudo\n",
            "    (7) Documental\n",
            "    (8) Salir\n",
            "Seleccione una opción: 2\n",
            "\n",
            "\n",
            "En el género de acción te recomendamos: Apocalypse Now (Ford Coppola, 1979)\n",
            "Presione una tecla para continuar...5\n",
            "\n",
            "    Recomendaciones de cine\n",
            "    Géneros disponibles:\n",
            "\n",
            "    (1) Niños\n",
            "    (2) Acción\n",
            "    (3) Animación\n",
            "    (4) Suspenso\n",
            "    (5) Exploitation\n",
            "    (6) Cine Mudo\n",
            "    (7) Documental\n",
            "    (8) Salir\n",
            "Seleccione una opción: 8\n",
            "\n",
            "\n",
            "Programa terminado.\n",
            "Presione una tecla para continuar...\n"
          ]
        }
      ],
      "source": [
        "seleccion = 0\n",
        "while seleccion != 8:\n",
        "  print('''\n",
        "    Recomendaciones de cine\n",
        "    Géneros disponibles:\n",
        "\n",
        "    (1) Niños\n",
        "    (2) Acción\n",
        "    (3) Animación\n",
        "    (4) Suspenso\n",
        "    (5) Exploitation\n",
        "    (6) Cine Mudo\n",
        "    (7) Documental\n",
        "    (8) Salir''')\n",
        "  seleccion = int(input(f'Seleccione una opción: '))\n",
        "  print('\\n')\n",
        "  if seleccion == 1:\n",
        "    print('En el género infantil te recomendamos: Wall-E (Stanton, 2008')\n",
        "  elif seleccion == 2:\n",
        "    print('En el género de acción te recomendamos: Apocalypse Now (Ford Coppola, 1979)')\n",
        "  elif seleccion == 3:\n",
        "    print('En el género de animación te recomendamos: Akira (Otomo, 1988)')\n",
        "  elif seleccion == 4:\n",
        "    print('En el género de suspenso te recomendamos: Se7en (Fincher, 1995)')\n",
        "  elif seleccion == 5:\n",
        "    print('En el género de exploitation te recomendamos: Assault on precinct 13 (Carpenter, 1976)')\n",
        "  elif seleccion == 6:\n",
        "    print('En el género de cine mudo te recomendamos: Metropolis (Lang, 1927)')\n",
        "  elif seleccion == 7:\n",
        "    print('En el género de documental te recomendamos: Searching for sugarman (Bendjelloul, 2013)')\n",
        "  elif seleccion == 8:\n",
        "    print('Programa terminado.')\n",
        "  else:\n",
        "    print('Seleccione una opción válida')\n",
        "  input(\"Presione una tecla para continuar...\")\n",
        "  \n",
        "  \n",
        "\n",
        "  \n",
        "\n"
      ]
    },
    {
      "cell_type": "markdown",
      "source": [
        "Ejercicio 2. (1.5 puntos) Mostrar en pantalla los N primero número primos. Se pide por teclado la cantidad de números primos que queremos mostrar."
      ],
      "metadata": {
        "id": "sOOKJiKKhMsN"
      }
    },
    {
      "cell_type": "code",
      "source": [
        "contador = 0\n",
        "numero = 2\n",
        "cantidad = int(input(f'Introduzca la cantidad de números primos que desea obtener: '))\n",
        "while contador < cantidad:\n",
        "  divisores = 0\n",
        "  for recorrido in range(numero,0,-1):\n",
        "    if numero % recorrido == 0:\n",
        "      divisores += 1\n",
        "  #print(f'El numero {numero} tiene {divisores} divisores')\n",
        "  if divisores == 2:\n",
        "    print(f'El número {numero} es primo')\n",
        "    contador += 1\n",
        "  numero += 1\n",
        "    \n",
        "\n",
        "\n",
        "\n"
      ],
      "metadata": {
        "colab": {
          "base_uri": "https://localhost:8080/"
        },
        "id": "nA8U64ZDhMyi",
        "outputId": "9246cc62-3271-47fc-b241-2290c97e7219"
      },
      "execution_count": 4,
      "outputs": [
        {
          "output_type": "stream",
          "name": "stdout",
          "text": [
            "Introduzca la cantidad de números primos que desea obtener: 5\n",
            "El número 2 es primo\n",
            "El número 3 es primo\n",
            "El número 5 es primo\n",
            "El número 7 es primo\n",
            "El número 11 es primo\n"
          ]
        }
      ]
    },
    {
      "cell_type": "markdown",
      "source": [
        "Ejercicio 3. (1.5 puntos) Una persona adquirió un producto para pagar en 20 meses. El primer mes pagó 10 €, el segundo 20 €, el tercero 40 € y así sucesivamente. Realizar un algoritmo para determinar cuánto debe pagar mensualmente y el total de lo que pagó después de los 20 meses."
      ],
      "metadata": {
        "id": "QP4y6N_GhM4L"
      }
    },
    {
      "cell_type": "code",
      "source": [
        "meses = 20\n",
        "suma_pago = 0\n",
        "for mes in range(meses):\n",
        "  pago = 10*(2**mes)\n",
        "  suma_pago = suma_pago + pago\n",
        "  print(f'Mes {mes+1}: ${pago}')\n",
        "print(f'Total a pagar en {meses} meses: ${suma_pago}')\n"
      ],
      "metadata": {
        "id": "Erm8tNnYhM96",
        "outputId": "7504e09f-a6b9-4779-ec45-79c28f37be53",
        "colab": {
          "base_uri": "https://localhost:8080/"
        }
      },
      "execution_count": 7,
      "outputs": [
        {
          "output_type": "stream",
          "name": "stdout",
          "text": [
            "Mes 1: $10\n",
            "Mes 2: $20\n",
            "Mes 3: $40\n",
            "Mes 4: $80\n",
            "Mes 5: $160\n",
            "Mes 6: $320\n",
            "Mes 7: $640\n",
            "Mes 8: $1280\n",
            "Mes 9: $2560\n",
            "Mes 10: $5120\n",
            "Mes 11: $10240\n",
            "Mes 12: $20480\n",
            "Mes 13: $40960\n",
            "Mes 14: $81920\n",
            "Mes 15: $163840\n",
            "Mes 16: $327680\n",
            "Mes 17: $655360\n",
            "Mes 18: $1310720\n",
            "Mes 19: $2621440\n",
            "Mes 20: $5242880\n",
            "Total a pagar en 20 meses: $10485750\n"
          ]
        }
      ]
    },
    {
      "cell_type": "markdown",
      "source": [
        "Ejercicio 4. (1.5 puntos) Crea una aplicación que pida un número y calcule su factorial (El factorial de un número es el producto de todos los enteros entre 1 y el propio número y se representa por el número seguido de un signo de exclamación. Por ejemplo 5! = 1x2x3x4x5=120)."
      ],
      "metadata": {
        "id": "4MdXo24vhNCy"
      }
    },
    {
      "cell_type": "code",
      "source": [
        "numero = int(input(\"Introduzca un número entero: \"))\n",
        "factorial = 1\n",
        "for i in range (1,numero+1):\n",
        "  factorial = i * factorial\n",
        "print(f'{numero}! = {factorial}')"
      ],
      "metadata": {
        "id": "GBlcaBFihNIK",
        "outputId": "d83ea995-7a5b-4022-a674-d0d897595ef1",
        "colab": {
          "base_uri": "https://localhost:8080/"
        }
      },
      "execution_count": 10,
      "outputs": [
        {
          "output_type": "stream",
          "name": "stdout",
          "text": [
            "Introduzca un número entero: 500\n",
            "500! = 1220136825991110068701238785423046926253574342803192842192413588385845373153881997605496447502203281863013616477148203584163378722078177200480785205159329285477907571939330603772960859086270429174547882424912726344305670173270769461062802310452644218878789465754777149863494367781037644274033827365397471386477878495438489595537537990423241061271326984327745715546309977202781014561081188373709531016356324432987029563896628911658974769572087926928871281780070265174507768410719624390394322536422605234945850129918571501248706961568141625359056693423813008856249246891564126775654481886506593847951775360894005745238940335798476363944905313062323749066445048824665075946735862074637925184200459369692981022263971952597190945217823331756934581508552332820762820023402626907898342451712006207714640979456116127629145951237229913340169552363850942885592018727433795173014586357570828355780158735432768888680120399882384702151467605445407663535984174430480128938313896881639487469658817504506926365338175055478128640000000000000000000000000000000000000000000000000000000000000000000000000000000000000000000000000000000000000000000000000000\n"
          ]
        }
      ]
    }
  ]
}
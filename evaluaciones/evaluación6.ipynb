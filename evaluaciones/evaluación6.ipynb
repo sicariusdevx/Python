{
  "nbformat": 4,
  "nbformat_minor": 0,
  "metadata": {
    "colab": {
      "provenance": [],
      "authorship_tag": "ABX9TyOD7KXtslm6q1w+66Szd9V/",
      "include_colab_link": true
    },
    "kernelspec": {
      "name": "python3",
      "display_name": "Python 3"
    },
    "language_info": {
      "name": "python"
    }
  },
  "cells": [
    {
      "cell_type": "markdown",
      "metadata": {
        "id": "view-in-github",
        "colab_type": "text"
      },
      "source": [
        "<a href=\"https://colab.research.google.com/github/sicariusdevx/Python/blob/main/evaluaciones/evaluaci%C3%B3n6.ipynb\" target=\"_parent\"><img src=\"https://colab.research.google.com/assets/colab-badge.svg\" alt=\"Open In Colab\"/></a>"
      ]
    },
    {
      "cell_type": "markdown",
      "source": [
        "Ejercicio 1. (1.5 puntos) Realizar un ejemplo de menú, donde podemos escoger las distintas opciones hasta que seleccionamos la opción de “Salir”."
      ],
      "metadata": {
        "id": "9mNI0uLWayb9"
      }
    },
    {
      "cell_type": "code",
      "execution_count": 13,
      "metadata": {
        "id": "Jfasv90baxmT",
        "colab": {
          "base_uri": "https://localhost:8080/"
        },
        "outputId": "cb2a4692-85ae-4932-bbb6-447594791fe7"
      },
      "outputs": [
        {
          "name": "stdout",
          "output_type": "stream",
          "text": [
            "\n",
            "    Recomendaciones de cine\n",
            "    Géneros disponibles:\n",
            "\n",
            "    (1) Niños\n",
            "    (2) Acción\n",
            "    (3) Animación\n",
            "    (4) Suspenso\n",
            "    (5) Exploitation\n",
            "    (6) Cine Mudo\n",
            "    (7) Documental\n",
            "    (8) Salir\n",
            "Seleccione una opción: 2\n",
            "\n",
            "\n",
            "En el género de acción te recomendamos: Apocalypse Now (Ford Coppola, 1979)\n",
            "Presione una tecla para continuar...5\n",
            "\n",
            "    Recomendaciones de cine\n",
            "    Géneros disponibles:\n",
            "\n",
            "    (1) Niños\n",
            "    (2) Acción\n",
            "    (3) Animación\n",
            "    (4) Suspenso\n",
            "    (5) Exploitation\n",
            "    (6) Cine Mudo\n",
            "    (7) Documental\n",
            "    (8) Salir\n",
            "Seleccione una opción: 8\n",
            "\n",
            "\n",
            "Programa terminado.\n",
            "Presione una tecla para continuar...\n"
          ]
        }
      ],
      "source": [
        "seleccion = 0\n",
        "while seleccion != 8:\n",
        "  print('''\n",
        "    Recomendaciones de cine\n",
        "    Géneros disponibles:\n",
        "\n",
        "    (1) Niños\n",
        "    (2) Acción\n",
        "    (3) Animación\n",
        "    (4) Suspenso\n",
        "    (5) Exploitation\n",
        "    (6) Cine Mudo\n",
        "    (7) Documental\n",
        "    (8) Salir''')\n",
        "  seleccion = int(input(f'Seleccione una opción: '))\n",
        "  print('\\n')\n",
        "  if seleccion == 1:\n",
        "    print('En el género infantil te recomendamos: Wall-E (Stanton, 2008')\n",
        "  elif seleccion == 2:\n",
        "    print('En el género de acción te recomendamos: Apocalypse Now (Ford Coppola, 1979)')\n",
        "  elif seleccion == 3:\n",
        "    print('En el género de animación te recomendamos: Akira (Otomo, 1988)')\n",
        "  elif seleccion == 4:\n",
        "    print('En el género de suspenso te recomendamos: Se7en (Fincher, 1995)')\n",
        "  elif seleccion == 5:\n",
        "    print('En el género de exploitation te recomendamos: Assault on precinct 13 (Carpenter, 1976)')\n",
        "  elif seleccion == 6:\n",
        "    print('En el género de cine mudo te recomendamos: Metropolis (Lang, 1927)')\n",
        "  elif seleccion == 7:\n",
        "    print('En el género de documental te recomendamos: Searching for sugarman (Bendjelloul, 2013)')\n",
        "  elif seleccion == 8:\n",
        "    print('Programa terminado.')\n",
        "  else:\n",
        "    print('Seleccione una opción válida')\n",
        "  input(\"Presione una tecla para continuar...\")\n",
        "  \n",
        "  \n",
        "\n",
        "  \n",
        "\n"
      ]
    },
    {
      "cell_type": "markdown",
      "source": [
        "Ejercicio 2. (1.5 puntos) Mostrar en pantalla los N primero número primos. Se pide por teclado la cantidad de números primos que queremos mostrar."
      ],
      "metadata": {
        "id": "sOOKJiKKhMsN"
      }
    },
    {
      "cell_type": "code",
      "source": [
        "contador = 0\n",
        "numero = 2\n",
        "cantidad = int(input(f'Introduzca la cantidad de números primos que desea obtener: '))\n",
        "while contador <= cantidad:\n",
        "  divisores = 0\n",
        "  for recorrido in range(numero,0,-1):\n",
        "    if numero % recorrido == 0:\n",
        "      divisores += 1\n",
        "  #print(f'El numero {numero} tiene {divisores} divisores')\n",
        "  if divisores == 2:\n",
        "    print(f'El número {numero} es primo')\n",
        "    contador += 1\n",
        "  numero += 1\n",
        "    \n",
        "\n",
        "\n",
        "\n"
      ],
      "metadata": {
        "colab": {
          "base_uri": "https://localhost:8080/"
        },
        "id": "nA8U64ZDhMyi",
        "outputId": "9b788881-6354-4069-d23a-19f5a02d71a8"
      },
      "execution_count": 18,
      "outputs": [
        {
          "output_type": "stream",
          "name": "stdout",
          "text": [
            "Introduzca la cantidad de números primos que desea obtener: 7\n",
            "El número 2 es primo\n",
            "El número 3 es primo\n",
            "El número 5 es primo\n",
            "El número 7 es primo\n",
            "El número 11 es primo\n",
            "El número 13 es primo\n",
            "El número 17 es primo\n",
            "El número 19 es primo\n"
          ]
        }
      ]
    },
    {
      "cell_type": "markdown",
      "source": [
        "Ejercicio 3. (1.5 puntos) Una persona adquirió un producto para pagar en 20 meses. El primer mes pagó 10 €, el segundo 20 €, el tercero 40 € y así sucesivamente. Realizar un algoritmo para determinar cuánto debe pagar mensualmente y el total de lo que pagó después de los 20 meses."
      ],
      "metadata": {
        "id": "QP4y6N_GhM4L"
      }
    },
    {
      "cell_type": "code",
      "source": [],
      "metadata": {
        "id": "Erm8tNnYhM96"
      },
      "execution_count": null,
      "outputs": []
    },
    {
      "cell_type": "markdown",
      "source": [
        "Ejercicio 4. (1.5 puntos) Crea una aplicación que pida un número y calcule su factorial (El factorial de un número es el producto de todos los enteros entre 1 y el propio número y se representa por el número seguido de un signo de exclamación. Por ejemplo 5! = 1x2x3x4x5=120)."
      ],
      "metadata": {
        "id": "4MdXo24vhNCy"
      }
    },
    {
      "cell_type": "code",
      "source": [],
      "metadata": {
        "id": "GBlcaBFihNIK"
      },
      "execution_count": null,
      "outputs": []
    }
  ]
}
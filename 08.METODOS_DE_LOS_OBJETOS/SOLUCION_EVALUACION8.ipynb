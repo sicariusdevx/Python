{
  "nbformat": 4,
  "nbformat_minor": 0,
  "metadata": {
    "colab": {
      "name": "EVALUACION8.ipynb",
      "provenance": [],
      "include_colab_link": true
    },
    "kernelspec": {
      "name": "python3",
      "display_name": "Python 3"
    },
    "language_info": {
      "name": "python"
    }
  },
  "cells": [
    {
      "cell_type": "markdown",
      "metadata": {
        "id": "view-in-github",
        "colab_type": "text"
      },
      "source": [
        "<a href=\"https://colab.research.google.com/github/escuelaDeCodigoMargaritaMaza/Python/blob/main/08.METODOS_DE_LOS_OBJETOS/SOLUCION_EVALUACION8.ipynb\" target=\"_parent\"><img src=\"https://colab.research.google.com/assets/colab-badge.svg\" alt=\"Open In Colab\"/></a>"
      ]
    },
    {
      "cell_type": "markdown",
      "source": [
        "# **Práctica 8. (6 puntos)**"
      ],
      "metadata": {
        "id": "GrDn_g3q04G6"
      }
    },
    {
      "cell_type": "markdown",
      "source": [
        "## **Ejercicio 1 (2 puntos)**\n",
        "\n",
        "Escribe un programa python que pida un número por teclado y que cree un diccionario cuyas claves sean desde el número 1 hasta el número indicado, y los valores sean los cuadrados de las claves.\n",
        "\n",
        "Ejemplo: si se ingresa el 4 imprima el cuadrado de 1, de 2, de 3 y de 4"
      ],
      "metadata": {
        "id": "ZaOOdYUn07zQ"
      }
    },
    {
      "cell_type": "code",
      "source": [
        "rango_numeros = int(input(\"Digita un numero: \"))\n",
        "numeros_al_cuadrado = {}\n",
        "\n",
        "for i in range(1, rango_numeros+1):\n",
        "  numeros_al_cuadrado[i] = i**2\n",
        "print(numeros_al_cuadrado)"
      ],
      "metadata": {
        "id": "JMGHwYhU4Q-n"
      },
      "execution_count": null,
      "outputs": []
    },
    {
      "cell_type": "markdown",
      "source": [
        "## **Ejercicio 2 (2 puntos)**\n",
        "\n",
        "Escribe un programa que lea una cadena y devuelva un diccionario con la cantidad de apariciones de cada carácter en la cadena.\n",
        "\n",
        "Ejemplo: si se ingresa \"paloma\" p=1 a=2 l=1 o=1 m=1"
      ],
      "metadata": {
        "id": "asCozCdr1FSP"
      }
    },
    {
      "cell_type": "code",
      "source": [
        "palabras = {}\n",
        "cadena_chars = input(\"Escribe una oración: \")\n",
        "\n",
        "for char in cadena_chars:\n",
        "\tif char in palabras:\n",
        "\t\tpalabras[char] = palabras[char] + 1 #se genera un contador, para que vaya acumulando el número de veces que aparece ese carácter.\n",
        "\telse:\n",
        "\t\tpalabras[char] = 1\n",
        "\n",
        "for clave, valor in palabras.items():\n",
        "\tprint (\"El carácter:\",clave,\" Aparece\",valor,\"veces.\")\n"
      ],
      "metadata": {
        "id": "475JTCjq4R9k"
      },
      "execution_count": null,
      "outputs": []
    },
    {
      "cell_type": "markdown",
      "source": [
        "## **Ejercicio 3 (2 puntos)**\n",
        "\n",
        "Vamos a crear un programa en python donde vamos a declarar un diccionario para guardar los precios de las distintas frutas. El programa pedirá el nombre de la fruta y la cantidad que se ha vendido y nos mostrará el precio final de la fruta a partir de los datos guardados en el diccionario. Si la fruta no existe nos dará un error. Tras cada consulta el programa nos preguntará si queremos hacer otra consulta."
      ],
      "metadata": {
        "id": "eeKjM3vu1JmO"
      }
    },
    {
      "cell_type": "code",
      "execution_count": null,
      "metadata": {
        "id": "aBt67xLjitXN"
      },
      "outputs": [],
      "source": [
        "precio = {\"mango\":7, \"melón\":25, \"manzana\":10, \"mamey\":30}\n",
        "print(precio)\n",
        "venta = True\n",
        "while venta:\n",
        "  fruta = input(\"Registra la fruta que se vendio: \")\n",
        "  if fruta.lower() in precio:\n",
        "    cantidad = int(input(\"Registra la cantidad vendida: \"))\n",
        "    print(\"El precio a pagar es de: \",cantidad * precio[fruta])\n",
        "  else: \n",
        "    print(\"No se encuentra en stock.\")\n",
        "  consulta = input(\"¿Desea realizar otra consulta?\\nsi o no:\\n\")\n",
        "  if consulta.lower() == \"no\":\n",
        "    venta = False"
      ]
    }
  ]
}